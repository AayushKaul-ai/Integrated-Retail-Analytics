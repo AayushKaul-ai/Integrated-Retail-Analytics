{
  "cells": [
    {
      "cell_type": "markdown",
      "metadata": {
        "id": "vncDsAP0Gaoa"
      },
      "source": [
        "# **Project Name**    - Integrated Retail Analytics for store optimization and demand forecasting.\n",
        "\n"
      ]
    },
    {
      "cell_type": "markdown",
      "metadata": {
        "id": "beRrZCGUAJYm"
      },
      "source": [
        "##### **Project Type**    - Regression & Collaborative Filtering\n",
        "##### **Contribution**    - Individual\n",
        "##### **By -** Aayush Kaul\n"
      ]
    },
    {
      "cell_type": "markdown",
      "metadata": {
        "id": "FJNUwmbgGyua"
      },
      "source": [
        "# **Project Summary -**"
      ]
    },
    {
      "cell_type": "markdown",
      "metadata": {
        "id": "F6v_1wHtG2nS"
      },
      "source": [
        "Objective\n",
        "\n",
        "The project aims to optimize retail store performance by leveraging machine learning and data analysis to:\n",
        "\n",
        "Forecast sales at store–department level,\n",
        "\n",
        "Understand customer purchasing patterns,\n",
        "\n",
        "Recommend products/departments for promotions,\n",
        "\n",
        "Support data-driven decisions in inventory, staffing, and marketing.\n",
        "\n",
        "🔹 Data Used\n",
        "\n",
        "Stores dataset → store type, size, identifiers.\n",
        "\n",
        "Features dataset → economic indicators (CPI, Unemployment), holidays, markdowns (promotions).\n",
        "\n",
        "Sales dataset → weekly sales by store and department.\n",
        "\n",
        "Key preprocessing steps:\n",
        "\n",
        "Handling missing values (markdowns → imputed with 0, flags created).\n",
        "\n",
        "Feature engineering: lag features, rolling averages, temporal variables (year, month, week).\n",
        "\n",
        "Encoding store types and creating dummy variables.\n",
        "\n",
        "🔹 Machine Learning Models\n",
        "1. Sales Forecasting Model (Regression)\n",
        "\n",
        "Goal: Predict weekly sales for each store–department.\n",
        "\n",
        "Approach: Supervised regression (Random Forest / LightGBM / XGBoost).\n",
        "\n",
        "Features: Store attributes, markdowns, economic indicators, lag/rolling sales.\n",
        "\n",
        "Outcome:\n",
        "\n",
        "RMSE used for evaluation.\n",
        "\n",
        "Identified seasonal trends, impact of promotions, and holiday spikes.\n",
        "\n",
        "2. Recommendation System (Collaborative Filtering – SVD)\n",
        "\n",
        "Goal: Recommend top-selling departments for each store.\n",
        "\n",
        "Approach: Surprise SVD collaborative filtering on Store–Dept sales matrix.\n",
        "\n",
        "Outcome: Generated Top-5 recommended departments per store to guide promotions and cross-selling.\n",
        "\n",
        "Lastly, we came with personalized marketing strategies to overcome this situation and improve the sales."
      ]
    },
    {
      "cell_type": "markdown",
      "metadata": {
        "id": "w6K7xa23Elo4"
      },
      "source": [
        "# **GitHub Link -**"
      ]
    },
    {
      "cell_type": "markdown",
      "metadata": {
        "id": "h1o69JH3Eqqn"
      },
      "source": [
        "## https://github.com/AayushKaul-ai"
      ]
    },
    {
      "cell_type": "markdown",
      "metadata": {
        "id": "yQaldy8SH6Dl"
      },
      "source": [
        "# **Problem Statement**\n"
      ]
    },
    {
      "cell_type": "markdown",
      "metadata": {
        "id": "DpeJGUA3kjGy"
      },
      "source": [
        "**To enhance customer experience by optimizing store performance by forecasting the demand,customer segmentation and personalized marketing strategies.**"
      ]
    },
    {
      "cell_type": "markdown",
      "metadata": {
        "id": "O_i_v8NEhb9l"
      },
      "source": [
        "# ***Let's Begin !***"
      ]
    },
    {
      "cell_type": "markdown",
      "metadata": {
        "id": "HhfV-JJviCcP"
      },
      "source": [
        "## ***1. Know Your Data***"
      ]
    },
    {
      "cell_type": "markdown",
      "metadata": {
        "id": "Y3lxredqlCYt"
      },
      "source": [
        "### Import Libraries"
      ]
    },
    {
      "cell_type": "code",
      "execution_count": 44,
      "metadata": {
        "id": "M8Vqi-pPk-HR"
      },
      "outputs": [],
      "source": [
        "# Import Libraries\n",
        "import os\n",
        "import sys\n",
        "import pandas as pd\n",
        "import numpy as np\n",
        "import matplotlib.pyplot as plt\n",
        "import seaborn as sns\n",
        "import warnings\n",
        "warnings.filterwarnings('ignore')\n",
        "from sklearn.preprocessing import OrdinalEncoder\n",
        "from sklearn.metrics import mean_squared_error, r2_score\n",
        "import joblib"
      ]
    },
    {
      "cell_type": "markdown",
      "metadata": {
        "id": "3RnN4peoiCZX"
      },
      "source": [
        "### Dataset Loading"
      ]
    },
    {
      "cell_type": "code",
      "execution_count": 45,
      "metadata": {
        "id": "4CkvbW_SlZ_R"
      },
      "outputs": [],
      "source": [
        "# Load Dataset\n",
        "Features =pd.read_csv('Features data set.csv')\n",
        "Sales =pd.read_csv('sales data-set.csv')\n",
        "Stores =pd.read_csv('stores data-set.csv')"
      ]
    },
    {
      "cell_type": "markdown",
      "metadata": {
        "id": "x71ZqKXriCWQ"
      },
      "source": [
        "### Dataset First View"
      ]
    },
    {
      "cell_type": "code",
      "execution_count": 46,
      "metadata": {
        "colab": {
          "base_uri": "https://localhost:8080/",
          "height": 226
        },
        "id": "LWNFOSvLl09H",
        "outputId": "bf5c584c-fe3e-4ea5-97ce-6ac4f5c948f0"
      },
      "outputs": [
        {
          "output_type": "execute_result",
          "data": {
            "text/plain": [
              "   Store        Date  Temperature  Fuel_Price  MarkDown1  MarkDown2  \\\n",
              "0      1  05/02/2010        42.31       2.572        NaN        NaN   \n",
              "1      1  12/02/2010        38.51       2.548        NaN        NaN   \n",
              "2      1  19/02/2010        39.93       2.514        NaN        NaN   \n",
              "3      1  26/02/2010        46.63       2.561        NaN        NaN   \n",
              "4      1  05/03/2010        46.50       2.625        NaN        NaN   \n",
              "\n",
              "   MarkDown3  MarkDown4  MarkDown5         CPI  Unemployment  IsHoliday  \n",
              "0        NaN        NaN        NaN  211.096358         8.106      False  \n",
              "1        NaN        NaN        NaN  211.242170         8.106       True  \n",
              "2        NaN        NaN        NaN  211.289143         8.106      False  \n",
              "3        NaN        NaN        NaN  211.319643         8.106      False  \n",
              "4        NaN        NaN        NaN  211.350143         8.106      False  "
            ],
            "text/html": [
              "\n",
              "  <div id=\"df-7e59b846-0af6-4691-8826-225cd1bb3960\" class=\"colab-df-container\">\n",
              "    <div>\n",
              "<style scoped>\n",
              "    .dataframe tbody tr th:only-of-type {\n",
              "        vertical-align: middle;\n",
              "    }\n",
              "\n",
              "    .dataframe tbody tr th {\n",
              "        vertical-align: top;\n",
              "    }\n",
              "\n",
              "    .dataframe thead th {\n",
              "        text-align: right;\n",
              "    }\n",
              "</style>\n",
              "<table border=\"1\" class=\"dataframe\">\n",
              "  <thead>\n",
              "    <tr style=\"text-align: right;\">\n",
              "      <th></th>\n",
              "      <th>Store</th>\n",
              "      <th>Date</th>\n",
              "      <th>Temperature</th>\n",
              "      <th>Fuel_Price</th>\n",
              "      <th>MarkDown1</th>\n",
              "      <th>MarkDown2</th>\n",
              "      <th>MarkDown3</th>\n",
              "      <th>MarkDown4</th>\n",
              "      <th>MarkDown5</th>\n",
              "      <th>CPI</th>\n",
              "      <th>Unemployment</th>\n",
              "      <th>IsHoliday</th>\n",
              "    </tr>\n",
              "  </thead>\n",
              "  <tbody>\n",
              "    <tr>\n",
              "      <th>0</th>\n",
              "      <td>1</td>\n",
              "      <td>05/02/2010</td>\n",
              "      <td>42.31</td>\n",
              "      <td>2.572</td>\n",
              "      <td>NaN</td>\n",
              "      <td>NaN</td>\n",
              "      <td>NaN</td>\n",
              "      <td>NaN</td>\n",
              "      <td>NaN</td>\n",
              "      <td>211.096358</td>\n",
              "      <td>8.106</td>\n",
              "      <td>False</td>\n",
              "    </tr>\n",
              "    <tr>\n",
              "      <th>1</th>\n",
              "      <td>1</td>\n",
              "      <td>12/02/2010</td>\n",
              "      <td>38.51</td>\n",
              "      <td>2.548</td>\n",
              "      <td>NaN</td>\n",
              "      <td>NaN</td>\n",
              "      <td>NaN</td>\n",
              "      <td>NaN</td>\n",
              "      <td>NaN</td>\n",
              "      <td>211.242170</td>\n",
              "      <td>8.106</td>\n",
              "      <td>True</td>\n",
              "    </tr>\n",
              "    <tr>\n",
              "      <th>2</th>\n",
              "      <td>1</td>\n",
              "      <td>19/02/2010</td>\n",
              "      <td>39.93</td>\n",
              "      <td>2.514</td>\n",
              "      <td>NaN</td>\n",
              "      <td>NaN</td>\n",
              "      <td>NaN</td>\n",
              "      <td>NaN</td>\n",
              "      <td>NaN</td>\n",
              "      <td>211.289143</td>\n",
              "      <td>8.106</td>\n",
              "      <td>False</td>\n",
              "    </tr>\n",
              "    <tr>\n",
              "      <th>3</th>\n",
              "      <td>1</td>\n",
              "      <td>26/02/2010</td>\n",
              "      <td>46.63</td>\n",
              "      <td>2.561</td>\n",
              "      <td>NaN</td>\n",
              "      <td>NaN</td>\n",
              "      <td>NaN</td>\n",
              "      <td>NaN</td>\n",
              "      <td>NaN</td>\n",
              "      <td>211.319643</td>\n",
              "      <td>8.106</td>\n",
              "      <td>False</td>\n",
              "    </tr>\n",
              "    <tr>\n",
              "      <th>4</th>\n",
              "      <td>1</td>\n",
              "      <td>05/03/2010</td>\n",
              "      <td>46.50</td>\n",
              "      <td>2.625</td>\n",
              "      <td>NaN</td>\n",
              "      <td>NaN</td>\n",
              "      <td>NaN</td>\n",
              "      <td>NaN</td>\n",
              "      <td>NaN</td>\n",
              "      <td>211.350143</td>\n",
              "      <td>8.106</td>\n",
              "      <td>False</td>\n",
              "    </tr>\n",
              "  </tbody>\n",
              "</table>\n",
              "</div>\n",
              "    <div class=\"colab-df-buttons\">\n",
              "\n",
              "  <div class=\"colab-df-container\">\n",
              "    <button class=\"colab-df-convert\" onclick=\"convertToInteractive('df-7e59b846-0af6-4691-8826-225cd1bb3960')\"\n",
              "            title=\"Convert this dataframe to an interactive table.\"\n",
              "            style=\"display:none;\">\n",
              "\n",
              "  <svg xmlns=\"http://www.w3.org/2000/svg\" height=\"24px\" viewBox=\"0 -960 960 960\">\n",
              "    <path d=\"M120-120v-720h720v720H120Zm60-500h600v-160H180v160Zm220 220h160v-160H400v160Zm0 220h160v-160H400v160ZM180-400h160v-160H180v160Zm440 0h160v-160H620v160ZM180-180h160v-160H180v160Zm440 0h160v-160H620v160Z\"/>\n",
              "  </svg>\n",
              "    </button>\n",
              "\n",
              "  <style>\n",
              "    .colab-df-container {\n",
              "      display:flex;\n",
              "      gap: 12px;\n",
              "    }\n",
              "\n",
              "    .colab-df-convert {\n",
              "      background-color: #E8F0FE;\n",
              "      border: none;\n",
              "      border-radius: 50%;\n",
              "      cursor: pointer;\n",
              "      display: none;\n",
              "      fill: #1967D2;\n",
              "      height: 32px;\n",
              "      padding: 0 0 0 0;\n",
              "      width: 32px;\n",
              "    }\n",
              "\n",
              "    .colab-df-convert:hover {\n",
              "      background-color: #E2EBFA;\n",
              "      box-shadow: 0px 1px 2px rgba(60, 64, 67, 0.3), 0px 1px 3px 1px rgba(60, 64, 67, 0.15);\n",
              "      fill: #174EA6;\n",
              "    }\n",
              "\n",
              "    .colab-df-buttons div {\n",
              "      margin-bottom: 4px;\n",
              "    }\n",
              "\n",
              "    [theme=dark] .colab-df-convert {\n",
              "      background-color: #3B4455;\n",
              "      fill: #D2E3FC;\n",
              "    }\n",
              "\n",
              "    [theme=dark] .colab-df-convert:hover {\n",
              "      background-color: #434B5C;\n",
              "      box-shadow: 0px 1px 3px 1px rgba(0, 0, 0, 0.15);\n",
              "      filter: drop-shadow(0px 1px 2px rgba(0, 0, 0, 0.3));\n",
              "      fill: #FFFFFF;\n",
              "    }\n",
              "  </style>\n",
              "\n",
              "    <script>\n",
              "      const buttonEl =\n",
              "        document.querySelector('#df-7e59b846-0af6-4691-8826-225cd1bb3960 button.colab-df-convert');\n",
              "      buttonEl.style.display =\n",
              "        google.colab.kernel.accessAllowed ? 'block' : 'none';\n",
              "\n",
              "      async function convertToInteractive(key) {\n",
              "        const element = document.querySelector('#df-7e59b846-0af6-4691-8826-225cd1bb3960');\n",
              "        const dataTable =\n",
              "          await google.colab.kernel.invokeFunction('convertToInteractive',\n",
              "                                                    [key], {});\n",
              "        if (!dataTable) return;\n",
              "\n",
              "        const docLinkHtml = 'Like what you see? Visit the ' +\n",
              "          '<a target=\"_blank\" href=https://colab.research.google.com/notebooks/data_table.ipynb>data table notebook</a>'\n",
              "          + ' to learn more about interactive tables.';\n",
              "        element.innerHTML = '';\n",
              "        dataTable['output_type'] = 'display_data';\n",
              "        await google.colab.output.renderOutput(dataTable, element);\n",
              "        const docLink = document.createElement('div');\n",
              "        docLink.innerHTML = docLinkHtml;\n",
              "        element.appendChild(docLink);\n",
              "      }\n",
              "    </script>\n",
              "  </div>\n",
              "\n",
              "\n",
              "    <div id=\"df-9ce34581-f512-4dda-9753-dda5f433c40e\">\n",
              "      <button class=\"colab-df-quickchart\" onclick=\"quickchart('df-9ce34581-f512-4dda-9753-dda5f433c40e')\"\n",
              "                title=\"Suggest charts\"\n",
              "                style=\"display:none;\">\n",
              "\n",
              "<svg xmlns=\"http://www.w3.org/2000/svg\" height=\"24px\"viewBox=\"0 0 24 24\"\n",
              "     width=\"24px\">\n",
              "    <g>\n",
              "        <path d=\"M19 3H5c-1.1 0-2 .9-2 2v14c0 1.1.9 2 2 2h14c1.1 0 2-.9 2-2V5c0-1.1-.9-2-2-2zM9 17H7v-7h2v7zm4 0h-2V7h2v10zm4 0h-2v-4h2v4z\"/>\n",
              "    </g>\n",
              "</svg>\n",
              "      </button>\n",
              "\n",
              "<style>\n",
              "  .colab-df-quickchart {\n",
              "      --bg-color: #E8F0FE;\n",
              "      --fill-color: #1967D2;\n",
              "      --hover-bg-color: #E2EBFA;\n",
              "      --hover-fill-color: #174EA6;\n",
              "      --disabled-fill-color: #AAA;\n",
              "      --disabled-bg-color: #DDD;\n",
              "  }\n",
              "\n",
              "  [theme=dark] .colab-df-quickchart {\n",
              "      --bg-color: #3B4455;\n",
              "      --fill-color: #D2E3FC;\n",
              "      --hover-bg-color: #434B5C;\n",
              "      --hover-fill-color: #FFFFFF;\n",
              "      --disabled-bg-color: #3B4455;\n",
              "      --disabled-fill-color: #666;\n",
              "  }\n",
              "\n",
              "  .colab-df-quickchart {\n",
              "    background-color: var(--bg-color);\n",
              "    border: none;\n",
              "    border-radius: 50%;\n",
              "    cursor: pointer;\n",
              "    display: none;\n",
              "    fill: var(--fill-color);\n",
              "    height: 32px;\n",
              "    padding: 0;\n",
              "    width: 32px;\n",
              "  }\n",
              "\n",
              "  .colab-df-quickchart:hover {\n",
              "    background-color: var(--hover-bg-color);\n",
              "    box-shadow: 0 1px 2px rgba(60, 64, 67, 0.3), 0 1px 3px 1px rgba(60, 64, 67, 0.15);\n",
              "    fill: var(--button-hover-fill-color);\n",
              "  }\n",
              "\n",
              "  .colab-df-quickchart-complete:disabled,\n",
              "  .colab-df-quickchart-complete:disabled:hover {\n",
              "    background-color: var(--disabled-bg-color);\n",
              "    fill: var(--disabled-fill-color);\n",
              "    box-shadow: none;\n",
              "  }\n",
              "\n",
              "  .colab-df-spinner {\n",
              "    border: 2px solid var(--fill-color);\n",
              "    border-color: transparent;\n",
              "    border-bottom-color: var(--fill-color);\n",
              "    animation:\n",
              "      spin 1s steps(1) infinite;\n",
              "  }\n",
              "\n",
              "  @keyframes spin {\n",
              "    0% {\n",
              "      border-color: transparent;\n",
              "      border-bottom-color: var(--fill-color);\n",
              "      border-left-color: var(--fill-color);\n",
              "    }\n",
              "    20% {\n",
              "      border-color: transparent;\n",
              "      border-left-color: var(--fill-color);\n",
              "      border-top-color: var(--fill-color);\n",
              "    }\n",
              "    30% {\n",
              "      border-color: transparent;\n",
              "      border-left-color: var(--fill-color);\n",
              "      border-top-color: var(--fill-color);\n",
              "      border-right-color: var(--fill-color);\n",
              "    }\n",
              "    40% {\n",
              "      border-color: transparent;\n",
              "      border-right-color: var(--fill-color);\n",
              "      border-top-color: var(--fill-color);\n",
              "    }\n",
              "    60% {\n",
              "      border-color: transparent;\n",
              "      border-right-color: var(--fill-color);\n",
              "    }\n",
              "    80% {\n",
              "      border-color: transparent;\n",
              "      border-right-color: var(--fill-color);\n",
              "      border-bottom-color: var(--fill-color);\n",
              "    }\n",
              "    90% {\n",
              "      border-color: transparent;\n",
              "      border-bottom-color: var(--fill-color);\n",
              "    }\n",
              "  }\n",
              "</style>\n",
              "\n",
              "      <script>\n",
              "        async function quickchart(key) {\n",
              "          const quickchartButtonEl =\n",
              "            document.querySelector('#' + key + ' button');\n",
              "          quickchartButtonEl.disabled = true;  // To prevent multiple clicks.\n",
              "          quickchartButtonEl.classList.add('colab-df-spinner');\n",
              "          try {\n",
              "            const charts = await google.colab.kernel.invokeFunction(\n",
              "                'suggestCharts', [key], {});\n",
              "          } catch (error) {\n",
              "            console.error('Error during call to suggestCharts:', error);\n",
              "          }\n",
              "          quickchartButtonEl.classList.remove('colab-df-spinner');\n",
              "          quickchartButtonEl.classList.add('colab-df-quickchart-complete');\n",
              "        }\n",
              "        (() => {\n",
              "          let quickchartButtonEl =\n",
              "            document.querySelector('#df-9ce34581-f512-4dda-9753-dda5f433c40e button');\n",
              "          quickchartButtonEl.style.display =\n",
              "            google.colab.kernel.accessAllowed ? 'block' : 'none';\n",
              "        })();\n",
              "      </script>\n",
              "    </div>\n",
              "\n",
              "    </div>\n",
              "  </div>\n"
            ],
            "application/vnd.google.colaboratory.intrinsic+json": {
              "type": "dataframe",
              "variable_name": "Features",
              "summary": "{\n  \"name\": \"Features\",\n  \"rows\": 8190,\n  \"fields\": [\n    {\n      \"column\": \"Store\",\n      \"properties\": {\n        \"dtype\": \"number\",\n        \"std\": 12,\n        \"min\": 1,\n        \"max\": 45,\n        \"num_unique_values\": 45,\n        \"samples\": [\n          40,\n          26,\n          27\n        ],\n        \"semantic_type\": \"\",\n        \"description\": \"\"\n      }\n    },\n    {\n      \"column\": \"Date\",\n      \"properties\": {\n        \"dtype\": \"category\",\n        \"num_unique_values\": 182,\n        \"samples\": [\n          \"18/06/2010\",\n          \"26/11/2010\",\n          \"18/01/2013\"\n        ],\n        \"semantic_type\": \"\",\n        \"description\": \"\"\n      }\n    },\n    {\n      \"column\": \"Temperature\",\n      \"properties\": {\n        \"dtype\": \"number\",\n        \"std\": 18.678606848907176,\n        \"min\": -7.29,\n        \"max\": 101.95,\n        \"num_unique_values\": 4178,\n        \"samples\": [\n          83.8,\n          31.48,\n          79.14\n        ],\n        \"semantic_type\": \"\",\n        \"description\": \"\"\n      }\n    },\n    {\n      \"column\": \"Fuel_Price\",\n      \"properties\": {\n        \"dtype\": \"number\",\n        \"std\": 0.43133657110071605,\n        \"min\": 2.472,\n        \"max\": 4.468,\n        \"num_unique_values\": 1011,\n        \"samples\": [\n          2.782,\n          2.936,\n          3.282\n        ],\n        \"semantic_type\": \"\",\n        \"description\": \"\"\n      }\n    },\n    {\n      \"column\": \"MarkDown1\",\n      \"properties\": {\n        \"dtype\": \"number\",\n        \"std\": 9262.74744752369,\n        \"min\": -2781.45,\n        \"max\": 103184.98,\n        \"num_unique_values\": 4023,\n        \"samples\": [\n          9273.46,\n          7024.93,\n          8569.82\n        ],\n        \"semantic_type\": \"\",\n        \"description\": \"\"\n      }\n    },\n    {\n      \"column\": \"MarkDown2\",\n      \"properties\": {\n        \"dtype\": \"number\",\n        \"std\": 8793.58301550763,\n        \"min\": -265.76,\n        \"max\": 104519.54,\n        \"num_unique_values\": 2715,\n        \"samples\": [\n          252.8,\n          2675.46,\n          2347.13\n        ],\n        \"semantic_type\": \"\",\n        \"description\": \"\"\n      }\n    },\n    {\n      \"column\": \"MarkDown3\",\n      \"properties\": {\n        \"dtype\": \"number\",\n        \"std\": 11276.462208022962,\n        \"min\": -179.26,\n        \"max\": 149483.31,\n        \"num_unique_values\": 2885,\n        \"samples\": [\n          7.35,\n          182.74,\n          163.27\n        ],\n        \"semantic_type\": \"\",\n        \"description\": \"\"\n      }\n    },\n    {\n      \"column\": \"MarkDown4\",\n      \"properties\": {\n        \"dtype\": \"number\",\n        \"std\": 6792.329861347639,\n        \"min\": 0.22,\n        \"max\": 67474.85,\n        \"num_unique_values\": 3405,\n        \"samples\": [\n          113.37,\n          1270.8,\n          24079.57\n        ],\n        \"semantic_type\": \"\",\n        \"description\": \"\"\n      }\n    },\n    {\n      \"column\": \"MarkDown5\",\n      \"properties\": {\n        \"dtype\": \"number\",\n        \"std\": 13086.690278200185,\n        \"min\": -185.17,\n        \"max\": 771448.1,\n        \"num_unique_values\": 4045,\n        \"samples\": [\n          3666.08,\n          3479.8,\n          4958.33\n        ],\n        \"semantic_type\": \"\",\n        \"description\": \"\"\n      }\n    },\n    {\n      \"column\": \"CPI\",\n      \"properties\": {\n        \"dtype\": \"number\",\n        \"std\": 39.73834609860846,\n        \"min\": 126.064,\n        \"max\": 228.9764563,\n        \"num_unique_values\": 2505,\n        \"samples\": [\n          139.1226129,\n          216.0282356,\n          210.0451024\n        ],\n        \"semantic_type\": \"\",\n        \"description\": \"\"\n      }\n    },\n    {\n      \"column\": \"Unemployment\",\n      \"properties\": {\n        \"dtype\": \"number\",\n        \"std\": 1.87725859391744,\n        \"min\": 3.684,\n        \"max\": 14.313,\n        \"num_unique_values\": 404,\n        \"samples\": [\n          7.259,\n          5.213,\n          6.901\n        ],\n        \"semantic_type\": \"\",\n        \"description\": \"\"\n      }\n    },\n    {\n      \"column\": \"IsHoliday\",\n      \"properties\": {\n        \"dtype\": \"boolean\",\n        \"num_unique_values\": 2,\n        \"samples\": [\n          true,\n          false\n        ],\n        \"semantic_type\": \"\",\n        \"description\": \"\"\n      }\n    }\n  ]\n}"
            }
          },
          "metadata": {},
          "execution_count": 46
        }
      ],
      "source": [
        "# Dataset First Look\n",
        "Features.head()"
      ]
    },
    {
      "cell_type": "code",
      "execution_count": 47,
      "metadata": {
        "colab": {
          "base_uri": "https://localhost:8080/",
          "height": 206
        },
        "id": "v0xgAr-XE96J",
        "outputId": "4b285d97-cff7-444d-ecac-f4c8547d7944"
      },
      "outputs": [
        {
          "output_type": "execute_result",
          "data": {
            "text/plain": [
              "   Store  Dept        Date  Weekly_Sales  IsHoliday\n",
              "0      1     1  05-02-2010      24924.50      False\n",
              "1      1     1  12-02-2010      46039.49       True\n",
              "2      1     1  19-02-2010      41595.55      False\n",
              "3      1     1  26-02-2010      19403.54      False\n",
              "4      1     1  05-03-2010      21827.90      False"
            ],
            "text/html": [
              "\n",
              "  <div id=\"df-1ce62606-3020-4ca9-a193-fe06a19b6be6\" class=\"colab-df-container\">\n",
              "    <div>\n",
              "<style scoped>\n",
              "    .dataframe tbody tr th:only-of-type {\n",
              "        vertical-align: middle;\n",
              "    }\n",
              "\n",
              "    .dataframe tbody tr th {\n",
              "        vertical-align: top;\n",
              "    }\n",
              "\n",
              "    .dataframe thead th {\n",
              "        text-align: right;\n",
              "    }\n",
              "</style>\n",
              "<table border=\"1\" class=\"dataframe\">\n",
              "  <thead>\n",
              "    <tr style=\"text-align: right;\">\n",
              "      <th></th>\n",
              "      <th>Store</th>\n",
              "      <th>Dept</th>\n",
              "      <th>Date</th>\n",
              "      <th>Weekly_Sales</th>\n",
              "      <th>IsHoliday</th>\n",
              "    </tr>\n",
              "  </thead>\n",
              "  <tbody>\n",
              "    <tr>\n",
              "      <th>0</th>\n",
              "      <td>1</td>\n",
              "      <td>1</td>\n",
              "      <td>05-02-2010</td>\n",
              "      <td>24924.50</td>\n",
              "      <td>False</td>\n",
              "    </tr>\n",
              "    <tr>\n",
              "      <th>1</th>\n",
              "      <td>1</td>\n",
              "      <td>1</td>\n",
              "      <td>12-02-2010</td>\n",
              "      <td>46039.49</td>\n",
              "      <td>True</td>\n",
              "    </tr>\n",
              "    <tr>\n",
              "      <th>2</th>\n",
              "      <td>1</td>\n",
              "      <td>1</td>\n",
              "      <td>19-02-2010</td>\n",
              "      <td>41595.55</td>\n",
              "      <td>False</td>\n",
              "    </tr>\n",
              "    <tr>\n",
              "      <th>3</th>\n",
              "      <td>1</td>\n",
              "      <td>1</td>\n",
              "      <td>26-02-2010</td>\n",
              "      <td>19403.54</td>\n",
              "      <td>False</td>\n",
              "    </tr>\n",
              "    <tr>\n",
              "      <th>4</th>\n",
              "      <td>1</td>\n",
              "      <td>1</td>\n",
              "      <td>05-03-2010</td>\n",
              "      <td>21827.90</td>\n",
              "      <td>False</td>\n",
              "    </tr>\n",
              "  </tbody>\n",
              "</table>\n",
              "</div>\n",
              "    <div class=\"colab-df-buttons\">\n",
              "\n",
              "  <div class=\"colab-df-container\">\n",
              "    <button class=\"colab-df-convert\" onclick=\"convertToInteractive('df-1ce62606-3020-4ca9-a193-fe06a19b6be6')\"\n",
              "            title=\"Convert this dataframe to an interactive table.\"\n",
              "            style=\"display:none;\">\n",
              "\n",
              "  <svg xmlns=\"http://www.w3.org/2000/svg\" height=\"24px\" viewBox=\"0 -960 960 960\">\n",
              "    <path d=\"M120-120v-720h720v720H120Zm60-500h600v-160H180v160Zm220 220h160v-160H400v160Zm0 220h160v-160H400v160ZM180-400h160v-160H180v160Zm440 0h160v-160H620v160ZM180-180h160v-160H180v160Zm440 0h160v-160H620v160Z\"/>\n",
              "  </svg>\n",
              "    </button>\n",
              "\n",
              "  <style>\n",
              "    .colab-df-container {\n",
              "      display:flex;\n",
              "      gap: 12px;\n",
              "    }\n",
              "\n",
              "    .colab-df-convert {\n",
              "      background-color: #E8F0FE;\n",
              "      border: none;\n",
              "      border-radius: 50%;\n",
              "      cursor: pointer;\n",
              "      display: none;\n",
              "      fill: #1967D2;\n",
              "      height: 32px;\n",
              "      padding: 0 0 0 0;\n",
              "      width: 32px;\n",
              "    }\n",
              "\n",
              "    .colab-df-convert:hover {\n",
              "      background-color: #E2EBFA;\n",
              "      box-shadow: 0px 1px 2px rgba(60, 64, 67, 0.3), 0px 1px 3px 1px rgba(60, 64, 67, 0.15);\n",
              "      fill: #174EA6;\n",
              "    }\n",
              "\n",
              "    .colab-df-buttons div {\n",
              "      margin-bottom: 4px;\n",
              "    }\n",
              "\n",
              "    [theme=dark] .colab-df-convert {\n",
              "      background-color: #3B4455;\n",
              "      fill: #D2E3FC;\n",
              "    }\n",
              "\n",
              "    [theme=dark] .colab-df-convert:hover {\n",
              "      background-color: #434B5C;\n",
              "      box-shadow: 0px 1px 3px 1px rgba(0, 0, 0, 0.15);\n",
              "      filter: drop-shadow(0px 1px 2px rgba(0, 0, 0, 0.3));\n",
              "      fill: #FFFFFF;\n",
              "    }\n",
              "  </style>\n",
              "\n",
              "    <script>\n",
              "      const buttonEl =\n",
              "        document.querySelector('#df-1ce62606-3020-4ca9-a193-fe06a19b6be6 button.colab-df-convert');\n",
              "      buttonEl.style.display =\n",
              "        google.colab.kernel.accessAllowed ? 'block' : 'none';\n",
              "\n",
              "      async function convertToInteractive(key) {\n",
              "        const element = document.querySelector('#df-1ce62606-3020-4ca9-a193-fe06a19b6be6');\n",
              "        const dataTable =\n",
              "          await google.colab.kernel.invokeFunction('convertToInteractive',\n",
              "                                                    [key], {});\n",
              "        if (!dataTable) return;\n",
              "\n",
              "        const docLinkHtml = 'Like what you see? Visit the ' +\n",
              "          '<a target=\"_blank\" href=https://colab.research.google.com/notebooks/data_table.ipynb>data table notebook</a>'\n",
              "          + ' to learn more about interactive tables.';\n",
              "        element.innerHTML = '';\n",
              "        dataTable['output_type'] = 'display_data';\n",
              "        await google.colab.output.renderOutput(dataTable, element);\n",
              "        const docLink = document.createElement('div');\n",
              "        docLink.innerHTML = docLinkHtml;\n",
              "        element.appendChild(docLink);\n",
              "      }\n",
              "    </script>\n",
              "  </div>\n",
              "\n",
              "\n",
              "    <div id=\"df-71cd4278-45e8-4188-9e87-1b0be687a71f\">\n",
              "      <button class=\"colab-df-quickchart\" onclick=\"quickchart('df-71cd4278-45e8-4188-9e87-1b0be687a71f')\"\n",
              "                title=\"Suggest charts\"\n",
              "                style=\"display:none;\">\n",
              "\n",
              "<svg xmlns=\"http://www.w3.org/2000/svg\" height=\"24px\"viewBox=\"0 0 24 24\"\n",
              "     width=\"24px\">\n",
              "    <g>\n",
              "        <path d=\"M19 3H5c-1.1 0-2 .9-2 2v14c0 1.1.9 2 2 2h14c1.1 0 2-.9 2-2V5c0-1.1-.9-2-2-2zM9 17H7v-7h2v7zm4 0h-2V7h2v10zm4 0h-2v-4h2v4z\"/>\n",
              "    </g>\n",
              "</svg>\n",
              "      </button>\n",
              "\n",
              "<style>\n",
              "  .colab-df-quickchart {\n",
              "      --bg-color: #E8F0FE;\n",
              "      --fill-color: #1967D2;\n",
              "      --hover-bg-color: #E2EBFA;\n",
              "      --hover-fill-color: #174EA6;\n",
              "      --disabled-fill-color: #AAA;\n",
              "      --disabled-bg-color: #DDD;\n",
              "  }\n",
              "\n",
              "  [theme=dark] .colab-df-quickchart {\n",
              "      --bg-color: #3B4455;\n",
              "      --fill-color: #D2E3FC;\n",
              "      --hover-bg-color: #434B5C;\n",
              "      --hover-fill-color: #FFFFFF;\n",
              "      --disabled-bg-color: #3B4455;\n",
              "      --disabled-fill-color: #666;\n",
              "  }\n",
              "\n",
              "  .colab-df-quickchart {\n",
              "    background-color: var(--bg-color);\n",
              "    border: none;\n",
              "    border-radius: 50%;\n",
              "    cursor: pointer;\n",
              "    display: none;\n",
              "    fill: var(--fill-color);\n",
              "    height: 32px;\n",
              "    padding: 0;\n",
              "    width: 32px;\n",
              "  }\n",
              "\n",
              "  .colab-df-quickchart:hover {\n",
              "    background-color: var(--hover-bg-color);\n",
              "    box-shadow: 0 1px 2px rgba(60, 64, 67, 0.3), 0 1px 3px 1px rgba(60, 64, 67, 0.15);\n",
              "    fill: var(--button-hover-fill-color);\n",
              "  }\n",
              "\n",
              "  .colab-df-quickchart-complete:disabled,\n",
              "  .colab-df-quickchart-complete:disabled:hover {\n",
              "    background-color: var(--disabled-bg-color);\n",
              "    fill: var(--disabled-fill-color);\n",
              "    box-shadow: none;\n",
              "  }\n",
              "\n",
              "  .colab-df-spinner {\n",
              "    border: 2px solid var(--fill-color);\n",
              "    border-color: transparent;\n",
              "    border-bottom-color: var(--fill-color);\n",
              "    animation:\n",
              "      spin 1s steps(1) infinite;\n",
              "  }\n",
              "\n",
              "  @keyframes spin {\n",
              "    0% {\n",
              "      border-color: transparent;\n",
              "      border-bottom-color: var(--fill-color);\n",
              "      border-left-color: var(--fill-color);\n",
              "    }\n",
              "    20% {\n",
              "      border-color: transparent;\n",
              "      border-left-color: var(--fill-color);\n",
              "      border-top-color: var(--fill-color);\n",
              "    }\n",
              "    30% {\n",
              "      border-color: transparent;\n",
              "      border-left-color: var(--fill-color);\n",
              "      border-top-color: var(--fill-color);\n",
              "      border-right-color: var(--fill-color);\n",
              "    }\n",
              "    40% {\n",
              "      border-color: transparent;\n",
              "      border-right-color: var(--fill-color);\n",
              "      border-top-color: var(--fill-color);\n",
              "    }\n",
              "    60% {\n",
              "      border-color: transparent;\n",
              "      border-right-color: var(--fill-color);\n",
              "    }\n",
              "    80% {\n",
              "      border-color: transparent;\n",
              "      border-right-color: var(--fill-color);\n",
              "      border-bottom-color: var(--fill-color);\n",
              "    }\n",
              "    90% {\n",
              "      border-color: transparent;\n",
              "      border-bottom-color: var(--fill-color);\n",
              "    }\n",
              "  }\n",
              "</style>\n",
              "\n",
              "      <script>\n",
              "        async function quickchart(key) {\n",
              "          const quickchartButtonEl =\n",
              "            document.querySelector('#' + key + ' button');\n",
              "          quickchartButtonEl.disabled = true;  // To prevent multiple clicks.\n",
              "          quickchartButtonEl.classList.add('colab-df-spinner');\n",
              "          try {\n",
              "            const charts = await google.colab.kernel.invokeFunction(\n",
              "                'suggestCharts', [key], {});\n",
              "          } catch (error) {\n",
              "            console.error('Error during call to suggestCharts:', error);\n",
              "          }\n",
              "          quickchartButtonEl.classList.remove('colab-df-spinner');\n",
              "          quickchartButtonEl.classList.add('colab-df-quickchart-complete');\n",
              "        }\n",
              "        (() => {\n",
              "          let quickchartButtonEl =\n",
              "            document.querySelector('#df-71cd4278-45e8-4188-9e87-1b0be687a71f button');\n",
              "          quickchartButtonEl.style.display =\n",
              "            google.colab.kernel.accessAllowed ? 'block' : 'none';\n",
              "        })();\n",
              "      </script>\n",
              "    </div>\n",
              "\n",
              "    </div>\n",
              "  </div>\n"
            ],
            "application/vnd.google.colaboratory.intrinsic+json": {
              "type": "dataframe",
              "variable_name": "Sales"
            }
          },
          "metadata": {},
          "execution_count": 47
        }
      ],
      "source": [
        "Sales.head()"
      ]
    },
    {
      "cell_type": "code",
      "execution_count": 48,
      "metadata": {
        "colab": {
          "base_uri": "https://localhost:8080/",
          "height": 206
        },
        "id": "2f6ZiwRWE9ol",
        "outputId": "ae9f41eb-3643-43b1-8cbd-01f378feecce"
      },
      "outputs": [
        {
          "output_type": "execute_result",
          "data": {
            "text/plain": [
              "   Store Type    Size\n",
              "0      1    A  151315\n",
              "1      2    A  202307\n",
              "2      3    B   37392\n",
              "3      4    A  205863\n",
              "4      5    B   34875"
            ],
            "text/html": [
              "\n",
              "  <div id=\"df-be3dfb52-d570-43f5-89e3-a78176898809\" class=\"colab-df-container\">\n",
              "    <div>\n",
              "<style scoped>\n",
              "    .dataframe tbody tr th:only-of-type {\n",
              "        vertical-align: middle;\n",
              "    }\n",
              "\n",
              "    .dataframe tbody tr th {\n",
              "        vertical-align: top;\n",
              "    }\n",
              "\n",
              "    .dataframe thead th {\n",
              "        text-align: right;\n",
              "    }\n",
              "</style>\n",
              "<table border=\"1\" class=\"dataframe\">\n",
              "  <thead>\n",
              "    <tr style=\"text-align: right;\">\n",
              "      <th></th>\n",
              "      <th>Store</th>\n",
              "      <th>Type</th>\n",
              "      <th>Size</th>\n",
              "    </tr>\n",
              "  </thead>\n",
              "  <tbody>\n",
              "    <tr>\n",
              "      <th>0</th>\n",
              "      <td>1</td>\n",
              "      <td>A</td>\n",
              "      <td>151315</td>\n",
              "    </tr>\n",
              "    <tr>\n",
              "      <th>1</th>\n",
              "      <td>2</td>\n",
              "      <td>A</td>\n",
              "      <td>202307</td>\n",
              "    </tr>\n",
              "    <tr>\n",
              "      <th>2</th>\n",
              "      <td>3</td>\n",
              "      <td>B</td>\n",
              "      <td>37392</td>\n",
              "    </tr>\n",
              "    <tr>\n",
              "      <th>3</th>\n",
              "      <td>4</td>\n",
              "      <td>A</td>\n",
              "      <td>205863</td>\n",
              "    </tr>\n",
              "    <tr>\n",
              "      <th>4</th>\n",
              "      <td>5</td>\n",
              "      <td>B</td>\n",
              "      <td>34875</td>\n",
              "    </tr>\n",
              "  </tbody>\n",
              "</table>\n",
              "</div>\n",
              "    <div class=\"colab-df-buttons\">\n",
              "\n",
              "  <div class=\"colab-df-container\">\n",
              "    <button class=\"colab-df-convert\" onclick=\"convertToInteractive('df-be3dfb52-d570-43f5-89e3-a78176898809')\"\n",
              "            title=\"Convert this dataframe to an interactive table.\"\n",
              "            style=\"display:none;\">\n",
              "\n",
              "  <svg xmlns=\"http://www.w3.org/2000/svg\" height=\"24px\" viewBox=\"0 -960 960 960\">\n",
              "    <path d=\"M120-120v-720h720v720H120Zm60-500h600v-160H180v160Zm220 220h160v-160H400v160Zm0 220h160v-160H400v160ZM180-400h160v-160H180v160Zm440 0h160v-160H620v160ZM180-180h160v-160H180v160Zm440 0h160v-160H620v160Z\"/>\n",
              "  </svg>\n",
              "    </button>\n",
              "\n",
              "  <style>\n",
              "    .colab-df-container {\n",
              "      display:flex;\n",
              "      gap: 12px;\n",
              "    }\n",
              "\n",
              "    .colab-df-convert {\n",
              "      background-color: #E8F0FE;\n",
              "      border: none;\n",
              "      border-radius: 50%;\n",
              "      cursor: pointer;\n",
              "      display: none;\n",
              "      fill: #1967D2;\n",
              "      height: 32px;\n",
              "      padding: 0 0 0 0;\n",
              "      width: 32px;\n",
              "    }\n",
              "\n",
              "    .colab-df-convert:hover {\n",
              "      background-color: #E2EBFA;\n",
              "      box-shadow: 0px 1px 2px rgba(60, 64, 67, 0.3), 0px 1px 3px 1px rgba(60, 64, 67, 0.15);\n",
              "      fill: #174EA6;\n",
              "    }\n",
              "\n",
              "    .colab-df-buttons div {\n",
              "      margin-bottom: 4px;\n",
              "    }\n",
              "\n",
              "    [theme=dark] .colab-df-convert {\n",
              "      background-color: #3B4455;\n",
              "      fill: #D2E3FC;\n",
              "    }\n",
              "\n",
              "    [theme=dark] .colab-df-convert:hover {\n",
              "      background-color: #434B5C;\n",
              "      box-shadow: 0px 1px 3px 1px rgba(0, 0, 0, 0.15);\n",
              "      filter: drop-shadow(0px 1px 2px rgba(0, 0, 0, 0.3));\n",
              "      fill: #FFFFFF;\n",
              "    }\n",
              "  </style>\n",
              "\n",
              "    <script>\n",
              "      const buttonEl =\n",
              "        document.querySelector('#df-be3dfb52-d570-43f5-89e3-a78176898809 button.colab-df-convert');\n",
              "      buttonEl.style.display =\n",
              "        google.colab.kernel.accessAllowed ? 'block' : 'none';\n",
              "\n",
              "      async function convertToInteractive(key) {\n",
              "        const element = document.querySelector('#df-be3dfb52-d570-43f5-89e3-a78176898809');\n",
              "        const dataTable =\n",
              "          await google.colab.kernel.invokeFunction('convertToInteractive',\n",
              "                                                    [key], {});\n",
              "        if (!dataTable) return;\n",
              "\n",
              "        const docLinkHtml = 'Like what you see? Visit the ' +\n",
              "          '<a target=\"_blank\" href=https://colab.research.google.com/notebooks/data_table.ipynb>data table notebook</a>'\n",
              "          + ' to learn more about interactive tables.';\n",
              "        element.innerHTML = '';\n",
              "        dataTable['output_type'] = 'display_data';\n",
              "        await google.colab.output.renderOutput(dataTable, element);\n",
              "        const docLink = document.createElement('div');\n",
              "        docLink.innerHTML = docLinkHtml;\n",
              "        element.appendChild(docLink);\n",
              "      }\n",
              "    </script>\n",
              "  </div>\n",
              "\n",
              "\n",
              "    <div id=\"df-637f8413-4a8e-44cf-aa02-bc610894295e\">\n",
              "      <button class=\"colab-df-quickchart\" onclick=\"quickchart('df-637f8413-4a8e-44cf-aa02-bc610894295e')\"\n",
              "                title=\"Suggest charts\"\n",
              "                style=\"display:none;\">\n",
              "\n",
              "<svg xmlns=\"http://www.w3.org/2000/svg\" height=\"24px\"viewBox=\"0 0 24 24\"\n",
              "     width=\"24px\">\n",
              "    <g>\n",
              "        <path d=\"M19 3H5c-1.1 0-2 .9-2 2v14c0 1.1.9 2 2 2h14c1.1 0 2-.9 2-2V5c0-1.1-.9-2-2-2zM9 17H7v-7h2v7zm4 0h-2V7h2v10zm4 0h-2v-4h2v4z\"/>\n",
              "    </g>\n",
              "</svg>\n",
              "      </button>\n",
              "\n",
              "<style>\n",
              "  .colab-df-quickchart {\n",
              "      --bg-color: #E8F0FE;\n",
              "      --fill-color: #1967D2;\n",
              "      --hover-bg-color: #E2EBFA;\n",
              "      --hover-fill-color: #174EA6;\n",
              "      --disabled-fill-color: #AAA;\n",
              "      --disabled-bg-color: #DDD;\n",
              "  }\n",
              "\n",
              "  [theme=dark] .colab-df-quickchart {\n",
              "      --bg-color: #3B4455;\n",
              "      --fill-color: #D2E3FC;\n",
              "      --hover-bg-color: #434B5C;\n",
              "      --hover-fill-color: #FFFFFF;\n",
              "      --disabled-bg-color: #3B4455;\n",
              "      --disabled-fill-color: #666;\n",
              "  }\n",
              "\n",
              "  .colab-df-quickchart {\n",
              "    background-color: var(--bg-color);\n",
              "    border: none;\n",
              "    border-radius: 50%;\n",
              "    cursor: pointer;\n",
              "    display: none;\n",
              "    fill: var(--fill-color);\n",
              "    height: 32px;\n",
              "    padding: 0;\n",
              "    width: 32px;\n",
              "  }\n",
              "\n",
              "  .colab-df-quickchart:hover {\n",
              "    background-color: var(--hover-bg-color);\n",
              "    box-shadow: 0 1px 2px rgba(60, 64, 67, 0.3), 0 1px 3px 1px rgba(60, 64, 67, 0.15);\n",
              "    fill: var(--button-hover-fill-color);\n",
              "  }\n",
              "\n",
              "  .colab-df-quickchart-complete:disabled,\n",
              "  .colab-df-quickchart-complete:disabled:hover {\n",
              "    background-color: var(--disabled-bg-color);\n",
              "    fill: var(--disabled-fill-color);\n",
              "    box-shadow: none;\n",
              "  }\n",
              "\n",
              "  .colab-df-spinner {\n",
              "    border: 2px solid var(--fill-color);\n",
              "    border-color: transparent;\n",
              "    border-bottom-color: var(--fill-color);\n",
              "    animation:\n",
              "      spin 1s steps(1) infinite;\n",
              "  }\n",
              "\n",
              "  @keyframes spin {\n",
              "    0% {\n",
              "      border-color: transparent;\n",
              "      border-bottom-color: var(--fill-color);\n",
              "      border-left-color: var(--fill-color);\n",
              "    }\n",
              "    20% {\n",
              "      border-color: transparent;\n",
              "      border-left-color: var(--fill-color);\n",
              "      border-top-color: var(--fill-color);\n",
              "    }\n",
              "    30% {\n",
              "      border-color: transparent;\n",
              "      border-left-color: var(--fill-color);\n",
              "      border-top-color: var(--fill-color);\n",
              "      border-right-color: var(--fill-color);\n",
              "    }\n",
              "    40% {\n",
              "      border-color: transparent;\n",
              "      border-right-color: var(--fill-color);\n",
              "      border-top-color: var(--fill-color);\n",
              "    }\n",
              "    60% {\n",
              "      border-color: transparent;\n",
              "      border-right-color: var(--fill-color);\n",
              "    }\n",
              "    80% {\n",
              "      border-color: transparent;\n",
              "      border-right-color: var(--fill-color);\n",
              "      border-bottom-color: var(--fill-color);\n",
              "    }\n",
              "    90% {\n",
              "      border-color: transparent;\n",
              "      border-bottom-color: var(--fill-color);\n",
              "    }\n",
              "  }\n",
              "</style>\n",
              "\n",
              "      <script>\n",
              "        async function quickchart(key) {\n",
              "          const quickchartButtonEl =\n",
              "            document.querySelector('#' + key + ' button');\n",
              "          quickchartButtonEl.disabled = true;  // To prevent multiple clicks.\n",
              "          quickchartButtonEl.classList.add('colab-df-spinner');\n",
              "          try {\n",
              "            const charts = await google.colab.kernel.invokeFunction(\n",
              "                'suggestCharts', [key], {});\n",
              "          } catch (error) {\n",
              "            console.error('Error during call to suggestCharts:', error);\n",
              "          }\n",
              "          quickchartButtonEl.classList.remove('colab-df-spinner');\n",
              "          quickchartButtonEl.classList.add('colab-df-quickchart-complete');\n",
              "        }\n",
              "        (() => {\n",
              "          let quickchartButtonEl =\n",
              "            document.querySelector('#df-637f8413-4a8e-44cf-aa02-bc610894295e button');\n",
              "          quickchartButtonEl.style.display =\n",
              "            google.colab.kernel.accessAllowed ? 'block' : 'none';\n",
              "        })();\n",
              "      </script>\n",
              "    </div>\n",
              "\n",
              "    </div>\n",
              "  </div>\n"
            ],
            "application/vnd.google.colaboratory.intrinsic+json": {
              "type": "dataframe",
              "variable_name": "Stores",
              "summary": "{\n  \"name\": \"Stores\",\n  \"rows\": 45,\n  \"fields\": [\n    {\n      \"column\": \"Store\",\n      \"properties\": {\n        \"dtype\": \"number\",\n        \"std\": 13,\n        \"min\": 1,\n        \"max\": 45,\n        \"num_unique_values\": 45,\n        \"samples\": [\n          40,\n          26,\n          27\n        ],\n        \"semantic_type\": \"\",\n        \"description\": \"\"\n      }\n    },\n    {\n      \"column\": \"Type\",\n      \"properties\": {\n        \"dtype\": \"category\",\n        \"num_unique_values\": 3,\n        \"samples\": [\n          \"A\",\n          \"B\",\n          \"C\"\n        ],\n        \"semantic_type\": \"\",\n        \"description\": \"\"\n      }\n    },\n    {\n      \"column\": \"Size\",\n      \"properties\": {\n        \"dtype\": \"number\",\n        \"std\": 63825,\n        \"min\": 34875,\n        \"max\": 219622,\n        \"num_unique_values\": 40,\n        \"samples\": [\n          203742,\n          93188,\n          57197\n        ],\n        \"semantic_type\": \"\",\n        \"description\": \"\"\n      }\n    }\n  ]\n}"
            }
          },
          "metadata": {},
          "execution_count": 48
        }
      ],
      "source": [
        "Stores.head()"
      ]
    },
    {
      "cell_type": "markdown",
      "metadata": {
        "id": "BB_07gTfKJGv"
      },
      "source": [
        "Merging Dataset"
      ]
    },
    {
      "cell_type": "code",
      "execution_count": 49,
      "metadata": {
        "id": "dq5A8Jb3At2c"
      },
      "outputs": [],
      "source": [
        "# Convert Date column to datetime\n",
        "Sales['Date'] = pd.to_datetime(Sales['Date'], format='%d-%m-%Y')\n",
        "Features['Date'] = pd.to_datetime(Features['Date'], format='%d/%m/%Y')"
      ]
    },
    {
      "cell_type": "code",
      "execution_count": 50,
      "metadata": {
        "id": "Qj2rU5AYKNnf"
      },
      "outputs": [],
      "source": [
        "# Join Dataset\n",
        "df = pd.merge(Sales, Features, on=['Store', 'Date', 'IsHoliday'], how='left')\n",
        "df = pd.merge(df, Stores, on='Store', how='left')"
      ]
    },
    {
      "cell_type": "code",
      "execution_count": 51,
      "metadata": {
        "colab": {
          "base_uri": "https://localhost:8080/",
          "height": 313
        },
        "id": "nvo2-6iLBpdK",
        "outputId": "8b06deee-e797-49c1-add7-448439b1e10b"
      },
      "outputs": [
        {
          "output_type": "execute_result",
          "data": {
            "text/plain": [
              "   Store  Dept       Date  Weekly_Sales  IsHoliday  Temperature  Fuel_Price  \\\n",
              "0      1     1 2010-02-05      24924.50      False        42.31       2.572   \n",
              "1      1     1 2010-02-12      46039.49       True        38.51       2.548   \n",
              "2      1     1 2010-02-19      41595.55      False        39.93       2.514   \n",
              "3      1     1 2010-02-26      19403.54      False        46.63       2.561   \n",
              "4      1     1 2010-03-05      21827.90      False        46.50       2.625   \n",
              "\n",
              "   MarkDown1  MarkDown2  MarkDown3  MarkDown4  MarkDown5         CPI  \\\n",
              "0        NaN        NaN        NaN        NaN        NaN  211.096358   \n",
              "1        NaN        NaN        NaN        NaN        NaN  211.242170   \n",
              "2        NaN        NaN        NaN        NaN        NaN  211.289143   \n",
              "3        NaN        NaN        NaN        NaN        NaN  211.319643   \n",
              "4        NaN        NaN        NaN        NaN        NaN  211.350143   \n",
              "\n",
              "   Unemployment Type    Size  \n",
              "0         8.106    A  151315  \n",
              "1         8.106    A  151315  \n",
              "2         8.106    A  151315  \n",
              "3         8.106    A  151315  \n",
              "4         8.106    A  151315  "
            ],
            "text/html": [
              "\n",
              "  <div id=\"df-4e1fadcb-c104-4fe4-b7cc-601eda03307c\" class=\"colab-df-container\">\n",
              "    <div>\n",
              "<style scoped>\n",
              "    .dataframe tbody tr th:only-of-type {\n",
              "        vertical-align: middle;\n",
              "    }\n",
              "\n",
              "    .dataframe tbody tr th {\n",
              "        vertical-align: top;\n",
              "    }\n",
              "\n",
              "    .dataframe thead th {\n",
              "        text-align: right;\n",
              "    }\n",
              "</style>\n",
              "<table border=\"1\" class=\"dataframe\">\n",
              "  <thead>\n",
              "    <tr style=\"text-align: right;\">\n",
              "      <th></th>\n",
              "      <th>Store</th>\n",
              "      <th>Dept</th>\n",
              "      <th>Date</th>\n",
              "      <th>Weekly_Sales</th>\n",
              "      <th>IsHoliday</th>\n",
              "      <th>Temperature</th>\n",
              "      <th>Fuel_Price</th>\n",
              "      <th>MarkDown1</th>\n",
              "      <th>MarkDown2</th>\n",
              "      <th>MarkDown3</th>\n",
              "      <th>MarkDown4</th>\n",
              "      <th>MarkDown5</th>\n",
              "      <th>CPI</th>\n",
              "      <th>Unemployment</th>\n",
              "      <th>Type</th>\n",
              "      <th>Size</th>\n",
              "    </tr>\n",
              "  </thead>\n",
              "  <tbody>\n",
              "    <tr>\n",
              "      <th>0</th>\n",
              "      <td>1</td>\n",
              "      <td>1</td>\n",
              "      <td>2010-02-05</td>\n",
              "      <td>24924.50</td>\n",
              "      <td>False</td>\n",
              "      <td>42.31</td>\n",
              "      <td>2.572</td>\n",
              "      <td>NaN</td>\n",
              "      <td>NaN</td>\n",
              "      <td>NaN</td>\n",
              "      <td>NaN</td>\n",
              "      <td>NaN</td>\n",
              "      <td>211.096358</td>\n",
              "      <td>8.106</td>\n",
              "      <td>A</td>\n",
              "      <td>151315</td>\n",
              "    </tr>\n",
              "    <tr>\n",
              "      <th>1</th>\n",
              "      <td>1</td>\n",
              "      <td>1</td>\n",
              "      <td>2010-02-12</td>\n",
              "      <td>46039.49</td>\n",
              "      <td>True</td>\n",
              "      <td>38.51</td>\n",
              "      <td>2.548</td>\n",
              "      <td>NaN</td>\n",
              "      <td>NaN</td>\n",
              "      <td>NaN</td>\n",
              "      <td>NaN</td>\n",
              "      <td>NaN</td>\n",
              "      <td>211.242170</td>\n",
              "      <td>8.106</td>\n",
              "      <td>A</td>\n",
              "      <td>151315</td>\n",
              "    </tr>\n",
              "    <tr>\n",
              "      <th>2</th>\n",
              "      <td>1</td>\n",
              "      <td>1</td>\n",
              "      <td>2010-02-19</td>\n",
              "      <td>41595.55</td>\n",
              "      <td>False</td>\n",
              "      <td>39.93</td>\n",
              "      <td>2.514</td>\n",
              "      <td>NaN</td>\n",
              "      <td>NaN</td>\n",
              "      <td>NaN</td>\n",
              "      <td>NaN</td>\n",
              "      <td>NaN</td>\n",
              "      <td>211.289143</td>\n",
              "      <td>8.106</td>\n",
              "      <td>A</td>\n",
              "      <td>151315</td>\n",
              "    </tr>\n",
              "    <tr>\n",
              "      <th>3</th>\n",
              "      <td>1</td>\n",
              "      <td>1</td>\n",
              "      <td>2010-02-26</td>\n",
              "      <td>19403.54</td>\n",
              "      <td>False</td>\n",
              "      <td>46.63</td>\n",
              "      <td>2.561</td>\n",
              "      <td>NaN</td>\n",
              "      <td>NaN</td>\n",
              "      <td>NaN</td>\n",
              "      <td>NaN</td>\n",
              "      <td>NaN</td>\n",
              "      <td>211.319643</td>\n",
              "      <td>8.106</td>\n",
              "      <td>A</td>\n",
              "      <td>151315</td>\n",
              "    </tr>\n",
              "    <tr>\n",
              "      <th>4</th>\n",
              "      <td>1</td>\n",
              "      <td>1</td>\n",
              "      <td>2010-03-05</td>\n",
              "      <td>21827.90</td>\n",
              "      <td>False</td>\n",
              "      <td>46.50</td>\n",
              "      <td>2.625</td>\n",
              "      <td>NaN</td>\n",
              "      <td>NaN</td>\n",
              "      <td>NaN</td>\n",
              "      <td>NaN</td>\n",
              "      <td>NaN</td>\n",
              "      <td>211.350143</td>\n",
              "      <td>8.106</td>\n",
              "      <td>A</td>\n",
              "      <td>151315</td>\n",
              "    </tr>\n",
              "  </tbody>\n",
              "</table>\n",
              "</div>\n",
              "    <div class=\"colab-df-buttons\">\n",
              "\n",
              "  <div class=\"colab-df-container\">\n",
              "    <button class=\"colab-df-convert\" onclick=\"convertToInteractive('df-4e1fadcb-c104-4fe4-b7cc-601eda03307c')\"\n",
              "            title=\"Convert this dataframe to an interactive table.\"\n",
              "            style=\"display:none;\">\n",
              "\n",
              "  <svg xmlns=\"http://www.w3.org/2000/svg\" height=\"24px\" viewBox=\"0 -960 960 960\">\n",
              "    <path d=\"M120-120v-720h720v720H120Zm60-500h600v-160H180v160Zm220 220h160v-160H400v160Zm0 220h160v-160H400v160ZM180-400h160v-160H180v160Zm440 0h160v-160H620v160ZM180-180h160v-160H180v160Zm440 0h160v-160H620v160Z\"/>\n",
              "  </svg>\n",
              "    </button>\n",
              "\n",
              "  <style>\n",
              "    .colab-df-container {\n",
              "      display:flex;\n",
              "      gap: 12px;\n",
              "    }\n",
              "\n",
              "    .colab-df-convert {\n",
              "      background-color: #E8F0FE;\n",
              "      border: none;\n",
              "      border-radius: 50%;\n",
              "      cursor: pointer;\n",
              "      display: none;\n",
              "      fill: #1967D2;\n",
              "      height: 32px;\n",
              "      padding: 0 0 0 0;\n",
              "      width: 32px;\n",
              "    }\n",
              "\n",
              "    .colab-df-convert:hover {\n",
              "      background-color: #E2EBFA;\n",
              "      box-shadow: 0px 1px 2px rgba(60, 64, 67, 0.3), 0px 1px 3px 1px rgba(60, 64, 67, 0.15);\n",
              "      fill: #174EA6;\n",
              "    }\n",
              "\n",
              "    .colab-df-buttons div {\n",
              "      margin-bottom: 4px;\n",
              "    }\n",
              "\n",
              "    [theme=dark] .colab-df-convert {\n",
              "      background-color: #3B4455;\n",
              "      fill: #D2E3FC;\n",
              "    }\n",
              "\n",
              "    [theme=dark] .colab-df-convert:hover {\n",
              "      background-color: #434B5C;\n",
              "      box-shadow: 0px 1px 3px 1px rgba(0, 0, 0, 0.15);\n",
              "      filter: drop-shadow(0px 1px 2px rgba(0, 0, 0, 0.3));\n",
              "      fill: #FFFFFF;\n",
              "    }\n",
              "  </style>\n",
              "\n",
              "    <script>\n",
              "      const buttonEl =\n",
              "        document.querySelector('#df-4e1fadcb-c104-4fe4-b7cc-601eda03307c button.colab-df-convert');\n",
              "      buttonEl.style.display =\n",
              "        google.colab.kernel.accessAllowed ? 'block' : 'none';\n",
              "\n",
              "      async function convertToInteractive(key) {\n",
              "        const element = document.querySelector('#df-4e1fadcb-c104-4fe4-b7cc-601eda03307c');\n",
              "        const dataTable =\n",
              "          await google.colab.kernel.invokeFunction('convertToInteractive',\n",
              "                                                    [key], {});\n",
              "        if (!dataTable) return;\n",
              "\n",
              "        const docLinkHtml = 'Like what you see? Visit the ' +\n",
              "          '<a target=\"_blank\" href=https://colab.research.google.com/notebooks/data_table.ipynb>data table notebook</a>'\n",
              "          + ' to learn more about interactive tables.';\n",
              "        element.innerHTML = '';\n",
              "        dataTable['output_type'] = 'display_data';\n",
              "        await google.colab.output.renderOutput(dataTable, element);\n",
              "        const docLink = document.createElement('div');\n",
              "        docLink.innerHTML = docLinkHtml;\n",
              "        element.appendChild(docLink);\n",
              "      }\n",
              "    </script>\n",
              "  </div>\n",
              "\n",
              "\n",
              "    <div id=\"df-2465493a-de75-4961-ac33-db1cae0b3b46\">\n",
              "      <button class=\"colab-df-quickchart\" onclick=\"quickchart('df-2465493a-de75-4961-ac33-db1cae0b3b46')\"\n",
              "                title=\"Suggest charts\"\n",
              "                style=\"display:none;\">\n",
              "\n",
              "<svg xmlns=\"http://www.w3.org/2000/svg\" height=\"24px\"viewBox=\"0 0 24 24\"\n",
              "     width=\"24px\">\n",
              "    <g>\n",
              "        <path d=\"M19 3H5c-1.1 0-2 .9-2 2v14c0 1.1.9 2 2 2h14c1.1 0 2-.9 2-2V5c0-1.1-.9-2-2-2zM9 17H7v-7h2v7zm4 0h-2V7h2v10zm4 0h-2v-4h2v4z\"/>\n",
              "    </g>\n",
              "</svg>\n",
              "      </button>\n",
              "\n",
              "<style>\n",
              "  .colab-df-quickchart {\n",
              "      --bg-color: #E8F0FE;\n",
              "      --fill-color: #1967D2;\n",
              "      --hover-bg-color: #E2EBFA;\n",
              "      --hover-fill-color: #174EA6;\n",
              "      --disabled-fill-color: #AAA;\n",
              "      --disabled-bg-color: #DDD;\n",
              "  }\n",
              "\n",
              "  [theme=dark] .colab-df-quickchart {\n",
              "      --bg-color: #3B4455;\n",
              "      --fill-color: #D2E3FC;\n",
              "      --hover-bg-color: #434B5C;\n",
              "      --hover-fill-color: #FFFFFF;\n",
              "      --disabled-bg-color: #3B4455;\n",
              "      --disabled-fill-color: #666;\n",
              "  }\n",
              "\n",
              "  .colab-df-quickchart {\n",
              "    background-color: var(--bg-color);\n",
              "    border: none;\n",
              "    border-radius: 50%;\n",
              "    cursor: pointer;\n",
              "    display: none;\n",
              "    fill: var(--fill-color);\n",
              "    height: 32px;\n",
              "    padding: 0;\n",
              "    width: 32px;\n",
              "  }\n",
              "\n",
              "  .colab-df-quickchart:hover {\n",
              "    background-color: var(--hover-bg-color);\n",
              "    box-shadow: 0 1px 2px rgba(60, 64, 67, 0.3), 0 1px 3px 1px rgba(60, 64, 67, 0.15);\n",
              "    fill: var(--button-hover-fill-color);\n",
              "  }\n",
              "\n",
              "  .colab-df-quickchart-complete:disabled,\n",
              "  .colab-df-quickchart-complete:disabled:hover {\n",
              "    background-color: var(--disabled-bg-color);\n",
              "    fill: var(--disabled-fill-color);\n",
              "    box-shadow: none;\n",
              "  }\n",
              "\n",
              "  .colab-df-spinner {\n",
              "    border: 2px solid var(--fill-color);\n",
              "    border-color: transparent;\n",
              "    border-bottom-color: var(--fill-color);\n",
              "    animation:\n",
              "      spin 1s steps(1) infinite;\n",
              "  }\n",
              "\n",
              "  @keyframes spin {\n",
              "    0% {\n",
              "      border-color: transparent;\n",
              "      border-bottom-color: var(--fill-color);\n",
              "      border-left-color: var(--fill-color);\n",
              "    }\n",
              "    20% {\n",
              "      border-color: transparent;\n",
              "      border-left-color: var(--fill-color);\n",
              "      border-top-color: var(--fill-color);\n",
              "    }\n",
              "    30% {\n",
              "      border-color: transparent;\n",
              "      border-left-color: var(--fill-color);\n",
              "      border-top-color: var(--fill-color);\n",
              "      border-right-color: var(--fill-color);\n",
              "    }\n",
              "    40% {\n",
              "      border-color: transparent;\n",
              "      border-right-color: var(--fill-color);\n",
              "      border-top-color: var(--fill-color);\n",
              "    }\n",
              "    60% {\n",
              "      border-color: transparent;\n",
              "      border-right-color: var(--fill-color);\n",
              "    }\n",
              "    80% {\n",
              "      border-color: transparent;\n",
              "      border-right-color: var(--fill-color);\n",
              "      border-bottom-color: var(--fill-color);\n",
              "    }\n",
              "    90% {\n",
              "      border-color: transparent;\n",
              "      border-bottom-color: var(--fill-color);\n",
              "    }\n",
              "  }\n",
              "</style>\n",
              "\n",
              "      <script>\n",
              "        async function quickchart(key) {\n",
              "          const quickchartButtonEl =\n",
              "            document.querySelector('#' + key + ' button');\n",
              "          quickchartButtonEl.disabled = true;  // To prevent multiple clicks.\n",
              "          quickchartButtonEl.classList.add('colab-df-spinner');\n",
              "          try {\n",
              "            const charts = await google.colab.kernel.invokeFunction(\n",
              "                'suggestCharts', [key], {});\n",
              "          } catch (error) {\n",
              "            console.error('Error during call to suggestCharts:', error);\n",
              "          }\n",
              "          quickchartButtonEl.classList.remove('colab-df-spinner');\n",
              "          quickchartButtonEl.classList.add('colab-df-quickchart-complete');\n",
              "        }\n",
              "        (() => {\n",
              "          let quickchartButtonEl =\n",
              "            document.querySelector('#df-2465493a-de75-4961-ac33-db1cae0b3b46 button');\n",
              "          quickchartButtonEl.style.display =\n",
              "            google.colab.kernel.accessAllowed ? 'block' : 'none';\n",
              "        })();\n",
              "      </script>\n",
              "    </div>\n",
              "\n",
              "    </div>\n",
              "  </div>\n"
            ],
            "application/vnd.google.colaboratory.intrinsic+json": {
              "type": "dataframe",
              "variable_name": "df"
            }
          },
          "metadata": {},
          "execution_count": 51
        }
      ],
      "source": [
        "df.head()"
      ]
    },
    {
      "cell_type": "markdown",
      "metadata": {
        "id": "7hBIi_osiCS2"
      },
      "source": [
        "### Dataset Rows & Columns count"
      ]
    },
    {
      "cell_type": "code",
      "execution_count": 52,
      "metadata": {
        "colab": {
          "base_uri": "https://localhost:8080/"
        },
        "id": "Kllu7SJgmLij",
        "outputId": "873fdb9a-6949-412d-9870-2d133cedef09"
      },
      "outputs": [
        {
          "output_type": "execute_result",
          "data": {
            "text/plain": [
              "(421570, 16)"
            ]
          },
          "metadata": {},
          "execution_count": 52
        }
      ],
      "source": [
        "# Dataset Rows & Columns count\n",
        "df.shape"
      ]
    },
    {
      "cell_type": "markdown",
      "metadata": {
        "id": "JlHwYmJAmNHm"
      },
      "source": [
        "### Dataset Information"
      ]
    },
    {
      "cell_type": "code",
      "execution_count": 53,
      "metadata": {
        "colab": {
          "base_uri": "https://localhost:8080/"
        },
        "id": "e9hRXRi6meOf",
        "outputId": "1dc901a3-5add-4200-9c4d-c0dcdf7fa29d"
      },
      "outputs": [
        {
          "output_type": "stream",
          "name": "stdout",
          "text": [
            "<class 'pandas.core.frame.DataFrame'>\n",
            "RangeIndex: 421570 entries, 0 to 421569\n",
            "Data columns (total 16 columns):\n",
            " #   Column        Non-Null Count   Dtype         \n",
            "---  ------        --------------   -----         \n",
            " 0   Store         421570 non-null  int64         \n",
            " 1   Dept          421570 non-null  int64         \n",
            " 2   Date          421570 non-null  datetime64[ns]\n",
            " 3   Weekly_Sales  421570 non-null  float64       \n",
            " 4   IsHoliday     421570 non-null  bool          \n",
            " 5   Temperature   421570 non-null  float64       \n",
            " 6   Fuel_Price    421570 non-null  float64       \n",
            " 7   MarkDown1     150681 non-null  float64       \n",
            " 8   MarkDown2     111248 non-null  float64       \n",
            " 9   MarkDown3     137091 non-null  float64       \n",
            " 10  MarkDown4     134967 non-null  float64       \n",
            " 11  MarkDown5     151432 non-null  float64       \n",
            " 12  CPI           421570 non-null  float64       \n",
            " 13  Unemployment  421570 non-null  float64       \n",
            " 14  Type          421570 non-null  object        \n",
            " 15  Size          421570 non-null  int64         \n",
            "dtypes: bool(1), datetime64[ns](1), float64(10), int64(3), object(1)\n",
            "memory usage: 48.6+ MB\n"
          ]
        }
      ],
      "source": [
        "# Dataset Info\n",
        "df.info()"
      ]
    },
    {
      "cell_type": "markdown",
      "metadata": {
        "id": "35m5QtbWiB9F"
      },
      "source": [
        "#### Duplicate Values"
      ]
    },
    {
      "cell_type": "code",
      "execution_count": 54,
      "metadata": {
        "colab": {
          "base_uri": "https://localhost:8080/"
        },
        "id": "1sLdpKYkmox0",
        "outputId": "45cd03cb-f42f-4872-f5ac-2a7bb65671c2"
      },
      "outputs": [
        {
          "output_type": "execute_result",
          "data": {
            "text/plain": [
              "0"
            ]
          },
          "metadata": {},
          "execution_count": 54
        }
      ],
      "source": [
        "# Dataset Duplicate Value Count\n",
        "df.duplicated().sum()"
      ]
    },
    {
      "cell_type": "markdown",
      "metadata": {
        "id": "PoPl-ycgm1ru"
      },
      "source": [
        "#### Missing Values/Null Values"
      ]
    },
    {
      "cell_type": "code",
      "execution_count": 55,
      "metadata": {
        "colab": {
          "base_uri": "https://localhost:8080/",
          "height": 586
        },
        "id": "GgHWkxvamxVg",
        "outputId": "811c072e-618e-41d9-f45d-eb5ff74f228d"
      },
      "outputs": [
        {
          "output_type": "execute_result",
          "data": {
            "text/plain": [
              "Store                0\n",
              "Dept                 0\n",
              "Date                 0\n",
              "Weekly_Sales         0\n",
              "IsHoliday            0\n",
              "Temperature          0\n",
              "Fuel_Price           0\n",
              "MarkDown1       270889\n",
              "MarkDown2       310322\n",
              "MarkDown3       284479\n",
              "MarkDown4       286603\n",
              "MarkDown5       270138\n",
              "CPI                  0\n",
              "Unemployment         0\n",
              "Type                 0\n",
              "Size                 0\n",
              "dtype: int64"
            ],
            "text/html": [
              "<div>\n",
              "<style scoped>\n",
              "    .dataframe tbody tr th:only-of-type {\n",
              "        vertical-align: middle;\n",
              "    }\n",
              "\n",
              "    .dataframe tbody tr th {\n",
              "        vertical-align: top;\n",
              "    }\n",
              "\n",
              "    .dataframe thead th {\n",
              "        text-align: right;\n",
              "    }\n",
              "</style>\n",
              "<table border=\"1\" class=\"dataframe\">\n",
              "  <thead>\n",
              "    <tr style=\"text-align: right;\">\n",
              "      <th></th>\n",
              "      <th>0</th>\n",
              "    </tr>\n",
              "  </thead>\n",
              "  <tbody>\n",
              "    <tr>\n",
              "      <th>Store</th>\n",
              "      <td>0</td>\n",
              "    </tr>\n",
              "    <tr>\n",
              "      <th>Dept</th>\n",
              "      <td>0</td>\n",
              "    </tr>\n",
              "    <tr>\n",
              "      <th>Date</th>\n",
              "      <td>0</td>\n",
              "    </tr>\n",
              "    <tr>\n",
              "      <th>Weekly_Sales</th>\n",
              "      <td>0</td>\n",
              "    </tr>\n",
              "    <tr>\n",
              "      <th>IsHoliday</th>\n",
              "      <td>0</td>\n",
              "    </tr>\n",
              "    <tr>\n",
              "      <th>Temperature</th>\n",
              "      <td>0</td>\n",
              "    </tr>\n",
              "    <tr>\n",
              "      <th>Fuel_Price</th>\n",
              "      <td>0</td>\n",
              "    </tr>\n",
              "    <tr>\n",
              "      <th>MarkDown1</th>\n",
              "      <td>270889</td>\n",
              "    </tr>\n",
              "    <tr>\n",
              "      <th>MarkDown2</th>\n",
              "      <td>310322</td>\n",
              "    </tr>\n",
              "    <tr>\n",
              "      <th>MarkDown3</th>\n",
              "      <td>284479</td>\n",
              "    </tr>\n",
              "    <tr>\n",
              "      <th>MarkDown4</th>\n",
              "      <td>286603</td>\n",
              "    </tr>\n",
              "    <tr>\n",
              "      <th>MarkDown5</th>\n",
              "      <td>270138</td>\n",
              "    </tr>\n",
              "    <tr>\n",
              "      <th>CPI</th>\n",
              "      <td>0</td>\n",
              "    </tr>\n",
              "    <tr>\n",
              "      <th>Unemployment</th>\n",
              "      <td>0</td>\n",
              "    </tr>\n",
              "    <tr>\n",
              "      <th>Type</th>\n",
              "      <td>0</td>\n",
              "    </tr>\n",
              "    <tr>\n",
              "      <th>Size</th>\n",
              "      <td>0</td>\n",
              "    </tr>\n",
              "  </tbody>\n",
              "</table>\n",
              "</div><br><label><b>dtype:</b> int64</label>"
            ]
          },
          "metadata": {},
          "execution_count": 55
        }
      ],
      "source": [
        "# Missing Values/Null Values Count\n",
        "df.isnull().sum()"
      ]
    },
    {
      "cell_type": "code",
      "execution_count": 56,
      "metadata": {
        "colab": {
          "base_uri": "https://localhost:8080/",
          "height": 539
        },
        "id": "3q5wnI3om9sJ",
        "outputId": "4f25ecbd-a568-4e89-d5f4-ced5f0d5f833"
      },
      "outputs": [
        {
          "output_type": "execute_result",
          "data": {
            "text/plain": [
              "<Axes: >"
            ]
          },
          "metadata": {},
          "execution_count": 56
        },
        {
          "output_type": "display_data",
          "data": {
            "text/plain": [
              "<Figure size 640x480 with 1 Axes>"
            ],
            "image/png": "[encoded data removed]"
          },
          "metadata": {}
        }
      ],
      "source": [
        "# Visualizing the missing values\n",
        "df.isnull().sum().plot(kind='bar')"
      ]
    },
    {
      "cell_type": "markdown",
      "metadata": {
        "id": "H0kj-8xxnORC"
      },
      "source": [
        "### What did you know about your dataset?"
      ]
    },
    {
      "cell_type": "markdown",
      "metadata": {
        "id": "gfoNAAC-nUe_"
      },
      "source": [
        "We came to know that there are multiple markdown columns that have many null values to be treated."
      ]
    },
    {
      "cell_type": "markdown",
      "metadata": {
        "id": "nA9Y7ga8ng1Z"
      },
      "source": [
        "## ***2. Understanding Your Variables***"
      ]
    },
    {
      "cell_type": "code",
      "execution_count": 57,
      "metadata": {
        "colab": {
          "base_uri": "https://localhost:8080/"
        },
        "id": "j7xfkqrt5Ag5",
        "outputId": "db2b6c0e-d634-4e5c-ca4c-87b08794749d"
      },
      "outputs": [
        {
          "output_type": "execute_result",
          "data": {
            "text/plain": [
              "Index(['Store', 'Dept', 'Date', 'Weekly_Sales', 'IsHoliday', 'Temperature',\n",
              "       'Fuel_Price', 'MarkDown1', 'MarkDown2', 'MarkDown3', 'MarkDown4',\n",
              "       'MarkDown5', 'CPI', 'Unemployment', 'Type', 'Size'],\n",
              "      dtype='object')"
            ]
          },
          "metadata": {},
          "execution_count": 57
        }
      ],
      "source": [
        "# Dataset Columns\n",
        "df.columns"
      ]
    },
    {
      "cell_type": "code",
      "execution_count": 58,
      "metadata": {
        "colab": {
          "base_uri": "https://localhost:8080/",
          "height": 187
        },
        "id": "DnOaZdaE5Q5t",
        "outputId": "c1e008d4-a949-4d8b-d22e-ab52006352ab"
      },
      "outputs": [
        {
          "output_type": "execute_result",
          "data": {
            "text/plain": [
              "<bound method NDFrame.describe of         Store  Dept       Date  Weekly_Sales  IsHoliday  Temperature  \\\n",
              "0           1     1 2010-02-05      24924.50      False        42.31   \n",
              "1           1     1 2010-02-12      46039.49       True        38.51   \n",
              "2           1     1 2010-02-19      41595.55      False        39.93   \n",
              "3           1     1 2010-02-26      19403.54      False        46.63   \n",
              "4           1     1 2010-03-05      21827.90      False        46.50   \n",
              "...       ...   ...        ...           ...        ...          ...   \n",
              "421565     45    98 2012-09-28        508.37      False        64.88   \n",
              "421566     45    98 2012-10-05        628.10      False        64.89   \n",
              "421567     45    98 2012-10-12       1061.02      False        54.47   \n",
              "421568     45    98 2012-10-19        760.01      False        56.47   \n",
              "421569     45    98 2012-10-26       1076.80      False        58.85   \n",
              "\n",
              "        Fuel_Price  MarkDown1  MarkDown2  MarkDown3  MarkDown4  MarkDown5  \\\n",
              "0            2.572        NaN        NaN        NaN        NaN        NaN   \n",
              "1            2.548        NaN        NaN        NaN        NaN        NaN   \n",
              "2            2.514        NaN        NaN        NaN        NaN        NaN   \n",
              "3            2.561        NaN        NaN        NaN        NaN        NaN   \n",
              "4            2.625        NaN        NaN        NaN        NaN        NaN   \n",
              "...            ...        ...        ...        ...        ...        ...   \n",
              "421565       3.997    4556.61      20.64       1.50    1601.01    3288.25   \n",
              "421566       3.985    5046.74        NaN      18.82    2253.43    2340.01   \n",
              "421567       4.000    1956.28        NaN       7.89     599.32    3990.54   \n",
              "421568       3.969    2004.02        NaN       3.18     437.73    1537.49   \n",
              "421569       3.882    4018.91      58.08     100.00     211.94     858.33   \n",
              "\n",
              "               CPI  Unemployment Type    Size  \n",
              "0       211.096358         8.106    A  151315  \n",
              "1       211.242170         8.106    A  151315  \n",
              "2       211.289143         8.106    A  151315  \n",
              "3       211.319643         8.106    A  151315  \n",
              "4       211.350143         8.106    A  151315  \n",
              "...            ...           ...  ...     ...  \n",
              "421565  192.013558         8.684    B  118221  \n",
              "421566  192.170412         8.667    B  118221  \n",
              "421567  192.327265         8.667    B  118221  \n",
              "421568  192.330854         8.667    B  118221  \n",
              "421569  192.308899         8.667    B  118221  \n",
              "\n",
              "[421570 rows x 16 columns]>"
            ],
            "text/html": [
              "<div style=\"max-width:800px; border: 1px solid var(--colab-border-color);\"><style>\n",
              "      pre.function-repr-contents {\n",
              "        overflow-x: auto;\n",
              "        padding: 8px 12px;\n",
              "        max-height: 500px;\n",
              "      }\n",
              "\n",
              "      pre.function-repr-contents.function-repr-contents-collapsed {\n",
              "        cursor: pointer;\n",
              "        max-height: 100px;\n",
              "      }\n",
              "    </style>\n",
              "    <pre style=\"white-space: initial; background:\n",
              "         var(--colab-secondary-surface-color); padding: 8px 12px;\n",
              "         border-bottom: 1px solid var(--colab-border-color);\"><b>pandas.core.generic.NDFrame.describe</b><br/>def describe(percentiles=None, include=None, exclude=None) -&gt; Self</pre><pre class=\"function-repr-contents function-repr-contents-collapsed\" style=\"\"><a class=\"filepath\" style=\"display:none\" href=\"#\">/usr/local/lib/python3.12/dist-packages/pandas/core/generic.py</a>Generate descriptive statistics.\n",
              "\n",
              "Descriptive statistics include those that summarize the central\n",
              "tendency, dispersion and shape of a\n",
              "dataset&#x27;s distribution, excluding ``NaN`` values.\n",
              "\n",
              "Analyzes both numeric and object series, as well\n",
              "as ``DataFrame`` column sets of mixed data types. The output\n",
              "will vary depending on what is provided. Refer to the notes\n",
              "below for more detail.\n",
              "\n",
              "Parameters\n",
              "----------\n",
              "percentiles : list-like of numbers, optional\n",
              "    The percentiles to include in the output. All should\n",
              "    fall between 0 and 1. The default is\n",
              "    ``[.25, .5, .75]``, which returns the 25th, 50th, and\n",
              "    75th percentiles.\n",
              "include : &#x27;all&#x27;, list-like of dtypes or None (default), optional\n",
              "    A white list of data types to include in the result. Ignored\n",
              "    for ``Series``. Here are the options:\n",
              "\n",
              "    - &#x27;all&#x27; : All columns of the input will be included in the output.\n",
              "    - A list-like of dtypes : Limits the results to the\n",
              "      provided data types.\n",
              "      To limit the result to numeric types submit\n",
              "      ``numpy.number``. To limit it instead to object columns submit\n",
              "      the ``numpy.object`` data type. Strings\n",
              "      can also be used in the style of\n",
              "      ``select_dtypes`` (e.g. ``df.describe(include=[&#x27;O&#x27;])``). To\n",
              "      select pandas categorical columns, use ``&#x27;category&#x27;``\n",
              "    - None (default) : The result will include all numeric columns.\n",
              "exclude : list-like of dtypes or None (default), optional,\n",
              "    A black list of data types to omit from the result. Ignored\n",
              "    for ``Series``. Here are the options:\n",
              "\n",
              "    - A list-like of dtypes : Excludes the provided data types\n",
              "      from the result. To exclude numeric types submit\n",
              "      ``numpy.number``. To exclude object columns submit the data\n",
              "      type ``numpy.object``. Strings can also be used in the style of\n",
              "      ``select_dtypes`` (e.g. ``df.describe(exclude=[&#x27;O&#x27;])``). To\n",
              "      exclude pandas categorical columns, use ``&#x27;category&#x27;``\n",
              "    - None (default) : The result will exclude nothing.\n",
              "\n",
              "Returns\n",
              "-------\n",
              "Series or DataFrame\n",
              "    Summary statistics of the Series or Dataframe provided.\n",
              "\n",
              "See Also\n",
              "--------\n",
              "DataFrame.count: Count number of non-NA/null observations.\n",
              "DataFrame.max: Maximum of the values in the object.\n",
              "DataFrame.min: Minimum of the values in the object.\n",
              "DataFrame.mean: Mean of the values.\n",
              "DataFrame.std: Standard deviation of the observations.\n",
              "DataFrame.select_dtypes: Subset of a DataFrame including/excluding\n",
              "    columns based on their dtype.\n",
              "\n",
              "Notes\n",
              "-----\n",
              "For numeric data, the result&#x27;s index will include ``count``,\n",
              "``mean``, ``std``, ``min``, ``max`` as well as lower, ``50`` and\n",
              "upper percentiles. By default the lower percentile is ``25`` and the\n",
              "upper percentile is ``75``. The ``50`` percentile is the\n",
              "same as the median.\n",
              "\n",
              "For object data (e.g. strings or timestamps), the result&#x27;s index\n",
              "will include ``count``, ``unique``, ``top``, and ``freq``. The ``top``\n",
              "is the most common value. The ``freq`` is the most common value&#x27;s\n",
              "frequency. Timestamps also include the ``first`` and ``last`` items.\n",
              "\n",
              "If multiple object values have the highest count, then the\n",
              "``count`` and ``top`` results will be arbitrarily chosen from\n",
              "among those with the highest count.\n",
              "\n",
              "For mixed data types provided via a ``DataFrame``, the default is to\n",
              "return only an analysis of numeric columns. If the dataframe consists\n",
              "only of object and categorical data without any numeric columns, the\n",
              "default is to return an analysis of both the object and categorical\n",
              "columns. If ``include=&#x27;all&#x27;`` is provided as an option, the result\n",
              "will include a union of attributes of each type.\n",
              "\n",
              "The `include` and `exclude` parameters can be used to limit\n",
              "which columns in a ``DataFrame`` are analyzed for the output.\n",
              "The parameters are ignored when analyzing a ``Series``.\n",
              "\n",
              "Examples\n",
              "--------\n",
              "Describing a numeric ``Series``.\n",
              "\n",
              "&gt;&gt;&gt; s = pd.Series([1, 2, 3])\n",
              "&gt;&gt;&gt; s.describe()\n",
              "count    3.0\n",
              "mean     2.0\n",
              "std      1.0\n",
              "min      1.0\n",
              "25%      1.5\n",
              "50%      2.0\n",
              "75%      2.5\n",
              "max      3.0\n",
              "dtype: float64\n",
              "\n",
              "Describing a categorical ``Series``.\n",
              "\n",
              "&gt;&gt;&gt; s = pd.Series([&#x27;a&#x27;, &#x27;a&#x27;, &#x27;b&#x27;, &#x27;c&#x27;])\n",
              "&gt;&gt;&gt; s.describe()\n",
              "count     4\n",
              "unique    3\n",
              "top       a\n",
              "freq      2\n",
              "dtype: object\n",
              "\n",
              "Describing a timestamp ``Series``.\n",
              "\n",
              "&gt;&gt;&gt; s = pd.Series([\n",
              "...     np.datetime64(&quot;2000-01-01&quot;),\n",
              "...     np.datetime64(&quot;2010-01-01&quot;),\n",
              "...     np.datetime64(&quot;2010-01-01&quot;)\n",
              "... ])\n",
              "&gt;&gt;&gt; s.describe()\n",
              "count                      3\n",
              "mean     2006-09-01 08:00:00\n",
              "min      2000-01-01 00:00:00\n",
              "25%      2004-12-31 12:00:00\n",
              "50%      2010-01-01 00:00:00\n",
              "75%      2010-01-01 00:00:00\n",
              "max      2010-01-01 00:00:00\n",
              "dtype: object\n",
              "\n",
              "Describing a ``DataFrame``. By default only numeric fields\n",
              "are returned.\n",
              "\n",
              "&gt;&gt;&gt; df = pd.DataFrame({&#x27;categorical&#x27;: pd.Categorical([&#x27;d&#x27;, &#x27;e&#x27;, &#x27;f&#x27;]),\n",
              "...                    &#x27;numeric&#x27;: [1, 2, 3],\n",
              "...                    &#x27;object&#x27;: [&#x27;a&#x27;, &#x27;b&#x27;, &#x27;c&#x27;]\n",
              "...                    })\n",
              "&gt;&gt;&gt; df.describe()\n",
              "       numeric\n",
              "count      3.0\n",
              "mean       2.0\n",
              "std        1.0\n",
              "min        1.0\n",
              "25%        1.5\n",
              "50%        2.0\n",
              "75%        2.5\n",
              "max        3.0\n",
              "\n",
              "Describing all columns of a ``DataFrame`` regardless of data type.\n",
              "\n",
              "&gt;&gt;&gt; df.describe(include=&#x27;all&#x27;)  # doctest: +SKIP\n",
              "       categorical  numeric object\n",
              "count            3      3.0      3\n",
              "unique           3      NaN      3\n",
              "top              f      NaN      a\n",
              "freq             1      NaN      1\n",
              "mean           NaN      2.0    NaN\n",
              "std            NaN      1.0    NaN\n",
              "min            NaN      1.0    NaN\n",
              "25%            NaN      1.5    NaN\n",
              "50%            NaN      2.0    NaN\n",
              "75%            NaN      2.5    NaN\n",
              "max            NaN      3.0    NaN\n",
              "\n",
              "Describing a column from a ``DataFrame`` by accessing it as\n",
              "an attribute.\n",
              "\n",
              "&gt;&gt;&gt; df.numeric.describe()\n",
              "count    3.0\n",
              "mean     2.0\n",
              "std      1.0\n",
              "min      1.0\n",
              "25%      1.5\n",
              "50%      2.0\n",
              "75%      2.5\n",
              "max      3.0\n",
              "Name: numeric, dtype: float64\n",
              "\n",
              "Including only numeric columns in a ``DataFrame`` description.\n",
              "\n",
              "&gt;&gt;&gt; df.describe(include=[np.number])\n",
              "       numeric\n",
              "count      3.0\n",
              "mean       2.0\n",
              "std        1.0\n",
              "min        1.0\n",
              "25%        1.5\n",
              "50%        2.0\n",
              "75%        2.5\n",
              "max        3.0\n",
              "\n",
              "Including only string columns in a ``DataFrame`` description.\n",
              "\n",
              "&gt;&gt;&gt; df.describe(include=[object])  # doctest: +SKIP\n",
              "       object\n",
              "count       3\n",
              "unique      3\n",
              "top         a\n",
              "freq        1\n",
              "\n",
              "Including only categorical columns from a ``DataFrame`` description.\n",
              "\n",
              "&gt;&gt;&gt; df.describe(include=[&#x27;category&#x27;])\n",
              "       categorical\n",
              "count            3\n",
              "unique           3\n",
              "top              d\n",
              "freq             1\n",
              "\n",
              "Excluding numeric columns from a ``DataFrame`` description.\n",
              "\n",
              "&gt;&gt;&gt; df.describe(exclude=[np.number])  # doctest: +SKIP\n",
              "       categorical object\n",
              "count            3      3\n",
              "unique           3      3\n",
              "top              f      a\n",
              "freq             1      1\n",
              "\n",
              "Excluding object columns from a ``DataFrame`` description.\n",
              "\n",
              "&gt;&gt;&gt; df.describe(exclude=[object])  # doctest: +SKIP\n",
              "       categorical  numeric\n",
              "count            3      3.0\n",
              "unique           3      NaN\n",
              "top              f      NaN\n",
              "freq             1      NaN\n",
              "mean           NaN      2.0\n",
              "std            NaN      1.0\n",
              "min            NaN      1.0\n",
              "25%            NaN      1.5\n",
              "50%            NaN      2.0\n",
              "75%            NaN      2.5\n",
              "max            NaN      3.0</pre>\n",
              "      <script>\n",
              "      if (google.colab.kernel.accessAllowed && google.colab.files && google.colab.files.view) {\n",
              "        for (const element of document.querySelectorAll('.filepath')) {\n",
              "          element.style.display = 'block'\n",
              "          element.onclick = (event) => {\n",
              "            event.preventDefault();\n",
              "            event.stopPropagation();\n",
              "            google.colab.files.view(element.textContent, 11734);\n",
              "          };\n",
              "        }\n",
              "      }\n",
              "      for (const element of document.querySelectorAll('.function-repr-contents')) {\n",
              "        element.onclick = (event) => {\n",
              "          event.preventDefault();\n",
              "          event.stopPropagation();\n",
              "          element.classList.toggle('function-repr-contents-collapsed');\n",
              "        };\n",
              "      }\n",
              "      </script>\n",
              "      </div>"
            ]
          },
          "metadata": {},
          "execution_count": 58
        }
      ],
      "source": [
        "# Dataset Describe\n",
        "df.describe"
      ]
    },
    {
      "cell_type": "markdown",
      "metadata": {
        "id": "PBTbrJXOngz2"
      },
      "source": [
        "### Variables Description"
      ]
    },
    {
      "cell_type": "markdown",
      "metadata": {
        "id": "aJV4KIxSnxay"
      },
      "source": [
        "There are variables like Date which gives the date of sales, Weekly Sales, Markdown to say whether any offer was given that time or not etc."
      ]
    },
    {
      "cell_type": "markdown",
      "metadata": {
        "id": "u3PMJOP6ngxN"
      },
      "source": [
        "### Check Unique Values for each variable."
      ]
    },
    {
      "cell_type": "code",
      "execution_count": 59,
      "metadata": {
        "colab": {
          "base_uri": "https://localhost:8080/",
          "height": 586
        },
        "id": "zms12Yq5n-jE",
        "outputId": "65525401-9870-492e-8e58-86da67113db3"
      },
      "outputs": [
        {
          "output_type": "execute_result",
          "data": {
            "text/plain": [
              "Store               45\n",
              "Dept                81\n",
              "Date               143\n",
              "Weekly_Sales    359464\n",
              "IsHoliday            2\n",
              "Temperature       3528\n",
              "Fuel_Price         892\n",
              "MarkDown1         2277\n",
              "MarkDown2         1499\n",
              "MarkDown3         1662\n",
              "MarkDown4         1944\n",
              "MarkDown5         2293\n",
              "CPI               2145\n",
              "Unemployment       349\n",
              "Type                 3\n",
              "Size                40\n",
              "dtype: int64"
            ],
            "text/html": [
              "<div>\n",
              "<style scoped>\n",
              "    .dataframe tbody tr th:only-of-type {\n",
              "        vertical-align: middle;\n",
              "    }\n",
              "\n",
              "    .dataframe tbody tr th {\n",
              "        vertical-align: top;\n",
              "    }\n",
              "\n",
              "    .dataframe thead th {\n",
              "        text-align: right;\n",
              "    }\n",
              "</style>\n",
              "<table border=\"1\" class=\"dataframe\">\n",
              "  <thead>\n",
              "    <tr style=\"text-align: right;\">\n",
              "      <th></th>\n",
              "      <th>0</th>\n",
              "    </tr>\n",
              "  </thead>\n",
              "  <tbody>\n",
              "    <tr>\n",
              "      <th>Store</th>\n",
              "      <td>45</td>\n",
              "    </tr>\n",
              "    <tr>\n",
              "      <th>Dept</th>\n",
              "      <td>81</td>\n",
              "    </tr>\n",
              "    <tr>\n",
              "      <th>Date</th>\n",
              "      <td>143</td>\n",
              "    </tr>\n",
              "    <tr>\n",
              "      <th>Weekly_Sales</th>\n",
              "      <td>359464</td>\n",
              "    </tr>\n",
              "    <tr>\n",
              "      <th>IsHoliday</th>\n",
              "      <td>2</td>\n",
              "    </tr>\n",
              "    <tr>\n",
              "      <th>Temperature</th>\n",
              "      <td>3528</td>\n",
              "    </tr>\n",
              "    <tr>\n",
              "      <th>Fuel_Price</th>\n",
              "      <td>892</td>\n",
              "    </tr>\n",
              "    <tr>\n",
              "      <th>MarkDown1</th>\n",
              "      <td>2277</td>\n",
              "    </tr>\n",
              "    <tr>\n",
              "      <th>MarkDown2</th>\n",
              "      <td>1499</td>\n",
              "    </tr>\n",
              "    <tr>\n",
              "      <th>MarkDown3</th>\n",
              "      <td>1662</td>\n",
              "    </tr>\n",
              "    <tr>\n",
              "      <th>MarkDown4</th>\n",
              "      <td>1944</td>\n",
              "    </tr>\n",
              "    <tr>\n",
              "      <th>MarkDown5</th>\n",
              "      <td>2293</td>\n",
              "    </tr>\n",
              "    <tr>\n",
              "      <th>CPI</th>\n",
              "      <td>2145</td>\n",
              "    </tr>\n",
              "    <tr>\n",
              "      <th>Unemployment</th>\n",
              "      <td>349</td>\n",
              "    </tr>\n",
              "    <tr>\n",
              "      <th>Type</th>\n",
              "      <td>3</td>\n",
              "    </tr>\n",
              "    <tr>\n",
              "      <th>Size</th>\n",
              "      <td>40</td>\n",
              "    </tr>\n",
              "  </tbody>\n",
              "</table>\n",
              "</div><br><label><b>dtype:</b> int64</label>"
            ]
          },
          "metadata": {},
          "execution_count": 59
        }
      ],
      "source": [
        "# Check Unique Values for each variable.\n",
        "df.nunique()"
      ]
    },
    {
      "cell_type": "markdown",
      "metadata": {
        "id": "bKJF3rekwFvQ"
      },
      "source": [
        "### Feature Engineering and Data Preprocessing"
      ]
    },
    {
      "cell_type": "code",
      "execution_count": 60,
      "metadata": {
        "id": "wk-9a2fpoLcV"
      },
      "outputs": [],
      "source": [
        "# Write your code to make your dataset analysis ready.\n",
        "#Date Features\n",
        "df['Year'] = df['Date'].dt.year\n",
        "df['Month'] = df['Date'].dt.month\n",
        "df['Week'] = df['Date'].dt.isocalendar().week\n",
        "df['DayOfWeek'] = df['Date'].dt.dayofweek\n",
        "\n",
        "# Lag feature (previous week's sales per store-department)\n",
        "df['Lag_1'] = df.groupby(['Store','Dept'])['Weekly_Sales'].shift(1)\n",
        "df['Rolling_Mean_4'] = df.groupby(['Store','Dept'])['Weekly_Sales'].shift(1).rolling(4).mean()"
      ]
    },
    {
      "cell_type": "code",
      "execution_count": 61,
      "metadata": {
        "id": "-56x5b4XUDCo"
      },
      "outputs": [],
      "source": [
        "# Prepare data for modeling\n",
        "Features[['MarkDown1','MarkDown2','MarkDown3','MarkDown4','MarkDown5']] = (Features[['MarkDown1','MarkDown2','MarkDown3','MarkDown4','MarkDown5']].fillna(0))\n",
        "\n",
        "# Apply one-hot encoding to the 'Type' column\n",
        "df = pd.get_dummies(df, columns=['Type'], drop_first=True)\n",
        "\n",
        "# Define features and target\n",
        "X = df.drop(columns=[\"Weekly_Sales\", \"Date\"])\n",
        "y = df[\"Weekly_Sales\"]\n",
        "\n",
        "# Train-test split (time-based, last 3 months as validation)\n",
        "train = df[df['Year'] < 2012]\n",
        "test = df[df['Year'] == 2012]\n",
        "\n",
        "X_train, y_train = train.drop(columns=[\"Weekly_Sales\", \"Date\"]), train[\"Weekly_Sales\"]\n",
        "X_test, y_test = test.drop(columns=[\"Weekly_Sales\", \"Date\"]), test[\"Weekly_Sales\"]"
      ]
    },
    {
      "cell_type": "markdown",
      "metadata": {
        "id": "GF8Ens_Soomf"
      },
      "source": [
        "## ***4. Data Vizualization, Storytelling & Experimenting with charts : Understand the relationships between variables***"
      ]
    },
    {
      "cell_type": "markdown",
      "metadata": {
        "id": "0wOQAZs5pc--"
      },
      "source": [
        "#### Chart - 1 Total Sales Over Time"
      ]
    },
    {
      "cell_type": "code",
      "execution_count": 62,
      "metadata": {
        "colab": {
          "base_uri": "https://localhost:8080/",
          "height": 431
        },
        "id": "7v_ESjsspbW7",
        "outputId": "dbd1f353-6c48-4242-c612-5de9274f2fa1"
      },
      "outputs": [
        {
          "output_type": "display_data",
          "data": {
            "text/plain": [
              "<Figure size 1200x500 with 1 Axes>"
            ],
            "image/png": "[encoded data removed]"
          },
          "metadata": {}
        }
      ],
      "source": [
        "# Chart - 1 visualization code\n",
        "plt.figure(figsize=(12,5))\n",
        "Sales.groupby('Date')['Weekly_Sales'].sum().plot()\n",
        "plt.title(\"Total Weekly Sales Over Time\")\n",
        "plt.xlabel(\"Date\")\n",
        "plt.ylabel(\"Total Sales\")\n",
        "plt.show()"
      ]
    },
    {
      "cell_type": "markdown",
      "metadata": {
        "id": "XESiWehPqBRc"
      },
      "source": [
        "I picked the specific chart to find the seasonality of sales if it exists."
      ]
    },
    {
      "cell_type": "markdown",
      "metadata": {
        "id": "C_j1G7yiqdRP"
      },
      "source": [
        "The insight I found is that the sales spike around new year time thus showing a clear seasonality."
      ]
    },
    {
      "cell_type": "markdown",
      "metadata": {
        "id": "3cspy4FjqxJW"
      },
      "source": [
        "This insight indicates a negative growth that the sales remain fairly stagnant year round at a level much lower than the peak sales happening at new year which is not good."
      ]
    },
    {
      "cell_type": "markdown",
      "metadata": {
        "id": "KSlN3yHqYklG"
      },
      "source": [
        "\n",
        "#### Chart - 2 Sales Distribution By Store"
      ]
    },
    {
      "cell_type": "code",
      "execution_count": 63,
      "metadata": {
        "colab": {
          "base_uri": "https://localhost:8080/",
          "height": 477
        },
        "id": "R4YgtaqtYklH",
        "outputId": "50b8d487-70ea-4d0c-e6b6-1da1c6f5209d"
      },
      "outputs": [
        {
          "output_type": "display_data",
          "data": {
            "text/plain": [
              "<Figure size 1200x600 with 1 Axes>"
            ],
            "image/png": "[encoded data removed]"
          },
          "metadata": {}
        }
      ],
      "source": [
        "# Chart - 2 visualization code\n",
        "plt.figure(figsize=(12,6))\n",
        "store_sales = Sales.groupby('Store')['Weekly_Sales'].sum().reset_index()\n",
        "sns.barplot(x='Store', y='Weekly_Sales', data=store_sales)\n",
        "plt.title(\"Total Sales by Store\")\n",
        "plt.show()"
      ]
    },
    {
      "cell_type": "markdown",
      "metadata": {
        "id": "5aaW0BYyYklI"
      },
      "source": [
        "I picked this chart because I wanted to know which stores are performing better than the others."
      ]
    },
    {
      "cell_type": "markdown",
      "metadata": {
        "id": "PSx9atu2YklI"
      },
      "source": [
        "The insight I found is that stores 3, 13, 20 showed the highest sales. While stores like 5, 7, 9, 15, 32, 37, 43, 45 showed relatively low weekly sales which showed non - uniformity in the sales."
      ]
    },
    {
      "cell_type": "markdown",
      "metadata": {
        "id": "BcBbebzrYklV"
      },
      "source": [
        "Yes, the gained insights would help in creating a positive business impact because it would help us benchmark the high performing stores which would in turn help us replicating their strategies on other under performing stores.\n",
        "\n",
        "Yes, there is a negative insight that very few stores are performing well which means if god forbid something happens to those stores and those stores shut down then the sales would drop down drastically."
      ]
    },
    {
      "cell_type": "markdown",
      "metadata": {
        "id": "EM7whBJCYoAo"
      },
      "source": [
        "#### Chart - 3 Sales Distribution By Department"
      ]
    },
    {
      "cell_type": "code",
      "execution_count": 64,
      "metadata": {
        "colab": {
          "base_uri": "https://localhost:8080/",
          "height": 481
        },
        "id": "t6GMdE67YoAp",
        "outputId": "96cef330-afdb-4679-b476-572e423af596"
      },
      "outputs": [
        {
          "output_type": "display_data",
          "data": {
            "text/plain": [
              "<Figure size 1200x600 with 1 Axes>"
            ],
            "image/png": "[encoded data removed]"
          },
          "metadata": {}
        }
      ],
      "source": [
        "# Chart - 3 visualization code\n",
        "dept_sales = Sales.groupby('Dept')['Weekly_Sales'].sum().reset_index()\n",
        "plt.figure(figsize=(12,6))\n",
        "sns.barplot(x='Dept', y='Weekly_Sales', data=dept_sales)\n",
        "plt.title(\"Total Sales by Department\")\n",
        "plt.show()"
      ]
    },
    {
      "cell_type": "markdown",
      "metadata": {
        "id": "5dBItgRVYoAp"
      },
      "source": [
        "I picked this specific chart because I wanted to know which departemnts contribute to the most sales."
      ]
    },
    {
      "cell_type": "markdown",
      "metadata": {
        "id": "4jstXR6OYoAp"
      },
      "source": [
        "I infered that departments 92,95,38, 72, and 3 show the highest sales, with 92 leading (close to 500M).These likely represent core categories\n",
        "e.g., groceries, electronics, seasonal items that drive the bulk of revenue.\n",
        "\n",
        "Departments like 5 - 12, 18, 20, 39, 41, 72, 90 maintain steady mid-level sales, contributing consistently but not dominating.\n",
        "These may be essential support categories with steady demand (e.g., apparel, household items).\n",
        "\n",
        "Many departments especially 40 – 70 range, except a few spikes have very low sales (below 50M).\n",
        "These could be niche categories or under-optimized product lines.\n"
      ]
    },
    {
      "cell_type": "markdown",
      "metadata": {
        "id": "zfJ8IqMcYoAp"
      },
      "source": [
        "Yes, the given insights would help in positive business growth because they could help us make strategies regarding how to increase sales like they can help us decide wheteher we should expand and promote the departments already perform,ing well or we should focus on solving the underlying issues in the underperforming departments.\n",
        "\n",
        "Yes, there is an insight that shows negative growth and that is the excellent performance of only a few departments while poor performance of most of them."
      ]
    },
    {
      "cell_type": "markdown",
      "metadata": {
        "id": "4Of9eVA-YrdM"
      },
      "source": [
        "#### Chart - 4 Holiday vs Non Holiday Sales"
      ]
    },
    {
      "cell_type": "code",
      "execution_count": 65,
      "metadata": {
        "colab": {
          "base_uri": "https://localhost:8080/",
          "height": 487
        },
        "id": "irlUoxc8YrdO",
        "outputId": "263212ed-0616-4f7e-f7c7-483c3c58e3e2"
      },
      "outputs": [
        {
          "output_type": "display_data",
          "data": {
            "text/plain": [
              "<Figure size 800x500 with 1 Axes>"
            ],
            "image/png": "[encoded data removed]"
          },
          "metadata": {}
        }
      ],
      "source": [
        "# Chart - 4 visualization code\n",
        "plt.figure(figsize=(8,5))\n",
        "sns.boxplot(x='IsHoliday', y='Weekly_Sales', data=Sales)\n",
        "plt.title(\"Sales on Holidays vs Non-Holidays\")\n",
        "plt.show()"
      ]
    },
    {
      "cell_type": "markdown",
      "metadata": {
        "id": "aJRCwT6DYrdO"
      },
      "source": [
        "To check whether the sales vary signifcantly on holidays."
      ]
    },
    {
      "cell_type": "markdown",
      "metadata": {
        "id": "Xx8WAJvtYrdO"
      },
      "source": [
        "The insight I found out is that during holidays, the weekly sales rise sharply indicating that people buy more during holidays like Christmas, Diwali unlike on non - holidays where weekly sales don't change much."
      ]
    },
    {
      "cell_type": "markdown",
      "metadata": {
        "id": "jLNxxz7MYrdP"
      },
      "source": [
        "Yes, the gained insight would be helpful in creating a positive business impact because it indicates that we should do more targeted promotions during holidays to get more sales."
      ]
    },
    {
      "cell_type": "markdown",
      "metadata": {
        "id": "bamQiAODYuh1"
      },
      "source": [
        "#### Chart - 5 Seasonality: Average Sales By Month"
      ]
    },
    {
      "cell_type": "code",
      "execution_count": 66,
      "metadata": {
        "colab": {
          "base_uri": "https://localhost:8080/",
          "height": 472
        },
        "id": "TIJwrbroYuh3",
        "outputId": "2d0fa5aa-c01c-480e-b2c6-a0d06ed4fd19"
      },
      "outputs": [
        {
          "output_type": "display_data",
          "data": {
            "text/plain": [
              "<Figure size 1000x500 with 1 Axes>"
            ],
            "image/png": "[encoded data removed]"
          },
          "metadata": {}
        }
      ],
      "source": [
        "# Chart - 5 visualization code\n",
        "Sales['Month'] = Sales['Date'].dt.month\n",
        "monthly_sales = Sales.groupby('Month')['Weekly_Sales'].mean().reset_index()\n",
        "\n",
        "plt.figure(figsize=(10,5))\n",
        "sns.lineplot(x='Month', y='Weekly_Sales', data=monthly_sales, marker='o')\n",
        "plt.title(\"Average Sales by Month\")\n",
        "plt.show()"
      ]
    },
    {
      "cell_type": "markdown",
      "metadata": {
        "id": "dcxuIMRPYuh3"
      },
      "source": [
        "I picked the specific chart to check whether there is any seasonality in the sales or not."
      ]
    },
    {
      "cell_type": "markdown",
      "metadata": {
        "id": "uyqkiB8YYuh3"
      },
      "source": [
        "I found that the sales peak after the 10th month in 11th and 12th month because of holidays coming at that time."
      ]
    },
    {
      "cell_type": "markdown",
      "metadata": {
        "id": "_WtzZ_hCYuh4"
      },
      "source": [
        "Yes, the gained insight would help us in positive business impact because it would encourage us to increase the stock and allocate more resources in Q4 as the demand surges at that time."
      ]
    },
    {
      "cell_type": "markdown",
      "metadata": {
        "id": "OH-pJp9IphqM"
      },
      "source": [
        "#### Chart - 6 Heatmap: Store vs  Month Sales"
      ]
    },
    {
      "cell_type": "code",
      "execution_count": 67,
      "metadata": {
        "colab": {
          "base_uri": "https://localhost:8080/",
          "height": 568
        },
        "id": "kuRf4wtuphqN",
        "outputId": "24095072-6f4e-4370-9212-57ad9ff48ffa"
      },
      "outputs": [
        {
          "output_type": "display_data",
          "data": {
            "text/plain": [
              "<Figure size 1400x800 with 2 Axes>"
            ],
            "image/png": "[encoded data removed]"
          },
          "metadata": {}
        }
      ],
      "source": [
        "# Chart - 6 visualization code\n",
        "heatmap_data = Sales.groupby([Sales['Store'], Sales['Date'].dt.month])['Weekly_Sales'].mean().unstack()\n",
        "\n",
        "plt.figure(figsize=(14,8))\n",
        "sns.heatmap(heatmap_data, cmap=\"YlGnBu\")\n",
        "plt.title(\"Average Monthly Sales per Store\")\n",
        "plt.xlabel(\"Month\")\n",
        "plt.ylabel(\"Store\")\n",
        "plt.show()"
      ]
    },
    {
      "cell_type": "markdown",
      "metadata": {
        "id": "loh7H2nzphqN"
      },
      "source": [
        "To compare the performance of each store across months."
      ]
    },
    {
      "cell_type": "markdown",
      "metadata": {
        "id": "VECbqPI7phqN"
      },
      "source": [
        "The insightn I found is that Stores 3, 13, 20, 36 consistently appear darker (higher sales) across months.\n",
        "These are the anchor stores driving a large share of total revenue.\n",
        "\n",
        "Stores like 5, 9, 15, 33, 35, 37, 43, 45 remain lighter across all months, indicating consistently low sales performance.They likely suffer from weaker demand, location disadvantages, or limited assortment.\n",
        "\n",
        "Some stores (e.g., 11, 21, 29, 39) show relatively stable sales throughout the year (medium shades), suggesting steady performers with less seasonal fluctuation."
      ]
    },
    {
      "cell_type": "markdown",
      "metadata": {
        "id": "DW4_bGpfphqN"
      },
      "source": [
        "Yes, these insights would help in positive business impact\n",
        "because it would help us cluster the stores on the basis of their performances which would help us make targeted marketing strategies."
      ]
    },
    {
      "cell_type": "markdown",
      "metadata": {
        "id": "PIIx-8_IphqN"
      },
      "source": [
        "#### Chart - 7 Correlation with features dataset"
      ]
    },
    {
      "cell_type": "code",
      "execution_count": 68,
      "metadata": {
        "colab": {
          "base_uri": "https://localhost:8080/",
          "height": 545
        },
        "id": "lqAIGUfyphqO",
        "outputId": "3ef9a0de-1ddd-4167-f0ed-c3650c8eaa3e"
      },
      "outputs": [
        {
          "output_type": "display_data",
          "data": {
            "text/plain": [
              "<Figure size 1000x600 with 2 Axes>"
            ],
            "image/png": "[encoded data removed]"
          },
          "metadata": {}
        }
      ],
      "source": [
        "# Chart - 7 visualization code\n",
        "Features = pd.read_csv(\"Features data set.csv\")\n",
        "Features['Date'] = pd.to_datetime(Features['Date'], format='%d/%m/%Y')\n",
        "\n",
        "plt.figure(figsize=(10,6))\n",
        "sns.heatmap(df[['Weekly_Sales','Temperature','Fuel_Price','CPI','Unemployment']].corr(), annot=True, cmap=\"coolwarm\")\n",
        "plt.title(\"Correlation of Features with Weekly Sales\")\n",
        "plt.show()"
      ]
    },
    {
      "cell_type": "markdown",
      "metadata": {
        "id": "iv6ro40sphqO"
      },
      "source": [
        "To check whether the weekly sales depend on such external factors."
      ]
    },
    {
      "cell_type": "markdown",
      "metadata": {
        "id": "Po6ZPi4hphqO"
      },
      "source": [
        "The insight I found is that weekly sales only depends on the unemployment which is understandable as more unemploymennt wwould mean more people would be unwilling to buy stuffs."
      ]
    },
    {
      "cell_type": "markdown",
      "metadata": {
        "id": "xvSq8iUTphqO"
      },
      "source": [
        "Yes, the gained insight is helpful because it tells us that we don't need to focus much on external factors and just need to focus on other factors like seasonality etc."
      ]
    },
    {
      "cell_type": "markdown",
      "metadata": {
        "id": "g-ATYxFrGrvw"
      },
      "source": [
        "## ***5. Hypothesis Testing***"
      ]
    },
    {
      "cell_type": "markdown",
      "metadata": {
        "id": "8yEUt7NnHlrM"
      },
      "source": [
        "### Hypothetical Statement - 1"
      ]
    },
    {
      "cell_type": "markdown",
      "metadata": {
        "id": "HI9ZP0laH0D-"
      },
      "source": [
        "Null Hypothesis: There is no difference in average weekly sales between holiday weeks and non - holiday weeks.\n",
        "Alternate Hypothesis: Holiday weeks have different average weekly sales compared to non holiday weeks."
      ]
    },
    {
      "cell_type": "code",
      "execution_count": 69,
      "metadata": {
        "id": "oZrfquKtyian"
      },
      "outputs": [],
      "source": [
        "# Perform Statistical Test to obtain P-Value\n",
        "# t test\n",
        "from scipy import stats\n",
        "Sales['Date'] = Sales['Date'].dt.strftime('%Y-%m-%d')\n",
        "Sales['Date'] = pd.to_datetime(Sales['Date'])"
      ]
    },
    {
      "cell_type": "code",
      "execution_count": 70,
      "metadata": {
        "id": "EYP7tQ90NJRo"
      },
      "outputs": [],
      "source": [
        "# Split Data\n",
        "holiday_sales = Sales[Sales['IsHoliday'] == True]['Weekly_Sales']\n",
        "non_holiday_sales = Sales[Sales['IsHoliday'] == False]['Weekly_Sales']"
      ]
    },
    {
      "cell_type": "code",
      "execution_count": 71,
      "metadata": {
        "id": "Mr5NLY7pNeNm"
      },
      "outputs": [],
      "source": [
        "# Perform independent t-test\n",
        "t_stat, p_val = stats.ttest_ind(holiday_sales, non_holiday_sales, equal_var=False)"
      ]
    },
    {
      "cell_type": "code",
      "execution_count": 72,
      "metadata": {
        "colab": {
          "base_uri": "https://localhost:8080/"
        },
        "id": "-cJifL00NeA9",
        "outputId": "6d5f8c18-5f28-4176-e38b-8f372471c170"
      },
      "outputs": [
        {
          "output_type": "stream",
          "name": "stdout",
          "text": [
            "T-statistic: 7.000740275222607\n",
            "P-value: 2.5951250265739975e-12\n"
          ]
        }
      ],
      "source": [
        "print(\"T-statistic:\", t_stat)\n",
        "print(\"P-value:\", p_val)"
      ]
    },
    {
      "cell_type": "code",
      "execution_count": 73,
      "metadata": {
        "colab": {
          "base_uri": "https://localhost:8080/"
        },
        "id": "KOiky_HCOAJo",
        "outputId": "109bbfe5-ce24-43b5-ab2f-6b400b09f23d"
      },
      "outputs": [
        {
          "output_type": "stream",
          "name": "stdout",
          "text": [
            "Reject Null Hypothesis: Holiday weeks significantly affect sales\n"
          ]
        }
      ],
      "source": [
        "if p_val < 0.05:\n",
        "    print(\"Reject Null Hypothesis: Holiday weeks significantly affect sales\")\n",
        "else:\n",
        "    print(\"Fail to Reject Null Hypothesis: No significant holiday effect\")"
      ]
    },
    {
      "cell_type": "markdown",
      "metadata": {
        "id": "s2U0kk00ygSB"
      },
      "source": [
        "I did t-test."
      ]
    },
    {
      "cell_type": "markdown",
      "metadata": {
        "id": "HO4K0gP5y3B4"
      },
      "source": [
        "I did this test because here I had to check the difference between the means of 2 different groups."
      ]
    },
    {
      "cell_type": "markdown",
      "metadata": {
        "id": "4_0_7-oCpUZd"
      },
      "source": [
        "### Hypothetical Statement - 2"
      ]
    },
    {
      "cell_type": "markdown",
      "metadata": {
        "id": "FnpLGJ-4pUZe"
      },
      "source": [
        "Null Hypothesis: Store type does not affect weekly sales.\n",
        "\n",
        "Alternate Hypothesis: Store type saignificantly affects weekly sales."
      ]
    },
    {
      "cell_type": "code",
      "execution_count": 74,
      "metadata": {
        "id": "sWxdNTXNpUZe"
      },
      "outputs": [],
      "source": [
        "# Perform Statistical Test to obtain P-Value\n",
        "# ANOVA\n",
        "from scipy.stats import f_oneway\n",
        "df =Sales.merge(Stores, on ='Store')\n",
        "df['Date'] = pd.to_datetime(df['Date'])\n",
        "df['Year'] = df['Date'].dt.year\n",
        "df = pd.get_dummies(df, columns=['Type'], drop_first=True)\n",
        "\n",
        "#Date Features\n",
        "df['Month'] = df['Date'].dt.month\n",
        "df['Week'] = df['Date'].dt.isocalendar().week\n",
        "df['DayOfWeek'] = df['Date'].dt.dayofweek\n",
        "\n",
        "# Lag feature (previous week's sales per store-department)\n",
        "df['Lag_1'] = df.groupby(['Store','Dept'])['Weekly_Sales'].shift(1)\n",
        "df['Rolling_Mean_4'] = df.groupby(['Store','Dept'])['Weekly_Sales'].shift(1).rolling(4).mean()"
      ]
    },
    {
      "cell_type": "code",
      "execution_count": 75,
      "metadata": {
        "colab": {
          "base_uri": "https://localhost:8080/"
        },
        "id": "ABltx5_fzmOb",
        "outputId": "7a4fcd75-8cdc-4e23-ca11-9706e363bb04"
      },
      "outputs": [
        {
          "output_type": "stream",
          "name": "stdout",
          "text": [
            "F-statistic: 7764.426217449252\n",
            "P-value: 0.0\n",
            "Reject Null Hypothesis: Store type significantly affects sales\n"
          ]
        }
      ],
      "source": [
        "# Group sales by store type\n",
        "groups = [group[\"Weekly_Sales\"].values for name, group in df.groupby([\"Type_B\", \"Type_C\"])]\n",
        "\n",
        "# One-way ANOVA\n",
        "f_stat, p_val = f_oneway(*groups)\n",
        "\n",
        "print(\"F-statistic:\", f_stat)\n",
        "print(\"P-value:\", p_val)\n",
        "\n",
        "if p_val < 0.05:\n",
        "    print(\"Reject Null Hypothesis: Store type significantly affects sales\")\n",
        "else:\n",
        "    print(\"Fail to Null Hypothesis: Store type does not significantly affect sales\")"
      ]
    },
    {
      "cell_type": "markdown",
      "metadata": {
        "id": "oLDrPz7HpUZf"
      },
      "source": [
        "I did ANOVA test."
      ]
    },
    {
      "cell_type": "markdown",
      "metadata": {
        "id": "4xOGYyiBpUZf"
      },
      "source": [
        "I did ANOVA test because here I had to compare the means among more than 2 different groups."
      ]
    },
    {
      "cell_type": "markdown",
      "metadata": {
        "id": "bn_IUdTipZyH"
      },
      "source": [
        "### Hypothetical Statement - 3"
      ]
    },
    {
      "cell_type": "markdown",
      "metadata": {
        "id": "7gWI5rT9pZyH"
      },
      "source": [
        "Null Hypothesis: External factors like CPI, Unemployment have no effect on weekly sales.\n",
        "\n",
        "Alternate Hypothesis: External factors do have an effect on weekly sales."
      ]
    },
    {
      "cell_type": "code",
      "execution_count": 76,
      "metadata": {
        "colab": {
          "base_uri": "https://localhost:8080/"
        },
        "id": "s6AnJQjtpZyI",
        "outputId": "2e5018d7-27f8-496d-9db6-8cef0368ba7c"
      },
      "outputs": [
        {
          "output_type": "stream",
          "name": "stdout",
          "text": [
            "Weekly_Sales    1.000000\n",
            "CPI            -0.020921\n",
            "Fuel_Price     -0.000120\n",
            "Unemployment   -0.025864\n",
            "Name: Weekly_Sales, dtype: float64\n"
          ]
        }
      ],
      "source": [
        "# Perform Statistical Test to obtain P-Value\n",
        "Features['Date'] = pd.to_datetime(Features['Date'])\n",
        "df = Sales.merge(Features, on=['Store','Date'])\n",
        "corr = df[['Weekly_Sales','CPI','Fuel_Price','Unemployment']].corr()\n",
        "print(corr['Weekly_Sales'])"
      ]
    },
    {
      "cell_type": "markdown",
      "metadata": {
        "id": "kyN7pxff8iLO"
      },
      "source": [
        "Hence, we can infer that these factors do not afffect the weekly sales because they have a correlation <-3|."
      ]
    },
    {
      "cell_type": "markdown",
      "metadata": {
        "id": "ytWJ8v15pZyI"
      },
      "source": [
        "Correlation test."
      ]
    },
    {
      "cell_type": "markdown",
      "metadata": {
        "id": "M99G98V6pZyI"
      },
      "source": [
        "I chose this test because I had to find the correlation between the weekly sales and continuous variables."
      ]
    },
    {
      "cell_type": "markdown",
      "metadata": {
        "id": "VfCC591jGiD4"
      },
      "source": [
        "## ***7. ML Model Implementation***"
      ]
    },
    {
      "cell_type": "markdown",
      "metadata": {
        "id": "OB4l2ZhMeS1U"
      },
      "source": [
        "### ML Model - 1 Sales Forecasting"
      ]
    },
    {
      "cell_type": "code",
      "execution_count": 77,
      "metadata": {
        "colab": {
          "base_uri": "https://localhost:8080/"
        },
        "id": "7ebyywQieS1U",
        "outputId": "7a2a1307-c709-4ac2-9af1-008a5a25de38"
      },
      "outputs": [
        {
          "output_type": "stream",
          "name": "stdout",
          "text": [
            "RMSE: 3919.3097121243923\n",
            "MAE: 1701.9437672112626\n"
          ]
        }
      ],
      "source": [
        "# ML Model - 1 Implementation\n",
        "from xgboost import XGBRegressor\n",
        "from sklearn.metrics import mean_squared_error, mean_absolute_error\n",
        "import numpy as np\n",
        "\n",
        "# Train model\n",
        "model = XGBRegressor(n_estimators=500, learning_rate=0.1, max_depth=8, random_state=42)\n",
        "model.fit(X_train, y_train)\n",
        "\n",
        "# Predictions\n",
        "y_pred = model.predict(X_test)\n",
        "\n",
        "# Evaluation\n",
        "rmse = np.sqrt(mean_squared_error(y_test, y_pred))\n",
        "mae = mean_absolute_error(y_test, y_pred)\n",
        "\n",
        "print(\"RMSE:\", rmse)\n",
        "print(\"MAE:\", mae)"
      ]
    },
    {
      "cell_type": "code",
      "execution_count": 78,
      "metadata": {
        "colab": {
          "base_uri": "https://localhost:8080/",
          "height": 472
        },
        "id": "OqNLFNRWkVki",
        "outputId": "f965ae0c-8356-45bb-f689-7bcc44a8953f"
      },
      "outputs": [
        {
          "output_type": "display_data",
          "data": {
            "text/plain": [
              "<Figure size 640x480 with 1 Axes>"
            ],
            "image/png": "[encoded data removed]"
          },
          "metadata": {}
        }
      ],
      "source": [
        "#  Selecting  relevant features\n",
        "import matplotlib.pyplot as plt\n",
        "import xgboost as xgb\n",
        "\n",
        "xgb.plot_importance(model, max_num_features=10)\n",
        "plt.show()"
      ]
    },
    {
      "cell_type": "code",
      "execution_count": 79,
      "metadata": {
        "colab": {
          "base_uri": "https://localhost:8080/"
        },
        "id": "Dy61ujd6fxKe",
        "outputId": "7098fa6c-f74b-4152-c341-59e7ff9f6abf"
      },
      "outputs": [
        {
          "output_type": "stream",
          "name": "stdout",
          "text": [
            "RMSE: 3919.3097121243923\n",
            "MAE: 1701.9437672112626\n"
          ]
        }
      ],
      "source": [
        "from sklearn.model_selection import TimeSeriesSplit, cross_val_score\n",
        "import numpy as np\n",
        "import xgboost as xgb\n",
        "\n",
        "X = df.drop(columns=['Weekly_Sales','Date','Unemployment'])\n",
        "y = df['Weekly_Sales']\n",
        "\n",
        "tscv = TimeSeriesSplit(n_splits=5)\n",
        "\n",
        "model = xgb.XGBRegressor(objective='reg:squarederror')\n",
        "\n",
        "# Evaluation\n",
        "rmse = np.sqrt(mean_squared_error(y_test, y_pred))\n",
        "mae = mean_absolute_error(y_test, y_pred)\n",
        "\n",
        "print(\"RMSE:\", rmse)\n",
        "print(\"MAE:\", mae)\n"
      ]
    },
    {
      "cell_type": "code",
      "execution_count": 80,
      "metadata": {
        "colab": {
          "base_uri": "https://localhost:8080/"
        },
        "id": "Gj0JigkPXOyk",
        "outputId": "49e686d3-ee3b-411e-db0e-3959617bca73"
      },
      "outputs": [
        {
          "output_type": "stream",
          "name": "stdout",
          "text": [
            "Predictions: [16781.582    12888.779    13298.021    ...   -34.973648   258.6075\n",
            "   563.70624 ]\n",
            "RMSE: 3919.3097121243923\n",
            "MAE: 1701.9437672112626\n"
          ]
        }
      ],
      "source": [
        "# Predict on the model\n",
        "model.fit(X_train, y_train)\n",
        "y_pred = model.predict(X_test)\n",
        "print(\"Predictions:\",y_pred)\n",
        "print(\"RMSE:\", rmse)\n",
        "print(\"MAE:\", mae)"
      ]
    },
    {
      "cell_type": "markdown",
      "metadata": {
        "id": "dJ2tPlVmpsJ0"
      },
      "source": [
        "### ML Model - 2 Recommendation Model"
      ]
    },
    {
      "cell_type": "code",
      "execution_count": 81,
      "metadata": {
        "id": "WQ_plWprj31U"
      },
      "outputs": [],
      "source": [
        "if 'Sales' not in globals():\n",
        "    possible = ['sales data-set.csv', 'sales_data.csv', 'sales.csv', 'Sales.csv']\n",
        "    found = None\n",
        "    for p in possible:\n",
        "        fp = os.path.join('/mnt/data', p)\n",
        "        if os.path.exists(fp):\n",
        "            found = fp\n",
        "            break\n",
        "    if found:\n",
        "        Sales = pd.read_csv(found)\n",
        "        # Try to parse a date column if present\n",
        "        for c in Sales.columns:\n",
        "            if 'date' in c.lower():\n",
        "                Sales['Date'] = pd.to_datetime(Sales[c])\n",
        "                break\n",
        "    else:\n",
        "        raise RuntimeError(\"No Sales DataFrame found and no common CSV in /mnt/data. \"\n",
        "                           \"Load your sales dataframe into `Sales` before running this cell.\")\n",
        "\n",
        "if 'Store' not in Sales.columns:\n",
        "    for c in Sales.columns:\n",
        "        if 'store' in c.lower():\n",
        "            Sales = Sales.rename(columns={c:'Store'})\n",
        "            break\n",
        "if 'Dept' not in Sales.columns:\n",
        "    for c in Sales.columns:\n",
        "        if 'dept' in c.lower() or 'department' in c.lower():\n",
        "            Sales = Sales.rename(columns={c:'Dept'})\n",
        "            break\n",
        "if 'Weekly_Sales' not in Sales.columns:\n",
        "    for c in Sales.columns:\n",
        "        if c.lower() in ('weekly_sales','sales','weekly sales','weeklysales'):\n",
        "            Sales = Sales.rename(columns={c:'Weekly_Sales'})\n",
        "            break"
      ]
    },
    {
      "cell_type": "code",
      "execution_count": 82,
      "metadata": {
        "id": "3qmh_1HQj3p4"
      },
      "outputs": [],
      "source": [
        "ratings = Sales.groupby(['Store','Dept'])['Weekly_Sales'].mean().reset_index()\n",
        "\n",
        "ratings['Store'] = ratings['Store'].astype(str)\n",
        "ratings['Dept'] = ratings['Dept'].astype(str)\n",
        "\n",
        "# ---------- Prepare Reader with safe rating_scale ----------\n",
        "min_rating = float(ratings['Weekly_Sales'].min())\n",
        "max_rating = float(ratings['Weekly_Sales'].max())\n",
        "# If all ratings are the same, set a safe lower bound 0 (Surprise rejects equal min==max)\n",
        "if min_rating == max_rating:\n",
        "    min_rating = 0.0"
      ]
    },
    {
      "cell_type": "code",
      "source": [
        "!pip install surprise"
      ],
      "metadata": {
        "colab": {
          "base_uri": "https://localhost:8080/"
        },
        "id": "Q4BVPhvrfPKp",
        "outputId": "53d87812-4d7f-4b85-82a6-dc976f566240"
      },
      "execution_count": 83,
      "outputs": [
        {
          "output_type": "stream",
          "name": "stdout",
          "text": [
            "Requirement already satisfied: surprise in /usr/local/lib/python3.12/dist-packages (0.1)\n",
            "Requirement already satisfied: scikit-surprise in /usr/local/lib/python3.12/dist-packages (from surprise) (1.1.4)\n",
            "Requirement already satisfied: joblib>=1.2.0 in /usr/local/lib/python3.12/dist-packages (from scikit-surprise->surprise) (1.5.2)\n",
            "Requirement already satisfied: numpy>=1.19.5 in /usr/local/lib/python3.12/dist-packages (from scikit-surprise->surprise) (1.26.4)\n",
            "Requirement already satisfied: scipy>=1.6.0 in /usr/local/lib/python3.12/dist-packages (from scikit-surprise->surprise) (1.16.1)\n"
          ]
        }
      ]
    },
    {
      "cell_type": "code",
      "metadata": {
        "colab": {
          "base_uri": "https://localhost:8080/"
        },
        "id": "f971809c",
        "outputId": "142feeaf-49e3-4bba-9785-61296e51f15f"
      },
      "source": [
        "!pip install numpy==1.26.4"
      ],
      "execution_count": 84,
      "outputs": [
        {
          "output_type": "stream",
          "name": "stdout",
          "text": [
            "Requirement already satisfied: numpy==1.26.4 in /usr/local/lib/python3.12/dist-packages (1.26.4)\n"
          ]
        }
      ]
    },
    {
      "cell_type": "code",
      "source": [
        "# ML Model - 2 Implementation\n",
        "from surprise import SVD, Dataset, Reader\n",
        "from surprise.model_selection import train_test_split\n",
        "from surprise import accuracy\n",
        "\n",
        "# Prepare data (aggregate by Store & Dept)\n",
        "ratings = Sales.groupby(['Store','Dept'])['Weekly_Sales'].mean().reset_index()\n",
        "\n",
        "# Surprise requires rating-like format\n",
        "reader = Reader(rating_scale=(ratings['Weekly_Sales'].min(), ratings['Weekly_Sales'].max()))\n",
        "data = Dataset.load_from_df(ratings[['Store','Dept','Weekly_Sales']], reader)\n",
        "\n",
        "trainset, testset = train_test_split(data, test_size=0.2)\n",
        "# Fit the Algorithm\n",
        "model = SVD()\n",
        "model.fit(trainset)\n",
        "\n",
        "# Predict on the model\n",
        "predictions = model.test(testset)\n",
        "\n",
        "print(\"RMSE:\", accuracy.rmse(predictions))\n",
        "print(\"MAE:\", accuracy.mae(predictions))\n",
        "print(predictions)"
      ],
      "metadata": {
        "colab": {
          "base_uri": "https://localhost:8080/"
        },
        "id": "0d8onIL9j7la",
        "outputId": "bcd1b594-b132-4c21-a47c-75fc29de9e51"
      },
      "execution_count": 85,
      "outputs": [
        {
          "output_type": "stream",
          "name": "stdout",
          "text": [
            "RMSE: 169816.6955\n",
            "RMSE: 169816.69548619786\n",
            "MAE:  168559.3295\n",
            "MAE: 168559.32954329567\n",
            "[Prediction(uid=6, iid=78, r_ui=7.555555555555555, est=182527.95601398603, details={'was_impossible': False}), Prediction(uid=44, iid=71, r_ui=-41.28333333333333, est=182527.95601398603, details={'was_impossible': False}), Prediction(uid=32, iid=20, r_ui=5057.866713286713, est=182527.95601398603, details={'was_impossible': False}), Prediction(uid=7, iid=51, r_ui=35.368205128205126, est=182527.95601398603, details={'was_impossible': False}), Prediction(uid=22, iid=19, r_ui=939.8711904761903, est=182527.95601398603, details={'was_impossible': False}), Prediction(uid=18, iid=58, r_ui=3844.2268531468526, est=182527.95601398603, details={'was_impossible': False}), Prediction(uid=34, iid=72, r_ui=36636.553076923075, est=182527.95601398603, details={'was_impossible': False}), Prediction(uid=40, iid=49, r_ui=43.962112676056336, est=182527.95601398603, details={'was_impossible': False}), Prediction(uid=29, iid=30, r_ui=3032.9025174825174, est=182527.95601398603, details={'was_impossible': False}), Prediction(uid=30, iid=7, r_ui=379.77195804195804, est=182527.95601398603, details={'was_impossible': False}), Prediction(uid=3, iid=85, r_ui=874.1281818181818, est=182527.95601398603, details={'was_impossible': False}), Prediction(uid=1, iid=47, r_ui=-116.45454545454545, est=182527.95601398603, details={'was_impossible': False}), Prediction(uid=41, iid=60, r_ui=455.32727272727277, est=182527.95601398603, details={'was_impossible': False}), Prediction(uid=31, iid=12, r_ui=2800.221958041958, est=182527.95601398603, details={'was_impossible': False}), Prediction(uid=29, iid=83, r_ui=758.9465734265734, est=182527.95601398603, details={'was_impossible': False}), Prediction(uid=20, iid=94, r_ui=63148.33496503497, est=182527.95601398603, details={'was_impossible': False}), Prediction(uid=42, iid=44, r_ui=2.3731999999999998, est=182527.95601398603, details={'was_impossible': False}), Prediction(uid=10, iid=77, r_ui=1590.0, est=182527.95601398603, details={'was_impossible': False}), Prediction(uid=39, iid=74, r_ui=22014.285244755247, est=182527.95601398603, details={'was_impossible': False}), Prediction(uid=25, iid=20, r_ui=3904.7179720279723, est=182527.95601398603, details={'was_impossible': False}), Prediction(uid=35, iid=3, r_ui=14308.382797202798, est=182527.95601398603, details={'was_impossible': False}), Prediction(uid=11, iid=90, r_ui=48995.984195804194, est=182527.95601398603, details={'was_impossible': False}), Prediction(uid=34, iid=91, r_ui=34018.102237762236, est=182527.95601398603, details={'was_impossible': False}), Prediction(uid=28, iid=26, r_ui=10936.965314685314, est=182527.95601398603, details={'was_impossible': False}), Prediction(uid=20, iid=2, r_ui=78251.24993006993, est=182527.95601398603, details={'was_impossible': False}), Prediction(uid=21, iid=91, r_ui=6735.454125874126, est=182527.95601398603, details={'was_impossible': False}), Prediction(uid=21, iid=19, r_ui=2032.323986013986, est=182527.95601398603, details={'was_impossible': False}), Prediction(uid=40, iid=3, r_ui=6489.030349650349, est=182527.95601398603, details={'was_impossible': False}), Prediction(uid=20, iid=29, r_ui=8946.72076923077, est=182527.95601398603, details={'was_impossible': False}), Prediction(uid=22, iid=77, r_ui=246.0, est=182527.95601398603, details={'was_impossible': False}), Prediction(uid=9, iid=38, r_ui=78211.80265734265, est=182527.95601398603, details={'was_impossible': False}), Prediction(uid=3, iid=45, r_ui=9.922500000000001, est=182527.95601398603, details={'was_impossible': False}), Prediction(uid=40, iid=92, r_ui=96475.7532867133, est=182527.95601398603, details={'was_impossible': False}), Prediction(uid=25, iid=97, r_ui=2706.628251748252, est=182527.95601398603, details={'was_impossible': False}), Prediction(uid=1, iid=18, r_ui=7765.304424778761, est=182527.95601398603, details={'was_impossible': False}), Prediction(uid=45, iid=41, r_ui=2671.42020979021, est=182527.95601398603, details={'was_impossible': False}), Prediction(uid=34, iid=26, r_ui=4476.318181818182, est=182527.95601398603, details={'was_impossible': False}), Prediction(uid=31, iid=96, r_ui=30335.294265734265, est=182527.95601398603, details={'was_impossible': False}), Prediction(uid=20, iid=25, r_ui=17515.605384615385, est=182527.95601398603, details={'was_impossible': False}), Prediction(uid=42, iid=79, r_ui=13686.231608391608, est=182527.95601398603, details={'was_impossible': False}), Prediction(uid=37, iid=81, r_ui=10698.796713286712, est=182527.95601398603, details={'was_impossible': False}), Prediction(uid=12, iid=98, r_ui=747.6098601398602, est=182527.95601398603, details={'was_impossible': False}), Prediction(uid=17, iid=58, r_ui=1486.4786428571429, est=182527.95601398603, details={'was_impossible': False}), Prediction(uid=40, iid=47, r_ui=-17.254285714285714, est=182527.95601398603, details={'was_impossible': False}), Prediction(uid=6, iid=28, r_ui=578.5354545454546, est=182527.95601398603, details={'was_impossible': False}), Prediction(uid=9, iid=67, r_ui=3493.406223776224, est=182527.95601398603, details={'was_impossible': False}), Prediction(uid=34, iid=99, r_ui=347.1443243243243, est=182527.95601398603, details={'was_impossible': False}), Prediction(uid=6, iid=79, r_ui=24457.038601398603, est=182527.95601398603, details={'was_impossible': False}), Prediction(uid=33, iid=60, r_ui=107.26573426573427, est=182527.95601398603, details={'was_impossible': False}), Prediction(uid=44, iid=17, r_ui=330.3880419580419, est=182527.95601398603, details={'was_impossible': False}), Prediction(uid=33, iid=83, r_ui=2565.923076923077, est=182527.95601398603, details={'was_impossible': False}), Prediction(uid=28, iid=56, r_ui=727.5941549295775, est=182527.95601398603, details={'was_impossible': False}), Prediction(uid=10, iid=5, r_ui=58373.46027972028, est=182527.95601398603, details={'was_impossible': False}), Prediction(uid=22, iid=90, r_ui=21413.41160839161, est=182527.95601398603, details={'was_impossible': False}), Prediction(uid=39, iid=44, r_ui=4434.812167832168, est=182527.95601398603, details={'was_impossible': False}), Prediction(uid=19, iid=98, r_ui=12884.229090909092, est=182527.95601398603, details={'was_impossible': False}), Prediction(uid=1, iid=5, r_ui=24257.94111888112, est=182527.95601398603, details={'was_impossible': False}), Prediction(uid=5, iid=54, r_ui=45.917755102040815, est=182527.95601398603, details={'was_impossible': False}), Prediction(uid=4, iid=33, r_ui=12304.056223776224, est=182527.95601398603, details={'was_impossible': False}), Prediction(uid=4, iid=48, r_ui=2324.6155319148934, est=182527.95601398603, details={'was_impossible': False}), Prediction(uid=41, iid=95, r_ui=88666.46839160839, est=182527.95601398603, details={'was_impossible': False}), Prediction(uid=34, iid=49, r_ui=3965.9407692307695, est=182527.95601398603, details={'was_impossible': False}), Prediction(uid=39, iid=58, r_ui=2479.951258741259, est=182527.95601398603, details={'was_impossible': False}), Prediction(uid=14, iid=30, r_ui=6691.436433566434, est=182527.95601398603, details={'was_impossible': False}), Prediction(uid=17, iid=92, r_ui=53043.34874125874, est=182527.95601398603, details={'was_impossible': False}), Prediction(uid=29, iid=81, r_ui=5291.476643356644, est=182527.95601398603, details={'was_impossible': False}), Prediction(uid=6, iid=21, r_ui=9398.605454545455, est=182527.95601398603, details={'was_impossible': False}), Prediction(uid=18, iid=41, r_ui=706.9873426573427, est=182527.95601398603, details={'was_impossible': False}), Prediction(uid=40, iid=93, r_ui=27532.751188811188, est=182527.95601398603, details={'was_impossible': False}), Prediction(uid=26, iid=91, r_ui=39434.281258741255, est=182527.95601398603, details={'was_impossible': False}), Prediction(uid=29, iid=5, r_ui=12931.821258741258, est=182527.95601398603, details={'was_impossible': False}), Prediction(uid=10, iid=59, r_ui=2006.511118881119, est=182527.95601398603, details={'was_impossible': False}), Prediction(uid=22, iid=20, r_ui=6672.666013986014, est=182527.95601398603, details={'was_impossible': False}), Prediction(uid=20, iid=1, r_ui=40545.47321678322, est=182527.95601398603, details={'was_impossible': False}), Prediction(uid=1, iid=41, r_ui=1064.7696503496504, est=182527.95601398603, details={'was_impossible': False}), Prediction(uid=26, iid=78, r_ui=10.434999999999999, est=182527.95601398603, details={'was_impossible': False}), Prediction(uid=19, iid=9, r_ui=30645.018111888112, est=182527.95601398603, details={'was_impossible': False}), Prediction(uid=40, iid=25, r_ui=6704.41034965035, est=182527.95601398603, details={'was_impossible': False}), Prediction(uid=21, iid=60, r_ui=205.7699248120301, est=182527.95601398603, details={'was_impossible': False}), Prediction(uid=11, iid=55, r_ui=12609.361258741259, est=182527.95601398603, details={'was_impossible': False}), Prediction(uid=20, iid=92, r_ui=164633.74153846153, est=182527.95601398603, details={'was_impossible': False}), Prediction(uid=21, iid=32, r_ui=7116.295244755244, est=182527.95601398603, details={'was_impossible': False}), Prediction(uid=21, iid=7, r_ui=24456.82566433566, est=182527.95601398603, details={'was_impossible': False}), Prediction(uid=2, iid=41, r_ui=2592.2207692307693, est=182527.95601398603, details={'was_impossible': False}), Prediction(uid=5, iid=34, r_ui=3602.7625874125874, est=182527.95601398603, details={'was_impossible': False}), Prediction(uid=6, iid=24, r_ui=6789.380909090909, est=182527.95601398603, details={'was_impossible': False}), Prediction(uid=17, iid=34, r_ui=9295.045174825174, est=182527.95601398603, details={'was_impossible': False}), Prediction(uid=13, iid=78, r_ui=11.35, est=182527.95601398603, details={'was_impossible': False}), Prediction(uid=29, iid=98, r_ui=139.67797101449275, est=182527.95601398603, details={'was_impossible': False}), Prediction(uid=29, iid=90, r_ui=10950.327972027972, est=182527.95601398603, details={'was_impossible': False}), Prediction(uid=40, iid=90, r_ui=61258.202867132866, est=182527.95601398603, details={'was_impossible': False}), Prediction(uid=38, iid=14, r_ui=997.0984615384615, est=182527.95601398603, details={'was_impossible': False}), Prediction(uid=30, iid=26, r_ui=7.1197297297297295, est=182527.95601398603, details={'was_impossible': False}), Prediction(uid=29, iid=60, r_ui=274.65818181818184, est=182527.95601398603, details={'was_impossible': False}), Prediction(uid=43, iid=11, r_ui=584.8316083916084, est=182527.95601398603, details={'was_impossible': False}), Prediction(uid=36, iid=94, r_ui=47372.15111888112, est=182527.95601398603, details={'was_impossible': False}), Prediction(uid=27, iid=5, r_ui=28059.038251748254, est=182527.95601398603, details={'was_impossible': False}), Prediction(uid=7, iid=67, r_ui=3989.6420979020977, est=182527.95601398603, details={'was_impossible': False}), Prediction(uid=22, iid=91, r_ui=21405.25062937063, est=182527.95601398603, details={'was_impossible': False}), Prediction(uid=36, iid=95, r_ui=39735.688741258746, est=182527.95601398603, details={'was_impossible': False}), Prediction(uid=13, iid=45, r_ui=22.433516483516485, est=182527.95601398603, details={'was_impossible': False}), Prediction(uid=45, iid=17, r_ui=10523.128391608392, est=182527.95601398603, details={'was_impossible': False}), Prediction(uid=28, iid=38, r_ui=49179.48552447552, est=182527.95601398603, details={'was_impossible': False}), Prediction(uid=15, iid=77, r_ui=236.10833333333335, est=182527.95601398603, details={'was_impossible': False}), Prediction(uid=22, iid=55, r_ui=10854.880699300698, est=182527.95601398603, details={'was_impossible': False}), Prediction(uid=21, iid=50, r_ui=10.0, est=182527.95601398603, details={'was_impossible': False}), Prediction(uid=26, iid=41, r_ui=1388.5592307692307, est=182527.95601398603, details={'was_impossible': False}), Prediction(uid=30, iid=97, r_ui=13172.53111888112, est=182527.95601398603, details={'was_impossible': False}), Prediction(uid=43, iid=9, r_ui=147.6941958041958, est=182527.95601398603, details={'was_impossible': False}), Prediction(uid=1, iid=37, r_ui=2800.4951048951048, est=182527.95601398603, details={'was_impossible': False}), Prediction(uid=4, iid=2, r_ui=93639.31538461539, est=182527.95601398603, details={'was_impossible': False}), Prediction(uid=2, iid=5, r_ui=30555.315314685315, est=182527.95601398603, details={'was_impossible': False}), Prediction(uid=3, iid=16, r_ui=7871.568321678322, est=182527.95601398603, details={'was_impossible': False}), Prediction(uid=18, iid=26, r_ui=10527.132447552447, est=182527.95601398603, details={'was_impossible': False}), Prediction(uid=36, iid=71, r_ui=-29.0, est=182527.95601398603, details={'was_impossible': False}), Prediction(uid=14, iid=47, r_ui=-7.777916666666666, est=182527.95601398603, details={'was_impossible': False}), Prediction(uid=35, iid=42, r_ui=8072.815594405593, est=182527.95601398603, details={'was_impossible': False}), Prediction(uid=36, iid=21, r_ui=240.62895104895105, est=182527.95601398603, details={'was_impossible': False}), Prediction(uid=22, iid=80, r_ui=1447.0423076923075, est=182527.95601398603, details={'was_impossible': False}), Prediction(uid=33, iid=7, r_ui=392.9128671328671, est=182527.95601398603, details={'was_impossible': False}), Prediction(uid=18, iid=56, r_ui=5011.655244755244, est=182527.95601398603, details={'was_impossible': False}), Prediction(uid=25, iid=40, r_ui=42220.73426573427, est=182527.95601398603, details={'was_impossible': False}), Prediction(uid=11, iid=49, r_ui=8122.6477622377615, est=182527.95601398603, details={'was_impossible': False}), Prediction(uid=12, iid=14, r_ui=19719.23965034965, est=182527.95601398603, details={'was_impossible': False}), Prediction(uid=32, iid=41, r_ui=2817.8293706293703, est=182527.95601398603, details={'was_impossible': False}), Prediction(uid=35, iid=98, r_ui=68.28483050847457, est=182527.95601398603, details={'was_impossible': False}), Prediction(uid=7, iid=33, r_ui=2279.562097902098, est=182527.95601398603, details={'was_impossible': False}), Prediction(uid=43, iid=98, r_ui=9594.867482517482, est=182527.95601398603, details={'was_impossible': False}), Prediction(uid=31, iid=41, r_ui=1334.491888111888, est=182527.95601398603, details={'was_impossible': False}), Prediction(uid=5, iid=18, r_ui=2185.893, est=182527.95601398603, details={'was_impossible': False}), Prediction(uid=1, iid=12, r_ui=10566.545314685314, est=182527.95601398603, details={'was_impossible': False}), Prediction(uid=34, iid=78, r_ui=3.0, est=182527.95601398603, details={'was_impossible': False}), Prediction(uid=17, iid=28, r_ui=1290.9355944055944, est=182527.95601398603, details={'was_impossible': False}), Prediction(uid=24, iid=4, r_ui=29245.357552447553, est=182527.95601398603, details={'was_impossible': False}), Prediction(uid=13, iid=36, r_ui=2464.866713286713, est=182527.95601398603, details={'was_impossible': False}), Prediction(uid=43, iid=26, r_ui=4.463333333333334, est=182527.95601398603, details={'was_impossible': False}), Prediction(uid=15, iid=58, r_ui=865.858407079646, est=182527.95601398603, details={'was_impossible': False}), Prediction(uid=22, iid=94, r_ui=857.190894308943, est=182527.95601398603, details={'was_impossible': False}), Prediction(uid=42, iid=92, r_ui=83497.77867132866, est=182527.95601398603, details={'was_impossible': False}), Prediction(uid=34, iid=1, r_ui=19947.57307692308, est=182527.95601398603, details={'was_impossible': False}), Prediction(uid=27, iid=90, r_ui=96374.53657342658, est=182527.95601398603, details={'was_impossible': False}), Prediction(uid=44, iid=28, r_ui=72.64286713286714, est=182527.95601398603, details={'was_impossible': False}), Prediction(uid=27, iid=22, r_ui=17859.665454545455, est=182527.95601398603, details={'was_impossible': False}), Prediction(uid=31, iid=40, r_ui=56982.26629370629, est=182527.95601398603, details={'was_impossible': False}), Prediction(uid=14, iid=32, r_ui=12817.232867132867, est=182527.95601398603, details={'was_impossible': False}), Prediction(uid=18, iid=1, r_ui=21988.356223776223, est=182527.95601398603, details={'was_impossible': False}), Prediction(uid=42, iid=21, r_ui=1262.8542657342657, est=182527.95601398603, details={'was_impossible': False}), Prediction(uid=6, iid=3, r_ui=16806.63881118881, est=182527.95601398603, details={'was_impossible': False}), Prediction(uid=29, iid=3, r_ui=7995.9558041958035, est=182527.95601398603, details={'was_impossible': False}), Prediction(uid=39, iid=71, r_ui=6469.893286713286, est=182527.95601398603, details={'was_impossible': False}), Prediction(uid=36, iid=33, r_ui=-3.1566666666666667, est=182527.95601398603, details={'was_impossible': False}), Prediction(uid=26, iid=8, r_ui=28694.95090909091, est=182527.95601398603, details={'was_impossible': False}), Prediction(uid=2, iid=87, r_ui=24932.985804195807, est=182527.95601398603, details={'was_impossible': False}), Prediction(uid=16, iid=23, r_ui=11264.88937062937, est=182527.95601398603, details={'was_impossible': False}), Prediction(uid=37, iid=55, r_ui=6.268888888888889, est=182527.95601398603, details={'was_impossible': False}), Prediction(uid=32, iid=16, r_ui=14786.892027972028, est=182527.95601398603, details={'was_impossible': False}), Prediction(uid=6, iid=40, r_ui=65833.7272027972, est=182527.95601398603, details={'was_impossible': False}), Prediction(uid=39, iid=31, r_ui=2337.0743356643356, est=182527.95601398603, details={'was_impossible': False}), Prediction(uid=44, iid=60, r_ui=370.76083916083917, est=182527.95601398603, details={'was_impossible': False}), Prediction(uid=24, iid=34, r_ui=16351.96132867133, est=182527.95601398603, details={'was_impossible': False}), Prediction(uid=9, iid=90, r_ui=2981.2495104895106, est=182527.95601398603, details={'was_impossible': False}), Prediction(uid=14, iid=67, r_ui=14631.92013986014, est=182527.95601398603, details={'was_impossible': False}), Prediction(uid=20, iid=49, r_ui=21402.477272727272, est=182527.95601398603, details={'was_impossible': False}), Prediction(uid=29, iid=19, r_ui=36.90816091954023, est=182527.95601398603, details={'was_impossible': False}), Prediction(uid=25, iid=52, r_ui=1499.6206293706293, est=182527.95601398603, details={'was_impossible': False}), Prediction(uid=34, iid=22, r_ui=6152.8216783216785, est=182527.95601398603, details={'was_impossible': False}), Prediction(uid=1, iid=82, r_ui=20727.86090909091, est=182527.95601398603, details={'was_impossible': False}), Prediction(uid=7, iid=4, r_ui=14950.518601398602, est=182527.95601398603, details={'was_impossible': False}), Prediction(uid=12, iid=13, r_ui=46974.984965034964, est=182527.95601398603, details={'was_impossible': False}), Prediction(uid=28, iid=72, r_ui=55202.67909090909, est=182527.95601398603, details={'was_impossible': False}), Prediction(uid=31, iid=6, r_ui=3489.8094405594406, est=182527.95601398603, details={'was_impossible': False}), Prediction(uid=24, iid=16, r_ui=20444.66818181818, est=182527.95601398603, details={'was_impossible': False}), Prediction(uid=1, iid=74, r_ui=11652.827412587412, est=182527.95601398603, details={'was_impossible': False}), Prediction(uid=18, iid=9, r_ui=18589.37125874126, est=182527.95601398603, details={'was_impossible': False}), Prediction(uid=20, iid=48, r_ui=1496.297769230769, est=182527.95601398603, details={'was_impossible': False}), Prediction(uid=20, iid=37, r_ui=4006.388111888112, est=182527.95601398603, details={'was_impossible': False}), Prediction(uid=33, iid=72, r_ui=10.453333333333333, est=182527.95601398603, details={'was_impossible': False}), Prediction(uid=17, iid=7, r_ui=19474.77055944056, est=182527.95601398603, details={'was_impossible': False}), Prediction(uid=27, iid=92, r_ui=146518.14139860138, est=182527.95601398603, details={'was_impossible': False}), Prediction(uid=40, iid=2, r_ui=26702.705174825172, est=182527.95601398603, details={'was_impossible': False}), Prediction(uid=21, iid=44, r_ui=4255.040699300699, est=182527.95601398603, details={'was_impossible': False}), Prediction(uid=22, iid=33, r_ui=7419.50034965035, est=182527.95601398603, details={'was_impossible': False}), Prediction(uid=6, iid=59, r_ui=1016.7490909090909, est=182527.95601398603, details={'was_impossible': False}), Prediction(uid=20, iid=22, r_ui=13931.855174825176, est=182527.95601398603, details={'was_impossible': False}), Prediction(uid=13, iid=43, r_ui=1.07, est=182527.95601398603, details={'was_impossible': False}), Prediction(uid=37, iid=90, r_ui=44144.42811188811, est=182527.95601398603, details={'was_impossible': False}), Prediction(uid=12, iid=67, r_ui=6223.47020979021, est=182527.95601398603, details={'was_impossible': False}), Prediction(uid=37, iid=20, r_ui=64.42042253521127, est=182527.95601398603, details={'was_impossible': False}), Prediction(uid=14, iid=54, r_ui=148.6854887218045, est=182527.95601398603, details={'was_impossible': False}), Prediction(uid=8, iid=33, r_ui=5115.140979020979, est=182527.95601398603, details={'was_impossible': False}), Prediction(uid=11, iid=81, r_ui=12944.031468531468, est=182527.95601398603, details={'was_impossible': False}), Prediction(uid=5, iid=5, r_ui=6699.202237762238, est=182527.95601398603, details={'was_impossible': False}), Prediction(uid=7, iid=42, r_ui=6485.042307692308, est=182527.95601398603, details={'was_impossible': False}), Prediction(uid=7, iid=24, r_ui=2555.7652447552446, est=182527.95601398603, details={'was_impossible': False}), Prediction(uid=32, iid=90, r_ui=61639.63713286713, est=182527.95601398603, details={'was_impossible': False}), Prediction(uid=36, iid=92, r_ui=44539.56447552447, est=182527.95601398603, details={'was_impossible': False}), Prediction(uid=19, iid=19, r_ui=-5.21923076923077, est=182527.95601398603, details={'was_impossible': False}), Prediction(uid=33, iid=24, r_ui=23.9675, est=182527.95601398603, details={'was_impossible': False}), Prediction(uid=2, iid=56, r_ui=5545.122307692308, est=182527.95601398603, details={'was_impossible': False}), Prediction(uid=8, iid=5, r_ui=19838.84923076923, est=182527.95601398603, details={'was_impossible': False}), Prediction(uid=13, iid=35, r_ui=3660.573986013986, est=182527.95601398603, details={'was_impossible': False}), Prediction(uid=38, iid=34, r_ui=12.672857142857143, est=182527.95601398603, details={'was_impossible': False}), Prediction(uid=20, iid=79, r_ui=38597.25923076923, est=182527.95601398603, details={'was_impossible': False}), Prediction(uid=7, iid=10, r_ui=21136.56027972028, est=182527.95601398603, details={'was_impossible': False}), Prediction(uid=29, iid=72, r_ui=34201.58104895105, est=182527.95601398603, details={'was_impossible': False}), Prediction(uid=38, iid=40, r_ui=16473.388041958042, est=182527.95601398603, details={'was_impossible': False}), Prediction(uid=4, iid=1, r_ui=36979.94006993007, est=182527.95601398603, details={'was_impossible': False}), Prediction(uid=45, iid=74, r_ui=10710.12111888112, est=182527.95601398603, details={'was_impossible': False}), Prediction(uid=4, iid=67, r_ui=12471.426713286713, est=182527.95601398603, details={'was_impossible': False}), Prediction(uid=35, iid=52, r_ui=1616.18006993007, est=182527.95601398603, details={'was_impossible': False}), Prediction(uid=23, iid=47, r_ui=-45.958333333333336, est=182527.95601398603, details={'was_impossible': False}), Prediction(uid=24, iid=96, r_ui=13623.074615384616, est=182527.95601398603, details={'was_impossible': False}), Prediction(uid=26, iid=1, r_ui=19402.762937062937, est=182527.95601398603, details={'was_impossible': False}), Prediction(uid=4, iid=32, r_ui=13685.43034965035, est=182527.95601398603, details={'was_impossible': False}), Prediction(uid=15, iid=98, r_ui=273.5048837209302, est=182527.95601398603, details={'was_impossible': False}), Prediction(uid=40, iid=55, r_ui=9000.258741258742, est=182527.95601398603, details={'was_impossible': False}), Prediction(uid=45, iid=11, r_ui=14228.37867132867, est=182527.95601398603, details={'was_impossible': False}), Prediction(uid=22, iid=25, r_ui=9725.432727272726, est=182527.95601398603, details={'was_impossible': False}), Prediction(uid=17, iid=59, r_ui=638.8553846153847, est=182527.95601398603, details={'was_impossible': False}), Prediction(uid=32, iid=56, r_ui=5524.586223776223, est=182527.95601398603, details={'was_impossible': False}), Prediction(uid=31, iid=77, r_ui=192.33333333333334, est=182527.95601398603, details={'was_impossible': False}), Prediction(uid=32, iid=98, r_ui=7939.262377622378, est=182527.95601398603, details={'was_impossible': False}), Prediction(uid=23, iid=6, r_ui=7393.49965034965, est=182527.95601398603, details={'was_impossible': False}), Prediction(uid=17, iid=93, r_ui=3646.955664335664, est=182527.95601398603, details={'was_impossible': False}), Prediction(uid=15, iid=46, r_ui=12364.400699300699, est=182527.95601398603, details={'was_impossible': False}), Prediction(uid=43, iid=91, r_ui=34808.442167832174, est=182527.95601398603, details={'was_impossible': False}), Prediction(uid=15, iid=36, r_ui=1383.587902097902, est=182527.95601398603, details={'was_impossible': False}), Prediction(uid=44, iid=5, r_ui=960.6704895104896, est=182527.95601398603, details={'was_impossible': False}), Prediction(uid=3, iid=92, r_ui=7568.28020979021, est=182527.95601398603, details={'was_impossible': False}), Prediction(uid=40, iid=51, r_ui=22.127254901960786, est=182527.95601398603, details={'was_impossible': False}), Prediction(uid=20, iid=16, r_ui=27048.00888111888, est=182527.95601398603, details={'was_impossible': False}), Prediction(uid=5, iid=58, r_ui=871.1764705882352, est=182527.95601398603, details={'was_impossible': False}), Prediction(uid=32, iid=5, r_ui=20748.371888111888, est=182527.95601398603, details={'was_impossible': False}), Prediction(uid=27, iid=79, r_ui=36864.10958041958, est=182527.95601398603, details={'was_impossible': False}), Prediction(uid=45, iid=6, r_ui=3554.2226573426574, est=182527.95601398603, details={'was_impossible': False}), Prediction(uid=22, iid=42, r_ui=7634.136363636364, est=182527.95601398603, details={'was_impossible': False}), Prediction(uid=37, iid=44, r_ui=4.442352941176471, est=182527.95601398603, details={'was_impossible': False}), Prediction(uid=10, iid=74, r_ui=41975.974825174824, est=182527.95601398603, details={'was_impossible': False}), Prediction(uid=7, iid=5, r_ui=13860.35048951049, est=182527.95601398603, details={'was_impossible': False}), Prediction(uid=4, iid=17, r_ui=15815.878041958042, est=182527.95601398603, details={'was_impossible': False}), Prediction(uid=21, iid=16, r_ui=6308.213146853147, est=182527.95601398603, details={'was_impossible': False}), Prediction(uid=16, iid=56, r_ui=6037.615422535211, est=182527.95601398603, details={'was_impossible': False}), Prediction(uid=34, iid=7, r_ui=18055.491608391607, est=182527.95601398603, details={'was_impossible': False}), Prediction(uid=18, iid=44, r_ui=5055.879510489511, est=182527.95601398603, details={'was_impossible': False}), Prediction(uid=14, iid=10, r_ui=20165.667132867133, est=182527.95601398603, details={'was_impossible': False}), Prediction(uid=32, iid=44, r_ui=4266.812097902098, est=182527.95601398603, details={'was_impossible': False}), Prediction(uid=19, iid=11, r_ui=21997.256503496505, est=182527.95601398603, details={'was_impossible': False}), Prediction(uid=7, iid=52, r_ui=1303.6146153846155, est=182527.95601398603, details={'was_impossible': False}), Prediction(uid=5, iid=79, r_ui=5009.172447552448, est=182527.95601398603, details={'was_impossible': False}), Prediction(uid=28, iid=24, r_ui=8328.875804195804, est=182527.95601398603, details={'was_impossible': False}), Prediction(uid=28, iid=54, r_ui=96.11713178294575, est=182527.95601398603, details={'was_impossible': False}), Prediction(uid=20, iid=85, r_ui=4993.7762937062935, est=182527.95601398603, details={'was_impossible': False}), Prediction(uid=24, iid=56, r_ui=4810.956363636364, est=182527.95601398603, details={'was_impossible': False}), Prediction(uid=34, iid=37, r_ui=2221.7174125874126, est=182527.95601398603, details={'was_impossible': False}), Prediction(uid=9, iid=33, r_ui=2564.0693006993006, est=182527.95601398603, details={'was_impossible': False}), Prediction(uid=31, iid=20, r_ui=6430.436713286713, est=182527.95601398603, details={'was_impossible': False}), Prediction(uid=21, iid=92, r_ui=21915.114965034965, est=182527.95601398603, details={'was_impossible': False}), Prediction(uid=36, iid=59, r_ui=28.774666666666665, est=182527.95601398603, details={'was_impossible': False}), Prediction(uid=16, iid=52, r_ui=1644.2844055944056, est=182527.95601398603, details={'was_impossible': False}), Prediction(uid=18, iid=52, r_ui=2950.3684615384614, est=182527.95601398603, details={'was_impossible': False}), Prediction(uid=8, iid=22, r_ui=7138.1132867132865, est=182527.95601398603, details={'was_impossible': False}), Prediction(uid=9, iid=11, r_ui=14721.070979020978, est=182527.95601398603, details={'was_impossible': False}), Prediction(uid=14, iid=5, r_ui=33468.32503496503, est=182527.95601398603, details={'was_impossible': False}), Prediction(uid=30, iid=2, r_ui=12974.464475524475, est=182527.95601398603, details={'was_impossible': False}), Prediction(uid=27, iid=46, r_ui=38260.78461538462, est=182527.95601398603, details={'was_impossible': False}), Prediction(uid=18, iid=34, r_ui=20971.56706293706, est=182527.95601398603, details={'was_impossible': False}), Prediction(uid=26, iid=95, r_ui=70236.82762237762, est=182527.95601398603, details={'was_impossible': False}), Prediction(uid=27, iid=98, r_ui=11524.137832167831, est=182527.95601398603, details={'was_impossible': False}), Prediction(uid=34, iid=9, r_ui=17224.253496503497, est=182527.95601398603, details={'was_impossible': False}), Prediction(uid=28, iid=22, r_ui=10210.134825174826, est=182527.95601398603, details={'was_impossible': False}), Prediction(uid=19, iid=97, r_ui=20370.26972027972, est=182527.95601398603, details={'was_impossible': False}), Prediction(uid=34, iid=80, r_ui=11687.922447552446, est=182527.95601398603, details={'was_impossible': False}), Prediction(uid=37, iid=46, r_ui=8520.157202797203, est=182527.95601398603, details={'was_impossible': False}), Prediction(uid=10, iid=80, r_ui=355.171958041958, est=182527.95601398603, details={'was_impossible': False}), Prediction(uid=25, iid=8, r_ui=29858.353636363638, est=182527.95601398603, details={'was_impossible': False}), Prediction(uid=24, iid=97, r_ui=18597.824125874125, est=182527.95601398603, details={'was_impossible': False}), Prediction(uid=14, iid=49, r_ui=11864.542657342658, est=182527.95601398603, details={'was_impossible': False}), Prediction(uid=32, iid=27, r_ui=1261.8755244755246, est=182527.95601398603, details={'was_impossible': False}), Prediction(uid=9, iid=77, r_ui=477.0, est=182527.95601398603, details={'was_impossible': False}), Prediction(uid=20, iid=77, r_ui=350.0822222222222, est=182527.95601398603, details={'was_impossible': False}), Prediction(uid=18, iid=30, r_ui=6178.887762237762, est=182527.95601398603, details={'was_impossible': False}), Prediction(uid=24, iid=9, r_ui=23246.74832167832, est=182527.95601398603, details={'was_impossible': False}), Prediction(uid=38, iid=99, r_ui=25.0, est=182527.95601398603, details={'was_impossible': False}), Prediction(uid=17, iid=60, r_ui=371.3076923076923, est=182527.95601398603, details={'was_impossible': False}), Prediction(uid=15, iid=38, r_ui=52572.17944055944, est=182527.95601398603, details={'was_impossible': False}), Prediction(uid=7, iid=18, r_ui=4255.952842105264, est=182527.95601398603, details={'was_impossible': False}), Prediction(uid=36, iid=5, r_ui=314.75398230088496, est=182527.95601398603, details={'was_impossible': False}), Prediction(uid=29, iid=33, r_ui=4058.077972027972, est=182527.95601398603, details={'was_impossible': False}), Prediction(uid=33, iid=25, r_ui=34.63395833333333, est=182527.95601398603, details={'was_impossible': False}), Prediction(uid=36, iid=74, r_ui=602.5002797202797, est=182527.95601398603, details={'was_impossible': False}), Prediction(uid=36, iid=44, r_ui=4.3237499999999995, est=182527.95601398603, details={'was_impossible': False}), Prediction(uid=13, iid=49, r_ui=9206.92944055944, est=182527.95601398603, details={'was_impossible': False}), Prediction(uid=2, iid=91, r_ui=80610.38034965035, est=182527.95601398603, details={'was_impossible': False}), Prediction(uid=38, iid=23, r_ui=37.848679245283016, est=182527.95601398603, details={'was_impossible': False}), Prediction(uid=1, iid=44, r_ui=4872.724405594406, est=182527.95601398603, details={'was_impossible': False}), Prediction(uid=15, iid=34, r_ui=13800.84909090909, est=182527.95601398603, details={'was_impossible': False}), Prediction(uid=31, iid=56, r_ui=1747.5075524475524, est=182527.95601398603, details={'was_impossible': False}), Prediction(uid=10, iid=16, r_ui=30273.874755244753, est=182527.95601398603, details={'was_impossible': False}), Prediction(uid=11, iid=95, r_ui=77487.2790909091, est=182527.95601398603, details={'was_impossible': False}), Prediction(uid=34, iid=34, r_ui=8064.623916083916, est=182527.95601398603, details={'was_impossible': False}), Prediction(uid=41, iid=51, r_ui=16.185526315789474, est=182527.95601398603, details={'was_impossible': False}), Prediction(uid=16, iid=5, r_ui=13494.538671328672, est=182527.95601398603, details={'was_impossible': False}), Prediction(uid=35, iid=29, r_ui=8768.50062937063, est=182527.95601398603, details={'was_impossible': False}), Prediction(uid=28, iid=23, r_ui=31939.141398601398, est=182527.95601398603, details={'was_impossible': False}), Prediction(uid=17, iid=38, r_ui=77339.77643356643, est=182527.95601398603, details={'was_impossible': False}), Prediction(uid=42, iid=95, r_ui=61205.27230769231, est=182527.95601398603, details={'was_impossible': False}), Prediction(uid=35, iid=78, r_ui=12.6, est=182527.95601398603, details={'was_impossible': False}), Prediction(uid=2, iid=18, r_ui=11687.563008849558, est=182527.95601398603, details={'was_impossible': False}), Prediction(uid=22, iid=96, r_ui=6.243, est=182527.95601398603, details={'was_impossible': False}), Prediction(uid=4, iid=99, r_ui=623.182380952381, est=182527.95601398603, details={'was_impossible': False}), Prediction(uid=8, iid=11, r_ui=18628.06146853147, est=182527.95601398603, details={'was_impossible': False}), Prediction(uid=21, iid=31, r_ui=3884.023076923077, est=182527.95601398603, details={'was_impossible': False}), Prediction(uid=1, iid=13, r_ui=38692.88048951049, est=182527.95601398603, details={'was_impossible': False}), Prediction(uid=16, iid=38, r_ui=52078.70090909091, est=182527.95601398603, details={'was_impossible': False}), Prediction(uid=16, iid=6, r_ui=5146.03895104895, est=182527.95601398603, details={'was_impossible': False}), Prediction(uid=45, iid=82, r_ui=13430.491398601398, est=182527.95601398603, details={'was_impossible': False}), Prediction(uid=25, iid=19, r_ui=11.605263157894736, est=182527.95601398603, details={'was_impossible': False}), Prediction(uid=43, iid=7, r_ui=516.7728671328672, est=182527.95601398603, details={'was_impossible': False}), Prediction(uid=22, iid=17, r_ui=14551.985174825175, est=182527.95601398603, details={'was_impossible': False}), Prediction(uid=7, iid=17, r_ui=5568.405384615385, est=182527.95601398603, details={'was_impossible': False}), Prediction(uid=3, iid=5, r_ui=11695.366573426572, est=182527.95601398603, details={'was_impossible': False}), Prediction(uid=30, iid=40, r_ui=23431.05846153846, est=182527.95601398603, details={'was_impossible': False}), Prediction(uid=25, iid=27, r_ui=1207.298041958042, est=182527.95601398603, details={'was_impossible': False}), Prediction(uid=13, iid=14, r_ui=26378.644195804198, est=182527.95601398603, details={'was_impossible': False}), Prediction(uid=26, iid=48, r_ui=611.3725490196078, est=182527.95601398603, details={'was_impossible': False}), Prediction(uid=41, iid=87, r_ui=10042.527762237762, est=182527.95601398603, details={'was_impossible': False}), Prediction(uid=28, iid=82, r_ui=19119.629650349652, est=182527.95601398603, details={'was_impossible': False}), Prediction(uid=39, iid=34, r_ui=16354.447272727273, est=182527.95601398603, details={'was_impossible': False}), Prediction(uid=25, iid=96, r_ui=-1.27, est=182527.95601398603, details={'was_impossible': False}), Prediction(uid=7, iid=92, r_ui=26530.89055944056, est=182527.95601398603, details={'was_impossible': False}), Prediction(uid=6, iid=6, r_ui=7225.566643356644, est=182527.95601398603, details={'was_impossible': False}), Prediction(uid=3, iid=77, r_ui=424.0, est=182527.95601398603, details={'was_impossible': False}), Prediction(uid=32, iid=93, r_ui=30732.226923076923, est=182527.95601398603, details={'was_impossible': False}), Prediction(uid=2, iid=16, r_ui=27005.17965034965, est=182527.95601398603, details={'was_impossible': False}), Prediction(uid=13, iid=74, r_ui=29780.093496503498, est=182527.95601398603, details={'was_impossible': False}), Prediction(uid=14, iid=18, r_ui=14279.86368852459, est=182527.95601398603, details={'was_impossible': False}), Prediction(uid=16, iid=19, r_ui=994.9262237762239, est=182527.95601398603, details={'was_impossible': False}), Prediction(uid=26, iid=85, r_ui=1871.3519580419581, est=182527.95601398603, details={'was_impossible': False}), Prediction(uid=20, iid=93, r_ui=52818.583706293706, est=182527.95601398603, details={'was_impossible': False}), Prediction(uid=11, iid=9, r_ui=19056.162167832168, est=182527.95601398603, details={'was_impossible': False}), Prediction(uid=2, iid=38, r_ui=85114.996013986, est=182527.95601398603, details={'was_impossible': False}), Prediction(uid=35, iid=14, r_ui=28741.281678321677, est=182527.95601398603, details={'was_impossible': False}), Prediction(uid=7, iid=31, r_ui=1799.5592307692307, est=182527.95601398603, details={'was_impossible': False}), Prediction(uid=34, iid=30, r_ui=1903.1337762237763, est=182527.95601398603, details={'was_impossible': False}), Prediction(uid=20, iid=83, r_ui=5624.9494405594405, est=182527.95601398603, details={'was_impossible': False}), Prediction(uid=44, iid=44, r_ui=4.743, est=182527.95601398603, details={'was_impossible': False}), Prediction(uid=23, iid=13, r_ui=37969.25566433566, est=182527.95601398603, details={'was_impossible': False}), Prediction(uid=22, iid=52, r_ui=1626.951048951049, est=182527.95601398603, details={'was_impossible': False}), Prediction(uid=14, iid=95, r_ui=144446.93251748252, est=182527.95601398603, details={'was_impossible': False}), Prediction(uid=40, iid=24, r_ui=2954.521818181818, est=182527.95601398603, details={'was_impossible': False}), Prediction(uid=18, iid=12, r_ui=3865.5369230769234, est=182527.95601398603, details={'was_impossible': False}), Prediction(uid=29, iid=10, r_ui=9400.183076923076, est=182527.95601398603, details={'was_impossible': False}), Prediction(uid=14, iid=35, r_ui=4034.9920279720277, est=182527.95601398603, details={'was_impossible': False}), Prediction(uid=26, iid=24, r_ui=2697.7972727272727, est=182527.95601398603, details={'was_impossible': False}), Prediction(uid=41, iid=12, r_ui=4273.264965034965, est=182527.95601398603, details={'was_impossible': False}), Prediction(uid=33, iid=49, r_ui=8.0, est=182527.95601398603, details={'was_impossible': False}), Prediction(uid=8, iid=4, r_ui=21089.3093006993, est=182527.95601398603, details={'was_impossible': False}), Prediction(uid=14, iid=16, r_ui=29647.14013986014, est=182527.95601398603, details={'was_impossible': False}), Prediction(uid=36, iid=36, r_ui=-30.0, est=182527.95601398603, details={'was_impossible': False}), Prediction(uid=17, iid=44, r_ui=7535.0325874125865, est=182527.95601398603, details={'was_impossible': False}), Prediction(uid=3, iid=49, r_ui=17.581481481481482, est=182527.95601398603, details={'was_impossible': False}), Prediction(uid=16, iid=18, r_ui=3521.8804123711343, est=182527.95601398603, details={'was_impossible': False}), Prediction(uid=19, iid=46, r_ui=20351.556643356646, est=182527.95601398603, details={'was_impossible': False}), Prediction(uid=20, iid=55, r_ui=19815.983146853145, est=182527.95601398603, details={'was_impossible': False}), Prediction(uid=18, iid=7, r_ui=33152.3472027972, est=182527.95601398603, details={'was_impossible': False}), Prediction(uid=37, iid=2, r_ui=16511.446223776224, est=182527.95601398603, details={'was_impossible': False}), Prediction(uid=12, iid=92, r_ui=24682.599160839163, est=182527.95601398603, details={'was_impossible': False}), Prediction(uid=4, iid=16, r_ui=21270.153006993005, est=182527.95601398603, details={'was_impossible': False}), Prediction(uid=44, iid=22, r_ui=63.158181818181816, est=182527.95601398603, details={'was_impossible': False}), Prediction(uid=2, iid=71, r_ui=4634.6093706293705, est=182527.95601398603, details={'was_impossible': False}), Prediction(uid=8, iid=31, r_ui=1415.6996503496503, est=182527.95601398603, details={'was_impossible': False}), Prediction(uid=26, iid=21, r_ui=5651.43958041958, est=182527.95601398603, details={'was_impossible': False}), Prediction(uid=19, iid=40, r_ui=54198.52713286713, est=182527.95601398603, details={'was_impossible': False}), Prediction(uid=14, iid=83, r_ui=10933.487902097902, est=182527.95601398603, details={'was_impossible': False}), Prediction(uid=21, iid=14, r_ui=15897.316083916085, est=182527.95601398603, details={'was_impossible': False}), Prediction(uid=27, iid=30, r_ui=5028.221048951049, est=182527.95601398603, details={'was_impossible': False}), Prediction(uid=29, iid=22, r_ui=6408.913776223777, est=182527.95601398603, details={'was_impossible': False}), Prediction(uid=1, iid=4, r_ui=36964.154475524476, est=182527.95601398603, details={'was_impossible': False}), Prediction(uid=26, iid=56, r_ui=3909.6988111888118, est=182527.95601398603, details={'was_impossible': False}), Prediction(uid=39, iid=20, r_ui=7874.601678321678, est=182527.95601398603, details={'was_impossible': False}), Prediction(uid=16, iid=44, r_ui=3922.6970629370635, est=182527.95601398603, details={'was_impossible': False}), Prediction(uid=15, iid=22, r_ui=8515.664685314685, est=182527.95601398603, details={'was_impossible': False}), Prediction(uid=33, iid=40, r_ui=6243.193916083916, est=182527.95601398603, details={'was_impossible': False}), Prediction(uid=45, iid=16, r_ui=16600.54048951049, est=182527.95601398603, details={'was_impossible': False}), Prediction(uid=38, iid=87, r_ui=582.2507692307693, est=182527.95601398603, details={'was_impossible': False}), Prediction(uid=7, iid=85, r_ui=2056.1846853146853, est=182527.95601398603, details={'was_impossible': False}), Prediction(uid=32, iid=24, r_ui=4089.416923076923, est=182527.95601398603, details={'was_impossible': False}), Prediction(uid=15, iid=87, r_ui=9142.630419580419, est=182527.95601398603, details={'was_impossible': False}), Prediction(uid=18, iid=95, r_ui=57668.25174825175, est=182527.95601398603, details={'was_impossible': False}), Prediction(uid=40, iid=78, r_ui=7.5, est=182527.95601398603, details={'was_impossible': False}), Prediction(uid=36, iid=2, r_ui=13416.025664335664, est=182527.95601398603, details={'was_impossible': False}), Prediction(uid=21, iid=10, r_ui=14695.978881118881, est=182527.95601398603, details={'was_impossible': False}), Prediction(uid=18, iid=54, r_ui=144.46068181818183, est=182527.95601398603, details={'was_impossible': False}), Prediction(uid=24, iid=5, r_ui=29178.058811188814, est=182527.95601398603, details={'was_impossible': False}), Prediction(uid=29, iid=91, r_ui=4691.213216783217, est=182527.95601398603, details={'was_impossible': False}), Prediction(uid=3, iid=94, r_ui=656.2944444444445, est=182527.95601398603, details={'was_impossible': False}), Prediction(uid=34, iid=35, r_ui=1693.4543356643358, est=182527.95601398603, details={'was_impossible': False}), Prediction(uid=14, iid=52, r_ui=2370.137202797203, est=182527.95601398603, details={'was_impossible': False}), Prediction(uid=16, iid=22, r_ui=6302.361048951049, est=182527.95601398603, details={'was_impossible': False}), Prediction(uid=25, iid=44, r_ui=3972.5792307692304, est=182527.95601398603, details={'was_impossible': False}), Prediction(uid=17, iid=35, r_ui=1541.4223776223776, est=182527.95601398603, details={'was_impossible': False}), Prediction(uid=20, iid=7, r_ui=49394.699230769234, est=182527.95601398603, details={'was_impossible': False}), Prediction(uid=34, iid=12, r_ui=5312.239300699301, est=182527.95601398603, details={'was_impossible': False}), Prediction(uid=36, iid=3, r_ui=381.32426573426574, est=182527.95601398603, details={'was_impossible': False}), Prediction(uid=10, iid=46, r_ui=54965.004685314685, est=182527.95601398603, details={'was_impossible': False}), Prediction(uid=10, iid=29, r_ui=15703.823426573426, est=182527.95601398603, details={'was_impossible': False}), Prediction(uid=34, iid=42, r_ui=4210.795594405595, est=182527.95601398603, details={'was_impossible': False}), Prediction(uid=2, iid=28, r_ui=798.9132167832167, est=182527.95601398603, details={'was_impossible': False}), Prediction(uid=44, iid=10, r_ui=153.79265734265732, est=182527.95601398603, details={'was_impossible': False}), Prediction(uid=22, iid=8, r_ui=37236.34769230769, est=182527.95601398603, details={'was_impossible': False}), Prediction(uid=38, iid=13, r_ui=10033.864755244755, est=182527.95601398603, details={'was_impossible': False}), Prediction(uid=30, iid=85, r_ui=77.29737588652482, est=182527.95601398603, details={'was_impossible': False}), Prediction(uid=13, iid=52, r_ui=4579.38027972028, est=182527.95601398603, details={'was_impossible': False}), Prediction(uid=5, iid=45, r_ui=18.588260869565215, est=182527.95601398603, details={'was_impossible': False}), Prediction(uid=35, iid=26, r_ui=13033.82020979021, est=182527.95601398603, details={'was_impossible': False}), Prediction(uid=37, iid=38, r_ui=69388.85447552447, est=182527.95601398603, details={'was_impossible': False}), Prediction(uid=11, iid=42, r_ui=6152.948111888111, est=182527.95601398603, details={'was_impossible': False}), Prediction(uid=24, iid=27, r_ui=1950.7345454545452, est=182527.95601398603, details={'was_impossible': False}), Prediction(uid=22, iid=3, r_ui=13150.979510489511, est=182527.95601398603, details={'was_impossible': False}), Prediction(uid=24, iid=42, r_ui=5946.428041958042, est=182527.95601398603, details={'was_impossible': False}), Prediction(uid=41, iid=98, r_ui=9371.531608391608, est=182527.95601398603, details={'was_impossible': False}), Prediction(uid=21, iid=72, r_ui=42966.006223776225, est=182527.95601398603, details={'was_impossible': False}), Prediction(uid=6, iid=42, r_ui=9399.415034965035, est=182527.95601398603, details={'was_impossible': False}), Prediction(uid=3, iid=47, r_ui=38.875, est=182527.95601398603, details={'was_impossible': False}), Prediction(uid=7, iid=80, r_ui=450.67029629629627, est=182527.95601398603, details={'was_impossible': False}), Prediction(uid=15, iid=11, r_ui=14041.217832167831, est=182527.95601398603, details={'was_impossible': False}), Prediction(uid=20, iid=19, r_ui=162.1589285714286, est=182527.95601398603, details={'was_impossible': False}), Prediction(uid=15, iid=52, r_ui=1561.243076923077, est=182527.95601398603, details={'was_impossible': False}), Prediction(uid=17, iid=85, r_ui=4209.212237762237, est=182527.95601398603, details={'was_impossible': False}), Prediction(uid=30, iid=49, r_ui=7.317222222222223, est=182527.95601398603, details={'was_impossible': False}), Prediction(uid=44, iid=81, r_ui=7472.975944055945, est=182527.95601398603, details={'was_impossible': False}), Prediction(uid=36, iid=9, r_ui=102.21173913043478, est=182527.95601398603, details={'was_impossible': False}), Prediction(uid=16, iid=74, r_ui=9806.358601398602, est=182527.95601398603, details={'was_impossible': False}), Prediction(uid=30, iid=12, r_ui=72.02370629370628, est=182527.95601398603, details={'was_impossible': False}), Prediction(uid=3, iid=7, r_ui=10044.341608391609, est=182527.95601398603, details={'was_impossible': False}), Prediction(uid=5, iid=8, r_ui=13735.70944055944, est=182527.95601398603, details={'was_impossible': False}), Prediction(uid=38, iid=52, r_ui=21.39958041958042, est=182527.95601398603, details={'was_impossible': False}), Prediction(uid=4, iid=13, r_ui=69596.44734265735, est=182527.95601398603, details={'was_impossible': False}), Prediction(uid=25, iid=22, r_ui=6499.126083916084, est=182527.95601398603, details={'was_impossible': False}), Prediction(uid=15, iid=5, r_ui=16465.706993006992, est=182527.95601398603, details={'was_impossible': False}), Prediction(uid=27, iid=18, r_ui=11320.96109489051, est=182527.95601398603, details={'was_impossible': False}), Prediction(uid=30, iid=29, r_ui=8.615, est=182527.95601398603, details={'was_impossible': False}), Prediction(uid=25, iid=25, r_ui=7118.890769230769, est=182527.95601398603, details={'was_impossible': False}), Prediction(uid=34, iid=47, r_ui=-78.91916666666667, est=182527.95601398603, details={'was_impossible': False}), Prediction(uid=28, iid=14, r_ui=16522.44356643357, est=182527.95601398603, details={'was_impossible': False}), Prediction(uid=4, iid=4, r_ui=56603.40013986014, est=182527.95601398603, details={'was_impossible': False}), Prediction(uid=31, iid=51, r_ui=17.722641509433963, est=182527.95601398603, details={'was_impossible': False}), Prediction(uid=29, iid=4, r_ui=14326.216223776224, est=182527.95601398603, details={'was_impossible': False}), Prediction(uid=39, iid=21, r_ui=7177.074685314686, est=182527.95601398603, details={'was_impossible': False}), Prediction(uid=27, iid=14, r_ui=28918.602867132868, est=182527.95601398603, details={'was_impossible': False}), Prediction(uid=34, iid=36, r_ui=883.7164335664336, est=182527.95601398603, details={'was_impossible': False}), Prediction(uid=25, iid=34, r_ui=11331.330979020979, est=182527.95601398603, details={'was_impossible': False}), Prediction(uid=2, iid=31, r_ui=3884.756993006993, est=182527.95601398603, details={'was_impossible': False}), Prediction(uid=25, iid=7, r_ui=17971.43958041958, est=182527.95601398603, details={'was_impossible': False}), Prediction(uid=39, iid=79, r_ui=39430.359160839165, est=182527.95601398603, details={'was_impossible': False}), Prediction(uid=15, iid=99, r_ui=29.88, est=182527.95601398603, details={'was_impossible': False}), Prediction(uid=18, iid=6, r_ui=5664.913076923077, est=182527.95601398603, details={'was_impossible': False}), Prediction(uid=28, iid=45, r_ui=26.1178125, est=182527.95601398603, details={'was_impossible': False}), Prediction(uid=26, iid=67, r_ui=6660.914125874126, est=182527.95601398603, details={'was_impossible': False}), Prediction(uid=34, iid=19, r_ui=29.99074074074074, est=182527.95601398603, details={'was_impossible': False}), Prediction(uid=36, iid=22, r_ui=39.17052631578948, est=182527.95601398603, details={'was_impossible': False}), Prediction(uid=23, iid=3, r_ui=19912.564755244755, est=182527.95601398603, details={'was_impossible': False}), Prediction(uid=32, iid=55, r_ui=9195.223496503497, est=182527.95601398603, details={'was_impossible': False}), Prediction(uid=34, iid=45, r_ui=15.973400000000002, est=182527.95601398603, details={'was_impossible': False}), Prediction(uid=7, iid=11, r_ui=15362.294125874127, est=182527.95601398603, details={'was_impossible': False}), Prediction(uid=45, iid=56, r_ui=3632.1498601398603, est=182527.95601398603, details={'was_impossible': False}), Prediction(uid=22, iid=12, r_ui=3710.6515384615386, est=182527.95601398603, details={'was_impossible': False}), Prediction(uid=12, iid=40, r_ui=48414.82167832168, est=182527.95601398603, details={'was_impossible': False}), Prediction(uid=18, iid=81, r_ui=12115.718601398601, est=182527.95601398603, details={'was_impossible': False}), Prediction(uid=15, iid=74, r_ui=13953.432937062937, est=182527.95601398603, details={'was_impossible': False}), Prediction(uid=7, iid=23, r_ui=14138.214265734267, est=182527.95601398603, details={'was_impossible': False}), Prediction(uid=16, iid=11, r_ui=12037.149090909092, est=182527.95601398603, details={'was_impossible': False}), Prediction(uid=20, iid=59, r_ui=1681.0553846153846, est=182527.95601398603, details={'was_impossible': False}), Prediction(uid=15, iid=55, r_ui=6675.751468531468, est=182527.95601398603, details={'was_impossible': False}), Prediction(uid=19, iid=3, r_ui=18414.224475524476, est=182527.95601398603, details={'was_impossible': False}), Prediction(uid=19, iid=5, r_ui=28759.223846153844, est=182527.95601398603, details={'was_impossible': False}), Prediction(uid=11, iid=19, r_ui=1435.5870731707316, est=182527.95601398603, details={'was_impossible': False}), Prediction(uid=23, iid=42, r_ui=11755.600489510489, est=182527.95601398603, details={'was_impossible': False}), Prediction(uid=8, iid=49, r_ui=2272.3923076923074, est=182527.95601398603, details={'was_impossible': False}), Prediction(uid=13, iid=44, r_ui=10270.138111888113, est=182527.95601398603, details={'was_impossible': False}), Prediction(uid=15, iid=82, r_ui=10606.899230769232, est=182527.95601398603, details={'was_impossible': False}), Prediction(uid=9, iid=42, r_ui=3063.9082517482516, est=182527.95601398603, details={'was_impossible': False}), Prediction(uid=27, iid=54, r_ui=95.30355072463767, est=182527.95601398603, details={'was_impossible': False}), Prediction(uid=43, iid=27, r_ui=12.443076923076923, est=182527.95601398603, details={'was_impossible': False}), Prediction(uid=36, iid=98, r_ui=9009.943776223776, est=182527.95601398603, details={'was_impossible': False}), Prediction(uid=2, iid=20, r_ui=5748.619440559441, est=182527.95601398603, details={'was_impossible': False}), Prediction(uid=16, iid=99, r_ui=59.76, est=182527.95601398603, details={'was_impossible': False}), Prediction(uid=22, iid=95, r_ui=57868.57111888112, est=182527.95601398603, details={'was_impossible': False}), Prediction(uid=4, iid=82, r_ui=29371.32097902098, est=182527.95601398603, details={'was_impossible': False}), Prediction(uid=10, iid=23, r_ui=65729.84657342658, est=182527.95601398603, details={'was_impossible': False}), Prediction(uid=18, iid=20, r_ui=8409.801958041957, est=182527.95601398603, details={'was_impossible': False}), Prediction(uid=44, iid=33, r_ui=9.03, est=182527.95601398603, details={'was_impossible': False}), Prediction(uid=35, iid=91, r_ui=7919.08013986014, est=182527.95601398603, details={'was_impossible': False}), Prediction(uid=23, iid=38, r_ui=43869.15671328671, est=182527.95601398603, details={'was_impossible': False}), Prediction(uid=5, iid=25, r_ui=2685.5781818181817, est=182527.95601398603, details={'was_impossible': False}), Prediction(uid=33, iid=99, r_ui=0.022, est=182527.95601398603, details={'was_impossible': False}), Prediction(uid=19, iid=36, r_ui=1972.846853146853, est=182527.95601398603, details={'was_impossible': False}), Prediction(uid=31, iid=45, r_ui=10.521212121212123, est=182527.95601398603, details={'was_impossible': False}), Prediction(uid=33, iid=3, r_ui=283.95013986013987, est=182527.95601398603, details={'was_impossible': False}), Prediction(uid=39, iid=8, r_ui=36130.64160839161, est=182527.95601398603, details={'was_impossible': False}), Prediction(uid=40, iid=1, r_ui=18794.57881118881, est=182527.95601398603, details={'was_impossible': False}), Prediction(uid=2, iid=7, r_ui=40477.83706293706, est=182527.95601398603, details={'was_impossible': False}), Prediction(uid=1, iid=21, r_ui=7808.450559440559, est=182527.95601398603, details={'was_impossible': False}), Prediction(uid=25, iid=58, r_ui=709.6521739130435, est=182527.95601398603, details={'was_impossible': False}), Prediction(uid=7, iid=55, r_ui=6616.540489510489, est=182527.95601398603, details={'was_impossible': False}), Prediction(uid=3, iid=9, r_ui=9062.007692307692, est=182527.95601398603, details={'was_impossible': False}), Prediction(uid=27, iid=59, r_ui=1200.596993006993, est=182527.95601398603, details={'was_impossible': False}), Prediction(uid=8, iid=35, r_ui=1885.4702097902098, est=182527.95601398603, details={'was_impossible': False}), Prediction(uid=15, iid=67, r_ui=6214.881468531469, est=182527.95601398603, details={'was_impossible': False}), Prediction(uid=18, iid=90, r_ui=18481.394265734263, est=182527.95601398603, details={'was_impossible': False}), Prediction(uid=6, iid=32, r_ui=11369.82965034965, est=182527.95601398603, details={'was_impossible': False}), Prediction(uid=43, iid=95, r_ui=72883.22328671328, est=182527.95601398603, details={'was_impossible': False}), Prediction(uid=4, iid=26, r_ui=18429.75993006993, est=182527.95601398603, details={'was_impossible': False}), Prediction(uid=16, iid=94, r_ui=673.2809278350516, est=182527.95601398603, details={'was_impossible': False}), Prediction(uid=39, iid=81, r_ui=19245.24965034965, est=182527.95601398603, details={'was_impossible': False}), Prediction(uid=44, iid=13, r_ui=7300.262447552448, est=182527.95601398603, details={'was_impossible': False}), Prediction(uid=17, iid=8, r_ui=20110.27083916084, est=182527.95601398603, details={'was_impossible': False}), Prediction(uid=30, iid=79, r_ui=5857.313916083916, est=182527.95601398603, details={'was_impossible': False}), Prediction(uid=31, iid=19, r_ui=41.5465034965035, est=182527.95601398603, details={'was_impossible': False}), Prediction(uid=23, iid=29, r_ui=11110.54965034965, est=182527.95601398603, details={'was_impossible': False}), Prediction(uid=38, iid=82, r_ui=5551.165244755245, est=182527.95601398603, details={'was_impossible': False}), Prediction(uid=11, iid=71, r_ui=9661.256013986014, est=182527.95601398603, details={'was_impossible': False}), Prediction(uid=6, iid=34, r_ui=18101.45132867133, est=182527.95601398603, details={'was_impossible': False}), Prediction(uid=28, iid=90, r_ui=65285.9520979021, est=182527.95601398603, details={'was_impossible': False}), Prediction(uid=37, iid=8, r_ui=16151.397902097902, est=182527.95601398603, details={'was_impossible': False}), Prediction(uid=1, iid=51, r_ui=32.71272727272727, est=182527.95601398603, details={'was_impossible': False}), Prediction(uid=27, iid=23, r_ui=37222.15720279721, est=182527.95601398603, details={'was_impossible': False}), Prediction(uid=2, iid=22, r_ui=12923.013846153846, est=182527.95601398603, details={'was_impossible': False}), Prediction(uid=2, iid=90, r_ui=97611.53713286713, est=182527.95601398603, details={'was_impossible': False}), Prediction(uid=19, iid=6, r_ui=5948.962867132866, est=182527.95601398603, details={'was_impossible': False}), Prediction(uid=4, iid=95, r_ui=147236.4737062937, est=182527.95601398603, details={'was_impossible': False}), Prediction(uid=25, iid=51, r_ui=6.970769230769231, est=182527.95601398603, details={'was_impossible': False}), Prediction(uid=35, iid=44, r_ui=1809.1567832167832, est=182527.95601398603, details={'was_impossible': False}), Prediction(uid=3, iid=79, r_ui=7230.372447552448, est=182527.95601398603, details={'was_impossible': False}), Prediction(uid=23, iid=71, r_ui=12109.695454545454, est=182527.95601398603, details={'was_impossible': False}), Prediction(uid=26, iid=35, r_ui=1954.9786013986013, est=182527.95601398603, details={'was_impossible': False}), Prediction(uid=32, iid=29, r_ui=3253.888881118881, est=182527.95601398603, details={'was_impossible': False}), Prediction(uid=12, iid=78, r_ui=8.090909090909092, est=182527.95601398603, details={'was_impossible': False}), Prediction(uid=23, iid=93, r_ui=2111.610780141844, est=182527.95601398603, details={'was_impossible': False}), Prediction(uid=41, iid=38, r_ui=46406.42657342657, est=182527.95601398603, details={'was_impossible': False}), Prediction(uid=9, iid=26, r_ui=4032.770769230769, est=182527.95601398603, details={'was_impossible': False}), Prediction(uid=12, iid=34, r_ui=23284.51090909091, est=182527.95601398603, details={'was_impossible': False}), Prediction(uid=9, iid=14, r_ui=7369.519580419581, est=182527.95601398603, details={'was_impossible': False}), Prediction(uid=4, iid=41, r_ui=975.4176223776224, est=182527.95601398603, details={'was_impossible': False}), Prediction(uid=30, iid=20, r_ui=46.31785714285714, est=182527.95601398603, details={'was_impossible': False}), Prediction(uid=39, iid=18, r_ui=11333.330583941606, est=182527.95601398603, details={'was_impossible': False}), Prediction(uid=38, iid=32, r_ui=42.52646153846153, est=182527.95601398603, details={'was_impossible': False}), Prediction(uid=31, iid=21, r_ui=4636.288601398602, est=182527.95601398603, details={'was_impossible': False}), Prediction(uid=6, iid=27, r_ui=1798.5638461538463, est=182527.95601398603, details={'was_impossible': False}), Prediction(uid=2, iid=55, r_ui=13060.297692307693, est=182527.95601398603, details={'was_impossible': False}), Prediction(uid=11, iid=14, r_ui=24644.51307692308, est=182527.95601398603, details={'was_impossible': False}), Prediction(uid=8, iid=26, r_ui=6156.060979020979, est=182527.95601398603, details={'was_impossible': False}), Prediction(uid=24, iid=49, r_ui=5294.918741258742, est=182527.95601398603, details={'was_impossible': False}), Prediction(uid=34, iid=14, r_ui=10049.68846153846, est=182527.95601398603, details={'was_impossible': False}), Prediction(uid=27, iid=28, r_ui=963.9101398601398, est=182527.95601398603, details={'was_impossible': False}), Prediction(uid=29, iid=20, r_ui=3925.716013986014, est=182527.95601398603, details={'was_impossible': False}), Prediction(uid=20, iid=18, r_ui=13170.096, est=182527.95601398603, details={'was_impossible': False}), Prediction(uid=44, iid=34, r_ui=-9.88, est=182527.95601398603, details={'was_impossible': False}), Prediction(uid=16, iid=4, r_ui=14748.078111888111, est=182527.95601398603, details={'was_impossible': False}), Prediction(uid=18, iid=16, r_ui=16067.656223776223, est=182527.95601398603, details={'was_impossible': False}), Prediction(uid=6, iid=22, r_ui=18833.15090909091, est=182527.95601398603, details={'was_impossible': False}), Prediction(uid=34, iid=98, r_ui=7775.998181818181, est=182527.95601398603, details={'was_impossible': False}), Prediction(uid=8, iid=94, r_ui=25442.578041958044, est=182527.95601398603, details={'was_impossible': False}), Prediction(uid=41, iid=77, r_ui=231.5, est=182527.95601398603, details={'was_impossible': False}), Prediction(uid=45, iid=25, r_ui=8409.669300699301, est=182527.95601398603, details={'was_impossible': False}), Prediction(uid=11, iid=44, r_ui=5414.242097902098, est=182527.95601398603, details={'was_impossible': False}), Prediction(uid=26, iid=16, r_ui=12557.32034965035, est=182527.95601398603, details={'was_impossible': False}), Prediction(uid=15, iid=19, r_ui=1117.3504895104895, est=182527.95601398603, details={'was_impossible': False}), Prediction(uid=35, iid=32, r_ui=7872.417272727273, est=182527.95601398603, details={'was_impossible': False}), Prediction(uid=43, iid=6, r_ui=37.84324561403509, est=182527.95601398603, details={'was_impossible': False}), Prediction(uid=1, iid=24, r_ui=6187.38972027972, est=182527.95601398603, details={'was_impossible': False}), Prediction(uid=5, iid=28, r_ui=203.28237762237762, est=182527.95601398603, details={'was_impossible': False}), Prediction(uid=2, iid=9, r_ui=34375.864475524475, est=182527.95601398603, details={'was_impossible': False}), Prediction(uid=37, iid=85, r_ui=127.90496503496503, est=182527.95601398603, details={'was_impossible': False}), Prediction(uid=40, iid=32, r_ui=4532.5034965034965, est=182527.95601398603, details={'was_impossible': False}), Prediction(uid=28, iid=55, r_ui=10960.007552447552, est=182527.95601398603, details={'was_impossible': False}), Prediction(uid=12, iid=18, r_ui=9893.141315789475, est=182527.95601398603, details={'was_impossible': False}), Prediction(uid=32, iid=6, r_ui=4589.748391608392, est=182527.95601398603, details={'was_impossible': False}), Prediction(uid=34, iid=97, r_ui=17570.57748251748, est=182527.95601398603, details={'was_impossible': False}), Prediction(uid=36, iid=55, r_ui=128.96190476190478, est=182527.95601398603, details={'was_impossible': False}), Prediction(uid=26, iid=31, r_ui=1269.01993006993, est=182527.95601398603, details={'was_impossible': False}), Prediction(uid=24, iid=36, r_ui=1940.5183916083915, est=182527.95601398603, details={'was_impossible': False}), Prediction(uid=3, iid=60, r_ui=138.12587412587413, est=182527.95601398603, details={'was_impossible': False}), Prediction(uid=39, iid=28, r_ui=622.2608391608392, est=182527.95601398603, details={'was_impossible': False}), Prediction(uid=23, iid=95, r_ui=54199.08832167832, est=182527.95601398603, details={'was_impossible': False}), Prediction(uid=41, iid=9, r_ui=32743.470139860143, est=182527.95601398603, details={'was_impossible': False}), Prediction(uid=29, iid=23, r_ui=19722.253636363635, est=182527.95601398603, details={'was_impossible': False}), Prediction(uid=5, iid=11, r_ui=7389.049440559441, est=182527.95601398603, details={'was_impossible': False}), Prediction(uid=44, iid=20, r_ui=31.559714285714282, est=182527.95601398603, details={'was_impossible': False}), Prediction(uid=21, iid=49, r_ui=10646.975664335665, est=182527.95601398603, details={'was_impossible': False}), Prediction(uid=39, iid=67, r_ui=11633.406573426573, est=182527.95601398603, details={'was_impossible': False}), Prediction(uid=40, iid=7, r_ui=18898.214335664336, est=182527.95601398603, details={'was_impossible': False}), Prediction(uid=35, iid=97, r_ui=3738.2925174825173, est=182527.95601398603, details={'was_impossible': False}), Prediction(uid=22, iid=79, r_ui=16913.783146853148, est=182527.95601398603, details={'was_impossible': False}), Prediction(uid=17, iid=51, r_ui=18.565, est=182527.95601398603, details={'was_impossible': False}), Prediction(uid=30, iid=83, r_ui=1803.6416083916083, est=182527.95601398603, details={'was_impossible': False}), Prediction(uid=30, iid=10, r_ui=196.1169230769231, est=182527.95601398603, details={'was_impossible': False}), Prediction(uid=45, iid=71, r_ui=4396.411328671328, est=182527.95601398603, details={'was_impossible': False}), Prediction(uid=39, iid=35, r_ui=2057.284055944056, est=182527.95601398603, details={'was_impossible': False}), Prediction(uid=26, iid=7, r_ui=16287.65853146853, est=182527.95601398603, details={'was_impossible': False}), Prediction(uid=21, iid=6, r_ui=3988.6562937062936, est=182527.95601398603, details={'was_impossible': False}), Prediction(uid=1, iid=56, r_ui=4000.4806293706292, est=182527.95601398603, details={'was_impossible': False}), Prediction(uid=45, iid=83, r_ui=824.5827972027972, est=182527.95601398603, details={'was_impossible': False}), Prediction(uid=9, iid=45, r_ui=14.957647058823529, est=182527.95601398603, details={'was_impossible': False}), Prediction(uid=28, iid=33, r_ui=8378.118391608392, est=182527.95601398603, details={'was_impossible': False}), Prediction(uid=35, iid=10, r_ui=14818.443706293707, est=182527.95601398603, details={'was_impossible': False}), Prediction(uid=28, iid=44, r_ui=4490.995384615384, est=182527.95601398603, details={'was_impossible': False}), Prediction(uid=19, iid=30, r_ui=4690.908321678322, est=182527.95601398603, details={'was_impossible': False}), Prediction(uid=19, iid=39, r_ui=15.23111111111111, est=182527.95601398603, details={'was_impossible': False}), Prediction(uid=33, iid=55, r_ui=32.76229508196721, est=182527.95601398603, details={'was_impossible': False}), Prediction(uid=39, iid=4, r_ui=44807.51510489511, est=182527.95601398603, details={'was_impossible': False}), Prediction(uid=3, iid=20, r_ui=1682.1992307692308, est=182527.95601398603, details={'was_impossible': False}), Prediction(uid=19, iid=2, r_ui=50841.072937062934, est=182527.95601398603, details={'was_impossible': False}), Prediction(uid=8, iid=95, r_ui=62951.46370629371, est=182527.95601398603, details={'was_impossible': False}), Prediction(uid=27, iid=58, r_ui=1538.5384615384614, est=182527.95601398603, details={'was_impossible': False}), Prediction(uid=43, iid=8, r_ui=13185.211678321679, est=182527.95601398603, details={'was_impossible': False}), Prediction(uid=11, iid=80, r_ui=13446.621538461537, est=182527.95601398603, details={'was_impossible': False}), Prediction(uid=35, iid=11, r_ui=17897.42188811189, est=182527.95601398603, details={'was_impossible': False}), Prediction(uid=20, iid=24, r_ui=8309.914825174825, est=182527.95601398603, details={'was_impossible': False}), Prediction(uid=41, iid=21, r_ui=5066.603636363636, est=182527.95601398603, details={'was_impossible': False}), Prediction(uid=14, iid=36, r_ui=3415.6436363636362, est=182527.95601398603, details={'was_impossible': False}), Prediction(uid=16, iid=55, r_ui=7090.456153846154, est=182527.95601398603, details={'was_impossible': False}), Prediction(uid=30, iid=17, r_ui=153.27783333333335, est=182527.95601398603, details={'was_impossible': False}), Prediction(uid=10, iid=3, r_ui=32086.18146853147, est=182527.95601398603, details={'was_impossible': False}), Prediction(uid=44, iid=82, r_ui=3882.9426573426576, est=182527.95601398603, details={'was_impossible': False}), Prediction(uid=40, iid=45, r_ui=18.241607142857145, est=182527.95601398603, details={'was_impossible': False}), Prediction(uid=33, iid=17, r_ui=297.0311888111888, est=182527.95601398603, details={'was_impossible': False}), Prediction(uid=9, iid=96, r_ui=3596.107762237762, est=182527.95601398603, details={'was_impossible': False}), Prediction(uid=42, iid=96, r_ui=15183.474195804196, est=182527.95601398603, details={'was_impossible': False}), Prediction(uid=42, iid=38, r_ui=38834.04342657343, est=182527.95601398603, details={'was_impossible': False}), Prediction(uid=19, iid=14, r_ui=18478.815734265732, est=182527.95601398603, details={'was_impossible': False}), Prediction(uid=5, iid=96, r_ui=5985.671118881119, est=182527.95601398603, details={'was_impossible': False}), Prediction(uid=11, iid=28, r_ui=912.481958041958, est=182527.95601398603, details={'was_impossible': False}), Prediction(uid=24, iid=47, r_ui=-26.92142857142857, est=182527.95601398603, details={'was_impossible': False}), Prediction(uid=45, iid=35, r_ui=2647.2838461538463, est=182527.95601398603, details={'was_impossible': False}), Prediction(uid=45, iid=13, r_ui=27243.504615384616, est=182527.95601398603, details={'was_impossible': False}), Prediction(uid=32, iid=21, r_ui=5054.996643356643, est=182527.95601398603, details={'was_impossible': False}), Prediction(uid=22, iid=26, r_ui=8375.324475524474, est=182527.95601398603, details={'was_impossible': False}), Prediction(uid=29, iid=36, r_ui=1125.3719580419581, est=182527.95601398603, details={'was_impossible': False}), Prediction(uid=18, iid=99, r_ui=12.559999999999999, est=182527.95601398603, details={'was_impossible': False}), Prediction(uid=20, iid=20, r_ui=6992.899720279721, est=182527.95601398603, details={'was_impossible': False}), Prediction(uid=12, iid=42, r_ui=5995.964685314685, est=182527.95601398603, details={'was_impossible': False}), Prediction(uid=35, iid=46, r_ui=16286.060069930068, est=182527.95601398603, details={'was_impossible': False}), Prediction(uid=32, iid=80, r_ui=16749.993776223775, est=182527.95601398603, details={'was_impossible': False}), Prediction(uid=30, iid=95, r_ui=45456.508321678324, est=182527.95601398603, details={'was_impossible': False}), Prediction(uid=16, iid=34, r_ui=4906.217692307692, est=182527.95601398603, details={'was_impossible': False}), Prediction(uid=2, iid=48, r_ui=1358.3479136690646, est=182527.95601398603, details={'was_impossible': False}), Prediction(uid=21, iid=77, r_ui=326.0, est=182527.95601398603, details={'was_impossible': False}), Prediction(uid=28, iid=78, r_ui=10.08, est=182527.95601398603, details={'was_impossible': False}), Prediction(uid=1, iid=98, r_ui=11827.770769230769, est=182527.95601398603, details={'was_impossible': False}), Prediction(uid=2, iid=33, r_ui=7488.096993006994, est=182527.95601398603, details={'was_impossible': False}), Prediction(uid=8, iid=82, r_ui=14826.027482517484, est=182527.95601398603, details={'was_impossible': False}), Prediction(uid=44, iid=74, r_ui=430.9837062937063, est=182527.95601398603, details={'was_impossible': False}), Prediction(uid=6, iid=2, r_ui=50269.43727272727, est=182527.95601398603, details={'was_impossible': False}), Prediction(uid=8, iid=52, r_ui=1945.2155944055946, est=182527.95601398603, details={'was_impossible': False}), Prediction(uid=44, iid=7, r_ui=531.0348951048951, est=182527.95601398603, details={'was_impossible': False}), Prediction(uid=10, iid=87, r_ui=24066.091538461536, est=182527.95601398603, details={'was_impossible': False}), Prediction(uid=32, iid=1, r_ui=22852.639510489513, est=182527.95601398603, details={'was_impossible': False}), Prediction(uid=3, iid=18, r_ui=2960.677739130435, est=182527.95601398603, details={'was_impossible': False}), Prediction(uid=2, iid=59, r_ui=1391.5205594405595, est=182527.95601398603, details={'was_impossible': False}), Prediction(uid=20, iid=42, r_ui=8970.767272727273, est=182527.95601398603, details={'was_impossible': False}), Prediction(uid=7, iid=7, r_ui=10925.757062937064, est=182527.95601398603, details={'was_impossible': False}), Prediction(uid=40, iid=96, r_ui=15309.077972027972, est=182527.95601398603, details={'was_impossible': False}), Prediction(uid=22, iid=81, r_ui=12368.9093006993, est=182527.95601398603, details={'was_impossible': False}), Prediction(uid=26, iid=14, r_ui=10843.478881118881, est=182527.95601398603, details={'was_impossible': False}), Prediction(uid=28, iid=29, r_ui=5349.592517482517, est=182527.95601398603, details={'was_impossible': False}), Prediction(uid=32, iid=81, r_ui=17124.83811188811, est=182527.95601398603, details={'was_impossible': False})]\n"
          ]
        }
      ]
    },
    {
      "cell_type": "markdown",
      "metadata": {
        "id": "EyNgTHvd2WFk"
      },
      "source": [
        "## ***8.***  Personalized Marketing Strategies"
      ]
    },
    {
      "cell_type": "markdown",
      "metadata": {
        "id": "W-bvnXIkNUXU"
      },
      "source": [
        "Segment Stores by Performance & Demographics\n",
        "\n",
        "High-performing stores: Already strong demand; customers may be less price-sensitive.\n",
        "\n",
        "Strategy → Fewer markdowns, focus on premium bundles, exclusive launches and loyalty rewards.\n",
        "\n",
        "Medium-performing stores: Moderate demand, room for growth.\n",
        "\n",
        "Strategy → Targeted markdown campaigns on popular categories, cross-sell with personalized coupons.\n",
        "\n",
        "Low-performing stores: Struggle with sales volume, higher price sensitivity.\n",
        "\n",
        "Strategy → Aggressive markdowns, Buy One Get One offers, and festive promotions to boost footfall and reduce inventory."
      ]
    },
    {
      "cell_type": "markdown",
      "metadata": {
        "id": "ISZrN-vRNUJT"
      },
      "source": [
        "2. Markdown-Based Personalization\n",
        "\n",
        "Holiday Seasons (high sales weeks):\n",
        "\n",
        "Offer category-specific markdowns (e.g., toys, apparel, electronics) aligned with seasonal demand.\n",
        "\n",
        "Personalized digital flyers via SMS/email highlighting relevant discounts for each customer segment.\n",
        "\n",
        "Off-Peak Weeks:\n",
        "\n",
        "Run “surprise markdown” campaigns to stimulate demand.\n",
        "\n",
        "Leverage customer history → If a shopper buys groceries often, push discounts on complementary items (e.g., 10% off cleaning products with food purchases)."
      ]
    },
    {
      "cell_type": "markdown",
      "metadata": {
        "id": "WhmxuldUOsbq"
      },
      "source": [
        "3. Customer Targeting Strategies\n",
        "\n",
        "Price-Sensitive Customers (frequent markdown buyers):\n",
        "\n",
        "Send early-access discount alerts and bundle deals.\n",
        "\n",
        "High-Spend Loyal Customers:\n",
        "\n",
        "Focus less on markdowns; provide exclusive previews, cashback rewards, or premium loyalty perks.\n",
        "\n",
        "Occasional Shoppers:\n",
        "\n",
        "Offer time-limited markdowns to trigger urgency."
      ]
    },
    {
      "cell_type": "markdown",
      "metadata": {
        "id": "ETIpHXbYO9sZ"
      },
      "source": [
        "4. Omnichannel Execution\n",
        "\n",
        "In-store: Digital kiosks displaying personalized promotions by scanning loyalty cards.\n",
        "\n",
        "Online: Tailored recommendation engines → “You might like these discounted products based on your past purchases.”\n",
        "\n",
        "Push Notifications/Email: Dynamic markdown-based campaigns triggered by customer behavior (e.g., cart abandonment → send discount on those items)."
      ]
    },
    {
      "cell_type": "markdown",
      "metadata": {
        "id": "kQ7dRc3tO9-z"
      },
      "source": [
        "5. Data-Driven Optimization\n",
        "\n",
        "Use historical sales + markdown response data to:\n",
        "\n",
        "Identify optimal discount depth (e.g., 20% vs 40%).\n",
        "\n",
        "Forecast sales uplift vs margin erosion.\n",
        "\n",
        "Run A/B tests across store segments to refine personalization."
      ]
    },
    {
      "cell_type": "markdown",
      "metadata": {
        "id": "nc2LVfjAPmEW"
      },
      "source": [
        "#9. Comprehensive Retail Strategy and its Challenges:\n"
      ]
    },
    {
      "cell_type": "markdown",
      "metadata": {
        "id": "6JeWWCTZUhSd"
      },
      "source": [
        "1. Inventory Management Strategy\n",
        "\n",
        "Insights leveraged:\n",
        "\n",
        "Seasonality in sales (some months consistently higher).\n",
        "\n",
        "Store-level demand differences.\n",
        "\n",
        "External factors (fuel price, unemployment, CPI show moderate relationships).\n",
        "\n",
        "Actions:\n",
        "\n",
        "Demand Forecasting: Use ML models (time series + external regressors like CPI, unemployment, fuel price) for store-level demand prediction.\n",
        "\n",
        "Dynamic Replenishment: Automate stock replenishment based on real-time sales velocity and predicted demand.\n",
        "\n",
        "Markdown-linked Inventory Control: Apply markdowns strategically on overstocked items or slow movers (instead of blanket discounting).\n",
        "\n",
        "Safety Stock Adjustments: Adjust buffer stock based on store performance — high-volume stores keep higher safety stock.\n",
        "\n",
        "Challenges:\n",
        "\n",
        "Forecasting errors due to economic volatility (fuel price, inflation).\n",
        "\n",
        "Logistics constraints in timely delivery.\n",
        "\n",
        "Overdependence on markdowns may distort inventory cycles."
      ]
    },
    {
      "cell_type": "markdown",
      "metadata": {
        "id": "8TTynYWOUhGn"
      },
      "source": [
        "2. Marketing & Personalization Strategy\n",
        "\n",
        "Insights leveraged:\n",
        "\n",
        "Store sales heatmap shows high-performing vs low-performing outlets.\n",
        "\n",
        "Weak correlation between weekly sales and external factors → promotions should rely more on behavioral/customer data.\n",
        "\n",
        "Actions:\n",
        "\n",
        "Segmented Markdown Promotions:\n",
        "\n",
        "High-performing stores → targeted markdowns only during low-demand months.\n",
        "\n",
        "Low-performing stores → continuous micro-promotions (bundle deals, loyalty points).\n",
        "\n",
        "Customer Personalization: Use purchase history & loyalty program data for tailored promotions (e.g., personalized coupons on items frequently bought).\n",
        "\n",
        "Cross-Selling & Bundling: Bundle high-demand and slow-moving products to reduce dead stock.\n",
        "\n",
        "Event-Based Marketing: Push markdowns during holidays/festivals when price sensitivity is higher.\n",
        "\n",
        "Challenges:\n",
        "\n",
        "Customers may get habituated to discounts.\n",
        "\n",
        "Difficulty in syncing promotions across offline and online channels.\n",
        "\n",
        "Privacy issues if personalization feels too intrusive."
      ]
    },
    {
      "cell_type": "markdown",
      "metadata": {
        "id": "FBtWSsCtUhAE"
      },
      "source": [
        "3. Store Optimization Strategy\n",
        "\n",
        "Insights leveraged:\n",
        "\n",
        "Significant variation in store performance (some consistently outperform).\n",
        "\n",
        "Monthly trend → seasonality + regional demand differences.\n",
        "\n",
        "Actions:\n",
        "\n",
        "Store Segmentation:\n",
        "\n",
        "Tier 1 stores (high sales, high traffic) → focus on premium SKUs, brand visibility, and limited markdowns.\n",
        "\n",
        "Tier 2 stores (moderate performance) → mix of markdowns, bundling, and local marketing.\n",
        "\n",
        "Tier 3 stores (low-performing) → aggressive local promotions, staff training, and operational efficiency.\n",
        "\n",
        "Staff Training & Incentives: Train store managers in data-driven decision-making; link incentives to markdown efficiency, not just sales volume.\n",
        "\n",
        "Layout & Category Optimization: Place high-margin products in prominent zones; align in-store displays with demand cycles.\n",
        "\n",
        "Digital Integration: Enable mobile-based loyalty apps, QR discounts, and in-store digital kiosks for promotions.\n",
        "\n",
        "Challenges:\n",
        "\n",
        "Operational inconsistency across stores.\n",
        "\n",
        "Resistance from staff to adopt new tech-driven processes.\n",
        "\n",
        "High-performing stores may resist markdown strategies that could dilute brand perception."
      ]
    },
    {
      "cell_type": "markdown",
      "metadata": {
        "id": "gCX9965dhzqZ"
      },
      "source": [
        "# **Conclusion**"
      ]
    },
    {
      "cell_type": "markdown",
      "metadata": {
        "id": "Fjb1IsQkh3yE"
      },
      "source": [
        "Thus, we were able to analyze this situation and find solutions to improve the sales across departments."
      ]
    }
  ],
  "metadata": {
    "colab": {
      "provenance": []
    },
    "kernelspec": {
      "display_name": "Python 3",
      "name": "python3"
    },
    "language_info": {
      "name": "python"
    }
  },
  "nbformat": 4,
  "nbformat_minor": 0
}